{
 "cells": [
  {
   "cell_type": "markdown",
   "metadata": {},
   "source": [
    "# **<h3 align=\"center\">Machine Learning 2024-25</h3>**\n",
    "## **<h3 align=\"center\">To Grant or Not to Grant: Deciding on Compensation Benefits</h3>**\n",
    "\n",
    "\n",
    "**Group 38 members:**<br>\n",
    "Ana Marta Azinheira  - 20240496@novaims.unl.pt<br>\n",
    "Braulio Damba - 20240007@novaims.unl.pt<br>\n",
    "Henry Tirla  - 20221016@novaims.unl.pt<br>\n",
    "Marco Galão  - r20201545@novaims.unl.pt<br>\n",
    "Rodrigo Sardinha - 20211627@novaims.unl.pt<br>"
   ]
  },
  {
   "cell_type": "markdown",
   "metadata": {},
   "source": [
    "<a id = \"toc\"></a>\n",
    "\n",
    "# Table of Contents\n",
    "\n",
    "* [1. Import the Libraries](#import_the_libraries)\n",
    "* [2. Import the Dataset](#import_the_dataset)\n",
    "* [3. Description of the Dataset’s Structure](#dataset_structure)\n",
    "* [4. Exploring the Dataset](#exploration)\n",
    "    * [4.1. Constant Features](#constant_features)\n",
    "    * [4.2. Duplicates](#duplicates)\n",
    "    * [4.3. Missing Values](#missing_values)\n",
    "    * [4.4. Data Types](#data_types)\n",
    "    * [4.5. Inconsistencies](#inconsistencies)\n",
    "    * [4.6. Outliers](#outliers)\n",
    "* [5. Creating New Features](#chapter4)\n",
    "    * [5.1.](#sub_section_4_2_1)\n",
    "    * [5.2.](#sub_section_4_2_2)\n",
    "    * [5.3.](#sub_section_4_2_3)\n",
    "* [6. Correlation Matrix](#section_5_2)"
   ]
  },
  {
   "cell_type": "markdown",
   "metadata": {},
   "source": [
    "# QUESTÕES\n",
    "- Não consigo dividir o data set pq existem muitos missing values. \n",
    "- A forma mais correta é substituir esses Nan de forma neutra, tipo = 0, e depois dividir, e depois corrigir da melhor forma?\n",
    "- Outra questão, tenho que fazer isto no train data e no test data? "
   ]
  },
  {
   "cell_type": "markdown",
   "metadata": {},
   "source": [
    "# 1. Import the Libraries <a class=\"anchor\" id=\"import_the_libraries\"></a>\n"
   ]
  },
  {
   "cell_type": "code",
   "execution_count": 321,
   "metadata": {},
   "outputs": [],
   "source": [
    "import pandas as pd\n",
    "import numpy as np\n",
    "from sklearn.tree import DecisionTreeClassifier\n",
    "from sklearn.model_selection import train_test_split\n",
    "from sklearn.metrics import confusion_matrix\n",
    "\n",
    "import matplotlib.pyplot as plt\n",
    "import seaborn as sns\n",
    "import plotly as pl\n",
    "import bokeh as bk\n",
    "import sqlite3\n",
    "import os\n",
    "from math import ceil\n",
    "\n",
    "import warnings\n",
    "warnings.filterwarnings(\"ignore\")\n",
    "\n",
    "%config InlineBackend.figure_format = 'retina'\n",
    "\n",
    "sns.set()"
   ]
  },
  {
   "cell_type": "markdown",
   "metadata": {},
   "source": [
    "# 2. Import the DataSet <a class=\"anchor\" id=\"import_the_dataset\"></a>"
   ]
  },
  {
   "cell_type": "code",
   "execution_count": 322,
   "metadata": {},
   "outputs": [],
   "source": [
    "df_train = pd.read_csv('../data/train_data.csv', sep=',')"
   ]
  },
  {
   "cell_type": "code",
   "execution_count": 323,
   "metadata": {},
   "outputs": [],
   "source": [
    "#importing the test dataset\n",
    "df_test = pd.read_csv('../data/test_data.csv', sep=',')"
   ]
  },
  {
   "cell_type": "markdown",
   "metadata": {},
   "source": [
    "# 3. Description of the Dataset’s Structure <a class=\"anchor\" id=\"dataset_structure\"></a>"
   ]
  },
  {
   "cell_type": "markdown",
   "metadata": {},
   "source": [
    "- *Accident Date* - Injury date of the claim.\n",
    "\n",
    "- *Age at Injury* - Age of injured worker when the injury occurred.\n",
    "    \n",
    "- *Alternative Dispute Resolution* - Adjudication processes external to the Board.\n",
    "\n",
    "- *Assembly Date* - The date the claim was first assembled.\n",
    "    \n",
    "- *Attorney/Representative* - Is the claim being represented by an Attorney?\n",
    "\n",
    "- *Average Weekly Wage* - The wage used to calculate workers’ compensation, disability, or an Paid Leave wage replacement benefits.\n",
    "\n",
    "- *Birth Year* - The reported year of birth of the injured worker.\n",
    "    \n",
    "- *C-2 Date* - Date of receipt of the Employer's Report of Work-Related Injury/Illness or equivalent (formerly Form C-2).\n",
    "    \n",
    "- *C-3 Date* - Date Form C-3 (Employee Claim Form) was received.\n",
    "    \n",
    "- *Carrier Name* - Name of primary insurance provider responsible for providing workers’ compensation coverage to the injured worker’s employer.\n",
    "    \n",
    "- *Carrier Type* - Type of primary insurance provider responsible for providing workers’ compensation coverage.\n",
    "\n",
    "- *Claim Identifier* - Unique identifier for each claim, assigned by WCB.\n",
    "\n",
    "- *County of Injury* - Name of the New York County where the injury occurred.\n",
    "\n",
    "- *COVID-19 Indicator* - Indication that the claim may be associated with COVID-19.\n",
    "\n",
    "- *District Name* - Name of the WCB district office that oversees claims for that region or area of the state.\n",
    "\n",
    "- *First Hearing Date* - Date the first hearing was held on a claim at a WCB hearing location. A blank date means the claim has not yet had a hearing held.\n",
    "\n",
    "- *Gender* - The reported gender of the injured worker.\n",
    "\n",
    "- *IME-4 Count* - Number of IME-4 forms received per claim. The IME-4 form is the “Independent Examiner's Report of Independent Medical Examination” form.\n",
    "\n",
    "- *Industry Code* - NAICS code and descriptions are available at: https://www.naics.com/search-naics-codes-by-industry/.\n",
    "\n",
    "- *Industry Code Description* - 2-digit NAICS industry code description used to classify businesses according to their economic activity.\n",
    "\n",
    "- *Medical Fee Region* - Approximate region where the injured worker would receive medical service.\n",
    "\n",
    "- *OIICS Nature of Injury Description* - The OIICS nature of injury codes & descriptions are available at https://www.bls.gov/iif/oiics_manual_2007.pdf.\n",
    "\n",
    "- *WCIO Cause of Injury Code* - The WCIO cause of injury codes & descriptions are at https://www.wcio.org/Active%20PNC/WCIO_Cause_Table.pdf\n",
    "\n",
    "- *WCIO Cause of Injury Description* - See description of field above.\n",
    "\n",
    "- *WCIO Nature of Injury Code* - The WCIO nature of injury are available at https://www.wcio.org/Active%20PNC/WCIO_Nature_Table.pdf\n",
    "\n",
    "- *WCIO Nature of Injury Description* - See description of field above.\n",
    "\n",
    "- *WCIO Part Of Body Code* - The WCIO part of body codes & descriptions are available at https://www.wcio.org/Active%20PNC/WCIO_Part_Table.pdf\n",
    "\n",
    "- *WCIO Part Of Body Description* - See description of field above.\n",
    "\n",
    "- *Zip Code* - The reported ZIP code of the injured worker’s home address.\n",
    "\n",
    "- *Agreement Reached* - Binary variable: Yes if there is an agreement without the involvement of the WCB -> unknown at the start of a claim.\n",
    "\n",
    "- *WCB Decision* - Multiclass variable: Decision of the WCB relative to the claim: “Accident” means that claim refers to workplace accident, “Occupational Disease” means illness from the workplace. -> requires WCB deliberation so it is unknown at start of claim.\n",
    "\n",
    "- *Claim Injury Type* - Main target variable: Deliberation of the WCB relative to benefits awarded to the claim. Numbering indicates severity."
   ]
  },
  {
   "cell_type": "markdown",
   "metadata": {},
   "source": [
    "# 4. Exploring the DataSet <a class=\"anchor\" id=\"exploration\"></a>"
   ]
  },
  {
   "cell_type": "code",
   "execution_count": 324,
   "metadata": {},
   "outputs": [
    {
     "data": {
      "text/plain": [
       "(593471, 33)"
      ]
     },
     "execution_count": 324,
     "metadata": {},
     "output_type": "execute_result"
    }
   ],
   "source": [
    "df_train.shape"
   ]
  },
  {
   "cell_type": "code",
   "execution_count": 325,
   "metadata": {},
   "outputs": [
    {
     "data": {
      "text/html": [
       "<div>\n",
       "<style scoped>\n",
       "    .dataframe tbody tr th:only-of-type {\n",
       "        vertical-align: middle;\n",
       "    }\n",
       "\n",
       "    .dataframe tbody tr th {\n",
       "        vertical-align: top;\n",
       "    }\n",
       "\n",
       "    .dataframe thead th {\n",
       "        text-align: right;\n",
       "    }\n",
       "</style>\n",
       "<table border=\"1\" class=\"dataframe\">\n",
       "  <thead>\n",
       "    <tr style=\"text-align: right;\">\n",
       "      <th></th>\n",
       "      <th>0</th>\n",
       "      <th>1</th>\n",
       "      <th>2</th>\n",
       "      <th>3</th>\n",
       "      <th>4</th>\n",
       "    </tr>\n",
       "  </thead>\n",
       "  <tbody>\n",
       "    <tr>\n",
       "      <th>Accident Date</th>\n",
       "      <td>2019-12-30</td>\n",
       "      <td>2019-08-30</td>\n",
       "      <td>2019-12-06</td>\n",
       "      <td>NaN</td>\n",
       "      <td>2019-12-30</td>\n",
       "    </tr>\n",
       "    <tr>\n",
       "      <th>Age at Injury</th>\n",
       "      <td>31.0</td>\n",
       "      <td>46.0</td>\n",
       "      <td>40.0</td>\n",
       "      <td>NaN</td>\n",
       "      <td>61.0</td>\n",
       "    </tr>\n",
       "    <tr>\n",
       "      <th>Alternative Dispute Resolution</th>\n",
       "      <td>N</td>\n",
       "      <td>N</td>\n",
       "      <td>N</td>\n",
       "      <td>NaN</td>\n",
       "      <td>N</td>\n",
       "    </tr>\n",
       "    <tr>\n",
       "      <th>Assembly Date</th>\n",
       "      <td>2020-01-01</td>\n",
       "      <td>2020-01-01</td>\n",
       "      <td>2020-01-01</td>\n",
       "      <td>2020-01-01</td>\n",
       "      <td>2020-01-01</td>\n",
       "    </tr>\n",
       "    <tr>\n",
       "      <th>Attorney/Representative</th>\n",
       "      <td>N</td>\n",
       "      <td>Y</td>\n",
       "      <td>N</td>\n",
       "      <td>NaN</td>\n",
       "      <td>N</td>\n",
       "    </tr>\n",
       "    <tr>\n",
       "      <th>Average Weekly Wage</th>\n",
       "      <td>0.0</td>\n",
       "      <td>1745.93</td>\n",
       "      <td>1434.8</td>\n",
       "      <td>NaN</td>\n",
       "      <td>NaN</td>\n",
       "    </tr>\n",
       "    <tr>\n",
       "      <th>Birth Year</th>\n",
       "      <td>1988.0</td>\n",
       "      <td>1973.0</td>\n",
       "      <td>1979.0</td>\n",
       "      <td>NaN</td>\n",
       "      <td>1958.0</td>\n",
       "    </tr>\n",
       "    <tr>\n",
       "      <th>C-2 Date</th>\n",
       "      <td>2019-12-31</td>\n",
       "      <td>2020-01-01</td>\n",
       "      <td>2020-01-01</td>\n",
       "      <td>NaN</td>\n",
       "      <td>2019-12-31</td>\n",
       "    </tr>\n",
       "    <tr>\n",
       "      <th>C-3 Date</th>\n",
       "      <td>NaN</td>\n",
       "      <td>2020-01-14</td>\n",
       "      <td>NaN</td>\n",
       "      <td>NaN</td>\n",
       "      <td>NaN</td>\n",
       "    </tr>\n",
       "    <tr>\n",
       "      <th>Carrier Name</th>\n",
       "      <td>NEW HAMPSHIRE INSURANCE CO</td>\n",
       "      <td>ZURICH AMERICAN INSURANCE CO</td>\n",
       "      <td>INDEMNITY INSURANCE CO OF</td>\n",
       "      <td>NaN</td>\n",
       "      <td>STATE INSURANCE FUND</td>\n",
       "    </tr>\n",
       "    <tr>\n",
       "      <th>Carrier Type</th>\n",
       "      <td>1A. PRIVATE</td>\n",
       "      <td>1A. PRIVATE</td>\n",
       "      <td>1A. PRIVATE</td>\n",
       "      <td>NaN</td>\n",
       "      <td>2A. SIF</td>\n",
       "    </tr>\n",
       "    <tr>\n",
       "      <th>Claim Identifier</th>\n",
       "      <td>5393875</td>\n",
       "      <td>5393091</td>\n",
       "      <td>5393889</td>\n",
       "      <td>957648180</td>\n",
       "      <td>5393887</td>\n",
       "    </tr>\n",
       "    <tr>\n",
       "      <th>Claim Injury Type</th>\n",
       "      <td>2. NON-COMP</td>\n",
       "      <td>4. TEMPORARY</td>\n",
       "      <td>4. TEMPORARY</td>\n",
       "      <td>NaN</td>\n",
       "      <td>2. NON-COMP</td>\n",
       "    </tr>\n",
       "    <tr>\n",
       "      <th>County of Injury</th>\n",
       "      <td>ST. LAWRENCE</td>\n",
       "      <td>WYOMING</td>\n",
       "      <td>ORANGE</td>\n",
       "      <td>NaN</td>\n",
       "      <td>DUTCHESS</td>\n",
       "    </tr>\n",
       "    <tr>\n",
       "      <th>COVID-19 Indicator</th>\n",
       "      <td>N</td>\n",
       "      <td>N</td>\n",
       "      <td>N</td>\n",
       "      <td>NaN</td>\n",
       "      <td>N</td>\n",
       "    </tr>\n",
       "    <tr>\n",
       "      <th>District Name</th>\n",
       "      <td>SYRACUSE</td>\n",
       "      <td>ROCHESTER</td>\n",
       "      <td>ALBANY</td>\n",
       "      <td>NaN</td>\n",
       "      <td>ALBANY</td>\n",
       "    </tr>\n",
       "    <tr>\n",
       "      <th>First Hearing Date</th>\n",
       "      <td>NaN</td>\n",
       "      <td>2020-02-21</td>\n",
       "      <td>NaN</td>\n",
       "      <td>NaN</td>\n",
       "      <td>NaN</td>\n",
       "    </tr>\n",
       "    <tr>\n",
       "      <th>Gender</th>\n",
       "      <td>M</td>\n",
       "      <td>F</td>\n",
       "      <td>M</td>\n",
       "      <td>NaN</td>\n",
       "      <td>M</td>\n",
       "    </tr>\n",
       "    <tr>\n",
       "      <th>IME-4 Count</th>\n",
       "      <td>NaN</td>\n",
       "      <td>4.0</td>\n",
       "      <td>NaN</td>\n",
       "      <td>NaN</td>\n",
       "      <td>NaN</td>\n",
       "    </tr>\n",
       "    <tr>\n",
       "      <th>Industry Code</th>\n",
       "      <td>44.0</td>\n",
       "      <td>23.0</td>\n",
       "      <td>56.0</td>\n",
       "      <td>NaN</td>\n",
       "      <td>62.0</td>\n",
       "    </tr>\n",
       "    <tr>\n",
       "      <th>Industry Code Description</th>\n",
       "      <td>RETAIL TRADE</td>\n",
       "      <td>CONSTRUCTION</td>\n",
       "      <td>ADMINISTRATIVE AND SUPPORT AND WASTE MANAGEMEN...</td>\n",
       "      <td>NaN</td>\n",
       "      <td>HEALTH CARE AND SOCIAL ASSISTANCE</td>\n",
       "    </tr>\n",
       "    <tr>\n",
       "      <th>Medical Fee Region</th>\n",
       "      <td>I</td>\n",
       "      <td>I</td>\n",
       "      <td>II</td>\n",
       "      <td>NaN</td>\n",
       "      <td>II</td>\n",
       "    </tr>\n",
       "    <tr>\n",
       "      <th>OIICS Nature of Injury Description</th>\n",
       "      <td>NaN</td>\n",
       "      <td>NaN</td>\n",
       "      <td>NaN</td>\n",
       "      <td>NaN</td>\n",
       "      <td>NaN</td>\n",
       "    </tr>\n",
       "    <tr>\n",
       "      <th>WCIO Cause of Injury Code</th>\n",
       "      <td>27.0</td>\n",
       "      <td>97.0</td>\n",
       "      <td>79.0</td>\n",
       "      <td>NaN</td>\n",
       "      <td>16.0</td>\n",
       "    </tr>\n",
       "    <tr>\n",
       "      <th>WCIO Cause of Injury Description</th>\n",
       "      <td>FROM LIQUID OR GREASE SPILLS</td>\n",
       "      <td>REPETITIVE MOTION</td>\n",
       "      <td>OBJECT BEING LIFTED OR HANDLED</td>\n",
       "      <td>NaN</td>\n",
       "      <td>HAND TOOL, UTENSIL; NOT POWERED</td>\n",
       "    </tr>\n",
       "    <tr>\n",
       "      <th>WCIO Nature of Injury Code</th>\n",
       "      <td>10.0</td>\n",
       "      <td>49.0</td>\n",
       "      <td>7.0</td>\n",
       "      <td>NaN</td>\n",
       "      <td>43.0</td>\n",
       "    </tr>\n",
       "    <tr>\n",
       "      <th>WCIO Nature of Injury Description</th>\n",
       "      <td>CONTUSION</td>\n",
       "      <td>SPRAIN OR TEAR</td>\n",
       "      <td>CONCUSSION</td>\n",
       "      <td>NaN</td>\n",
       "      <td>PUNCTURE</td>\n",
       "    </tr>\n",
       "    <tr>\n",
       "      <th>WCIO Part Of Body Code</th>\n",
       "      <td>62.0</td>\n",
       "      <td>38.0</td>\n",
       "      <td>10.0</td>\n",
       "      <td>NaN</td>\n",
       "      <td>36.0</td>\n",
       "    </tr>\n",
       "    <tr>\n",
       "      <th>WCIO Part Of Body Description</th>\n",
       "      <td>BUTTOCKS</td>\n",
       "      <td>SHOULDER(S)</td>\n",
       "      <td>MULTIPLE HEAD INJURY</td>\n",
       "      <td>NaN</td>\n",
       "      <td>FINGER(S)</td>\n",
       "    </tr>\n",
       "    <tr>\n",
       "      <th>Zip Code</th>\n",
       "      <td>13662</td>\n",
       "      <td>14569</td>\n",
       "      <td>12589</td>\n",
       "      <td>NaN</td>\n",
       "      <td>12603</td>\n",
       "    </tr>\n",
       "    <tr>\n",
       "      <th>Agreement Reached</th>\n",
       "      <td>0.0</td>\n",
       "      <td>1.0</td>\n",
       "      <td>0.0</td>\n",
       "      <td>NaN</td>\n",
       "      <td>0.0</td>\n",
       "    </tr>\n",
       "    <tr>\n",
       "      <th>WCB Decision</th>\n",
       "      <td>Not Work Related</td>\n",
       "      <td>Not Work Related</td>\n",
       "      <td>Not Work Related</td>\n",
       "      <td>NaN</td>\n",
       "      <td>Not Work Related</td>\n",
       "    </tr>\n",
       "    <tr>\n",
       "      <th>Number of Dependents</th>\n",
       "      <td>1.0</td>\n",
       "      <td>4.0</td>\n",
       "      <td>6.0</td>\n",
       "      <td>NaN</td>\n",
       "      <td>1.0</td>\n",
       "    </tr>\n",
       "  </tbody>\n",
       "</table>\n",
       "</div>"
      ],
      "text/plain": [
       "                                                               0  \\\n",
       "Accident Date                                         2019-12-30   \n",
       "Age at Injury                                               31.0   \n",
       "Alternative Dispute Resolution                                 N   \n",
       "Assembly Date                                         2020-01-01   \n",
       "Attorney/Representative                                        N   \n",
       "Average Weekly Wage                                          0.0   \n",
       "Birth Year                                                1988.0   \n",
       "C-2 Date                                              2019-12-31   \n",
       "C-3 Date                                                     NaN   \n",
       "Carrier Name                          NEW HAMPSHIRE INSURANCE CO   \n",
       "Carrier Type                                         1A. PRIVATE   \n",
       "Claim Identifier                                         5393875   \n",
       "Claim Injury Type                                    2. NON-COMP   \n",
       "County of Injury                                    ST. LAWRENCE   \n",
       "COVID-19 Indicator                                             N   \n",
       "District Name                                           SYRACUSE   \n",
       "First Hearing Date                                           NaN   \n",
       "Gender                                                         M   \n",
       "IME-4 Count                                                  NaN   \n",
       "Industry Code                                               44.0   \n",
       "Industry Code Description                           RETAIL TRADE   \n",
       "Medical Fee Region                                             I   \n",
       "OIICS Nature of Injury Description                           NaN   \n",
       "WCIO Cause of Injury Code                                   27.0   \n",
       "WCIO Cause of Injury Description    FROM LIQUID OR GREASE SPILLS   \n",
       "WCIO Nature of Injury Code                                  10.0   \n",
       "WCIO Nature of Injury Description                      CONTUSION   \n",
       "WCIO Part Of Body Code                                      62.0   \n",
       "WCIO Part Of Body Description                           BUTTOCKS   \n",
       "Zip Code                                                   13662   \n",
       "Agreement Reached                                            0.0   \n",
       "WCB Decision                                    Not Work Related   \n",
       "Number of Dependents                                         1.0   \n",
       "\n",
       "                                                               1  \\\n",
       "Accident Date                                         2019-08-30   \n",
       "Age at Injury                                               46.0   \n",
       "Alternative Dispute Resolution                                 N   \n",
       "Assembly Date                                         2020-01-01   \n",
       "Attorney/Representative                                        Y   \n",
       "Average Weekly Wage                                      1745.93   \n",
       "Birth Year                                                1973.0   \n",
       "C-2 Date                                              2020-01-01   \n",
       "C-3 Date                                              2020-01-14   \n",
       "Carrier Name                        ZURICH AMERICAN INSURANCE CO   \n",
       "Carrier Type                                         1A. PRIVATE   \n",
       "Claim Identifier                                         5393091   \n",
       "Claim Injury Type                                   4. TEMPORARY   \n",
       "County of Injury                                         WYOMING   \n",
       "COVID-19 Indicator                                             N   \n",
       "District Name                                          ROCHESTER   \n",
       "First Hearing Date                                    2020-02-21   \n",
       "Gender                                                         F   \n",
       "IME-4 Count                                                  4.0   \n",
       "Industry Code                                               23.0   \n",
       "Industry Code Description                           CONSTRUCTION   \n",
       "Medical Fee Region                                             I   \n",
       "OIICS Nature of Injury Description                           NaN   \n",
       "WCIO Cause of Injury Code                                   97.0   \n",
       "WCIO Cause of Injury Description               REPETITIVE MOTION   \n",
       "WCIO Nature of Injury Code                                  49.0   \n",
       "WCIO Nature of Injury Description                 SPRAIN OR TEAR   \n",
       "WCIO Part Of Body Code                                      38.0   \n",
       "WCIO Part Of Body Description                        SHOULDER(S)   \n",
       "Zip Code                                                   14569   \n",
       "Agreement Reached                                            1.0   \n",
       "WCB Decision                                    Not Work Related   \n",
       "Number of Dependents                                         4.0   \n",
       "\n",
       "                                                                                    2  \\\n",
       "Accident Date                                                              2019-12-06   \n",
       "Age at Injury                                                                    40.0   \n",
       "Alternative Dispute Resolution                                                      N   \n",
       "Assembly Date                                                              2020-01-01   \n",
       "Attorney/Representative                                                             N   \n",
       "Average Weekly Wage                                                            1434.8   \n",
       "Birth Year                                                                     1979.0   \n",
       "C-2 Date                                                                   2020-01-01   \n",
       "C-3 Date                                                                          NaN   \n",
       "Carrier Name                                                INDEMNITY INSURANCE CO OF   \n",
       "Carrier Type                                                              1A. PRIVATE   \n",
       "Claim Identifier                                                              5393889   \n",
       "Claim Injury Type                                                        4. TEMPORARY   \n",
       "County of Injury                                                               ORANGE   \n",
       "COVID-19 Indicator                                                                  N   \n",
       "District Name                                                                  ALBANY   \n",
       "First Hearing Date                                                                NaN   \n",
       "Gender                                                                              M   \n",
       "IME-4 Count                                                                       NaN   \n",
       "Industry Code                                                                    56.0   \n",
       "Industry Code Description           ADMINISTRATIVE AND SUPPORT AND WASTE MANAGEMEN...   \n",
       "Medical Fee Region                                                                 II   \n",
       "OIICS Nature of Injury Description                                                NaN   \n",
       "WCIO Cause of Injury Code                                                        79.0   \n",
       "WCIO Cause of Injury Description                       OBJECT BEING LIFTED OR HANDLED   \n",
       "WCIO Nature of Injury Code                                                        7.0   \n",
       "WCIO Nature of Injury Description                                          CONCUSSION   \n",
       "WCIO Part Of Body Code                                                           10.0   \n",
       "WCIO Part Of Body Description                                    MULTIPLE HEAD INJURY   \n",
       "Zip Code                                                                        12589   \n",
       "Agreement Reached                                                                 0.0   \n",
       "WCB Decision                                                         Not Work Related   \n",
       "Number of Dependents                                                              6.0   \n",
       "\n",
       "                                             3  \\\n",
       "Accident Date                              NaN   \n",
       "Age at Injury                              NaN   \n",
       "Alternative Dispute Resolution             NaN   \n",
       "Assembly Date                       2020-01-01   \n",
       "Attorney/Representative                    NaN   \n",
       "Average Weekly Wage                        NaN   \n",
       "Birth Year                                 NaN   \n",
       "C-2 Date                                   NaN   \n",
       "C-3 Date                                   NaN   \n",
       "Carrier Name                               NaN   \n",
       "Carrier Type                               NaN   \n",
       "Claim Identifier                     957648180   \n",
       "Claim Injury Type                          NaN   \n",
       "County of Injury                           NaN   \n",
       "COVID-19 Indicator                         NaN   \n",
       "District Name                              NaN   \n",
       "First Hearing Date                         NaN   \n",
       "Gender                                     NaN   \n",
       "IME-4 Count                                NaN   \n",
       "Industry Code                              NaN   \n",
       "Industry Code Description                  NaN   \n",
       "Medical Fee Region                         NaN   \n",
       "OIICS Nature of Injury Description         NaN   \n",
       "WCIO Cause of Injury Code                  NaN   \n",
       "WCIO Cause of Injury Description           NaN   \n",
       "WCIO Nature of Injury Code                 NaN   \n",
       "WCIO Nature of Injury Description          NaN   \n",
       "WCIO Part Of Body Code                     NaN   \n",
       "WCIO Part Of Body Description              NaN   \n",
       "Zip Code                                   NaN   \n",
       "Agreement Reached                          NaN   \n",
       "WCB Decision                               NaN   \n",
       "Number of Dependents                       NaN   \n",
       "\n",
       "                                                                    4  \n",
       "Accident Date                                              2019-12-30  \n",
       "Age at Injury                                                    61.0  \n",
       "Alternative Dispute Resolution                                      N  \n",
       "Assembly Date                                              2020-01-01  \n",
       "Attorney/Representative                                             N  \n",
       "Average Weekly Wage                                               NaN  \n",
       "Birth Year                                                     1958.0  \n",
       "C-2 Date                                                   2019-12-31  \n",
       "C-3 Date                                                          NaN  \n",
       "Carrier Name                                     STATE INSURANCE FUND  \n",
       "Carrier Type                                                  2A. SIF  \n",
       "Claim Identifier                                              5393887  \n",
       "Claim Injury Type                                         2. NON-COMP  \n",
       "County of Injury                                             DUTCHESS  \n",
       "COVID-19 Indicator                                                  N  \n",
       "District Name                                                  ALBANY  \n",
       "First Hearing Date                                                NaN  \n",
       "Gender                                                              M  \n",
       "IME-4 Count                                                       NaN  \n",
       "Industry Code                                                    62.0  \n",
       "Industry Code Description           HEALTH CARE AND SOCIAL ASSISTANCE  \n",
       "Medical Fee Region                                                 II  \n",
       "OIICS Nature of Injury Description                                NaN  \n",
       "WCIO Cause of Injury Code                                        16.0  \n",
       "WCIO Cause of Injury Description      HAND TOOL, UTENSIL; NOT POWERED  \n",
       "WCIO Nature of Injury Code                                       43.0  \n",
       "WCIO Nature of Injury Description                            PUNCTURE  \n",
       "WCIO Part Of Body Code                                           36.0  \n",
       "WCIO Part Of Body Description                               FINGER(S)  \n",
       "Zip Code                                                        12603  \n",
       "Agreement Reached                                                 0.0  \n",
       "WCB Decision                                         Not Work Related  \n",
       "Number of Dependents                                              1.0  "
      ]
     },
     "execution_count": 325,
     "metadata": {},
     "output_type": "execute_result"
    }
   ],
   "source": [
    "df_train.head().T"
   ]
  },
  {
   "cell_type": "code",
   "execution_count": 326,
   "metadata": {},
   "outputs": [
    {
     "data": {
      "text/html": [
       "<div>\n",
       "<style scoped>\n",
       "    .dataframe tbody tr th:only-of-type {\n",
       "        vertical-align: middle;\n",
       "    }\n",
       "\n",
       "    .dataframe tbody tr th {\n",
       "        vertical-align: top;\n",
       "    }\n",
       "\n",
       "    .dataframe thead th {\n",
       "        text-align: right;\n",
       "    }\n",
       "</style>\n",
       "<table border=\"1\" class=\"dataframe\">\n",
       "  <thead>\n",
       "    <tr style=\"text-align: right;\">\n",
       "      <th></th>\n",
       "      <th>593466</th>\n",
       "      <th>593467</th>\n",
       "      <th>593468</th>\n",
       "      <th>593469</th>\n",
       "      <th>593470</th>\n",
       "    </tr>\n",
       "  </thead>\n",
       "  <tbody>\n",
       "    <tr>\n",
       "      <th>Accident Date</th>\n",
       "      <td>NaN</td>\n",
       "      <td>2022-12-13</td>\n",
       "      <td>NaN</td>\n",
       "      <td>NaN</td>\n",
       "      <td>NaN</td>\n",
       "    </tr>\n",
       "    <tr>\n",
       "      <th>Age at Injury</th>\n",
       "      <td>NaN</td>\n",
       "      <td>72.0</td>\n",
       "      <td>NaN</td>\n",
       "      <td>NaN</td>\n",
       "      <td>NaN</td>\n",
       "    </tr>\n",
       "    <tr>\n",
       "      <th>Alternative Dispute Resolution</th>\n",
       "      <td>NaN</td>\n",
       "      <td>N</td>\n",
       "      <td>NaN</td>\n",
       "      <td>NaN</td>\n",
       "      <td>NaN</td>\n",
       "    </tr>\n",
       "    <tr>\n",
       "      <th>Assembly Date</th>\n",
       "      <td>2022-12-31</td>\n",
       "      <td>2022-12-31</td>\n",
       "      <td>2022-12-31</td>\n",
       "      <td>2022-12-31</td>\n",
       "      <td>2022-12-31</td>\n",
       "    </tr>\n",
       "    <tr>\n",
       "      <th>Attorney/Representative</th>\n",
       "      <td>NaN</td>\n",
       "      <td>N</td>\n",
       "      <td>NaN</td>\n",
       "      <td>NaN</td>\n",
       "      <td>NaN</td>\n",
       "    </tr>\n",
       "    <tr>\n",
       "      <th>Average Weekly Wage</th>\n",
       "      <td>NaN</td>\n",
       "      <td>0.0</td>\n",
       "      <td>NaN</td>\n",
       "      <td>NaN</td>\n",
       "      <td>NaN</td>\n",
       "    </tr>\n",
       "    <tr>\n",
       "      <th>Birth Year</th>\n",
       "      <td>NaN</td>\n",
       "      <td>1950.0</td>\n",
       "      <td>NaN</td>\n",
       "      <td>NaN</td>\n",
       "      <td>NaN</td>\n",
       "    </tr>\n",
       "    <tr>\n",
       "      <th>C-2 Date</th>\n",
       "      <td>NaN</td>\n",
       "      <td>2022-12-31</td>\n",
       "      <td>NaN</td>\n",
       "      <td>NaN</td>\n",
       "      <td>NaN</td>\n",
       "    </tr>\n",
       "    <tr>\n",
       "      <th>C-3 Date</th>\n",
       "      <td>NaN</td>\n",
       "      <td>NaN</td>\n",
       "      <td>NaN</td>\n",
       "      <td>NaN</td>\n",
       "      <td>NaN</td>\n",
       "    </tr>\n",
       "    <tr>\n",
       "      <th>Carrier Name</th>\n",
       "      <td>NaN</td>\n",
       "      <td>TECHNOLOGY INSURANCE CO. INC.</td>\n",
       "      <td>NaN</td>\n",
       "      <td>NaN</td>\n",
       "      <td>NaN</td>\n",
       "    </tr>\n",
       "    <tr>\n",
       "      <th>Carrier Type</th>\n",
       "      <td>NaN</td>\n",
       "      <td>1A. PRIVATE</td>\n",
       "      <td>NaN</td>\n",
       "      <td>NaN</td>\n",
       "      <td>NaN</td>\n",
       "    </tr>\n",
       "    <tr>\n",
       "      <th>Claim Identifier</th>\n",
       "      <td>327160035</td>\n",
       "      <td>6165075</td>\n",
       "      <td>249875936</td>\n",
       "      <td>120584215</td>\n",
       "      <td>818961390</td>\n",
       "    </tr>\n",
       "    <tr>\n",
       "      <th>Claim Injury Type</th>\n",
       "      <td>NaN</td>\n",
       "      <td>2. NON-COMP</td>\n",
       "      <td>NaN</td>\n",
       "      <td>NaN</td>\n",
       "      <td>NaN</td>\n",
       "    </tr>\n",
       "    <tr>\n",
       "      <th>County of Injury</th>\n",
       "      <td>NaN</td>\n",
       "      <td>SULLIVAN</td>\n",
       "      <td>NaN</td>\n",
       "      <td>NaN</td>\n",
       "      <td>NaN</td>\n",
       "    </tr>\n",
       "    <tr>\n",
       "      <th>COVID-19 Indicator</th>\n",
       "      <td>NaN</td>\n",
       "      <td>N</td>\n",
       "      <td>NaN</td>\n",
       "      <td>NaN</td>\n",
       "      <td>NaN</td>\n",
       "    </tr>\n",
       "    <tr>\n",
       "      <th>District Name</th>\n",
       "      <td>NaN</td>\n",
       "      <td>BINGHAMTON</td>\n",
       "      <td>NaN</td>\n",
       "      <td>NaN</td>\n",
       "      <td>NaN</td>\n",
       "    </tr>\n",
       "    <tr>\n",
       "      <th>First Hearing Date</th>\n",
       "      <td>NaN</td>\n",
       "      <td>NaN</td>\n",
       "      <td>NaN</td>\n",
       "      <td>NaN</td>\n",
       "      <td>NaN</td>\n",
       "    </tr>\n",
       "    <tr>\n",
       "      <th>Gender</th>\n",
       "      <td>NaN</td>\n",
       "      <td>F</td>\n",
       "      <td>NaN</td>\n",
       "      <td>NaN</td>\n",
       "      <td>NaN</td>\n",
       "    </tr>\n",
       "    <tr>\n",
       "      <th>IME-4 Count</th>\n",
       "      <td>NaN</td>\n",
       "      <td>NaN</td>\n",
       "      <td>NaN</td>\n",
       "      <td>NaN</td>\n",
       "      <td>NaN</td>\n",
       "    </tr>\n",
       "    <tr>\n",
       "      <th>Industry Code</th>\n",
       "      <td>NaN</td>\n",
       "      <td>48.0</td>\n",
       "      <td>NaN</td>\n",
       "      <td>NaN</td>\n",
       "      <td>NaN</td>\n",
       "    </tr>\n",
       "    <tr>\n",
       "      <th>Industry Code Description</th>\n",
       "      <td>NaN</td>\n",
       "      <td>TRANSPORTATION AND WAREHOUSING</td>\n",
       "      <td>NaN</td>\n",
       "      <td>NaN</td>\n",
       "      <td>NaN</td>\n",
       "    </tr>\n",
       "    <tr>\n",
       "      <th>Medical Fee Region</th>\n",
       "      <td>NaN</td>\n",
       "      <td>I</td>\n",
       "      <td>NaN</td>\n",
       "      <td>NaN</td>\n",
       "      <td>NaN</td>\n",
       "    </tr>\n",
       "    <tr>\n",
       "      <th>OIICS Nature of Injury Description</th>\n",
       "      <td>NaN</td>\n",
       "      <td>NaN</td>\n",
       "      <td>NaN</td>\n",
       "      <td>NaN</td>\n",
       "      <td>NaN</td>\n",
       "    </tr>\n",
       "    <tr>\n",
       "      <th>WCIO Cause of Injury Code</th>\n",
       "      <td>NaN</td>\n",
       "      <td>25.0</td>\n",
       "      <td>NaN</td>\n",
       "      <td>NaN</td>\n",
       "      <td>NaN</td>\n",
       "    </tr>\n",
       "    <tr>\n",
       "      <th>WCIO Cause of Injury Description</th>\n",
       "      <td>NaN</td>\n",
       "      <td>FROM DIFFERENT LEVEL (ELEVATION)</td>\n",
       "      <td>NaN</td>\n",
       "      <td>NaN</td>\n",
       "      <td>NaN</td>\n",
       "    </tr>\n",
       "    <tr>\n",
       "      <th>WCIO Nature of Injury Code</th>\n",
       "      <td>NaN</td>\n",
       "      <td>90.0</td>\n",
       "      <td>NaN</td>\n",
       "      <td>NaN</td>\n",
       "      <td>NaN</td>\n",
       "    </tr>\n",
       "    <tr>\n",
       "      <th>WCIO Nature of Injury Description</th>\n",
       "      <td>NaN</td>\n",
       "      <td>MULTIPLE PHYSICAL INJURIES ONLY</td>\n",
       "      <td>NaN</td>\n",
       "      <td>NaN</td>\n",
       "      <td>NaN</td>\n",
       "    </tr>\n",
       "    <tr>\n",
       "      <th>WCIO Part Of Body Code</th>\n",
       "      <td>NaN</td>\n",
       "      <td>-9.0</td>\n",
       "      <td>NaN</td>\n",
       "      <td>NaN</td>\n",
       "      <td>NaN</td>\n",
       "    </tr>\n",
       "    <tr>\n",
       "      <th>WCIO Part Of Body Description</th>\n",
       "      <td>NaN</td>\n",
       "      <td>MULTIPLE</td>\n",
       "      <td>NaN</td>\n",
       "      <td>NaN</td>\n",
       "      <td>NaN</td>\n",
       "    </tr>\n",
       "    <tr>\n",
       "      <th>Zip Code</th>\n",
       "      <td>NaN</td>\n",
       "      <td>12779</td>\n",
       "      <td>NaN</td>\n",
       "      <td>NaN</td>\n",
       "      <td>NaN</td>\n",
       "    </tr>\n",
       "    <tr>\n",
       "      <th>Agreement Reached</th>\n",
       "      <td>NaN</td>\n",
       "      <td>0.0</td>\n",
       "      <td>NaN</td>\n",
       "      <td>NaN</td>\n",
       "      <td>NaN</td>\n",
       "    </tr>\n",
       "    <tr>\n",
       "      <th>WCB Decision</th>\n",
       "      <td>NaN</td>\n",
       "      <td>Not Work Related</td>\n",
       "      <td>NaN</td>\n",
       "      <td>NaN</td>\n",
       "      <td>NaN</td>\n",
       "    </tr>\n",
       "    <tr>\n",
       "      <th>Number of Dependents</th>\n",
       "      <td>NaN</td>\n",
       "      <td>3.0</td>\n",
       "      <td>NaN</td>\n",
       "      <td>NaN</td>\n",
       "      <td>NaN</td>\n",
       "    </tr>\n",
       "  </tbody>\n",
       "</table>\n",
       "</div>"
      ],
      "text/plain": [
       "                                        593466  \\\n",
       "Accident Date                              NaN   \n",
       "Age at Injury                              NaN   \n",
       "Alternative Dispute Resolution             NaN   \n",
       "Assembly Date                       2022-12-31   \n",
       "Attorney/Representative                    NaN   \n",
       "Average Weekly Wage                        NaN   \n",
       "Birth Year                                 NaN   \n",
       "C-2 Date                                   NaN   \n",
       "C-3 Date                                   NaN   \n",
       "Carrier Name                               NaN   \n",
       "Carrier Type                               NaN   \n",
       "Claim Identifier                     327160035   \n",
       "Claim Injury Type                          NaN   \n",
       "County of Injury                           NaN   \n",
       "COVID-19 Indicator                         NaN   \n",
       "District Name                              NaN   \n",
       "First Hearing Date                         NaN   \n",
       "Gender                                     NaN   \n",
       "IME-4 Count                                NaN   \n",
       "Industry Code                              NaN   \n",
       "Industry Code Description                  NaN   \n",
       "Medical Fee Region                         NaN   \n",
       "OIICS Nature of Injury Description         NaN   \n",
       "WCIO Cause of Injury Code                  NaN   \n",
       "WCIO Cause of Injury Description           NaN   \n",
       "WCIO Nature of Injury Code                 NaN   \n",
       "WCIO Nature of Injury Description          NaN   \n",
       "WCIO Part Of Body Code                     NaN   \n",
       "WCIO Part Of Body Description              NaN   \n",
       "Zip Code                                   NaN   \n",
       "Agreement Reached                          NaN   \n",
       "WCB Decision                               NaN   \n",
       "Number of Dependents                       NaN   \n",
       "\n",
       "                                                              593467  \\\n",
       "Accident Date                                             2022-12-13   \n",
       "Age at Injury                                                   72.0   \n",
       "Alternative Dispute Resolution                                     N   \n",
       "Assembly Date                                             2022-12-31   \n",
       "Attorney/Representative                                            N   \n",
       "Average Weekly Wage                                              0.0   \n",
       "Birth Year                                                    1950.0   \n",
       "C-2 Date                                                  2022-12-31   \n",
       "C-3 Date                                                         NaN   \n",
       "Carrier Name                           TECHNOLOGY INSURANCE CO. INC.   \n",
       "Carrier Type                                             1A. PRIVATE   \n",
       "Claim Identifier                                             6165075   \n",
       "Claim Injury Type                                        2. NON-COMP   \n",
       "County of Injury                                            SULLIVAN   \n",
       "COVID-19 Indicator                                                 N   \n",
       "District Name                                             BINGHAMTON   \n",
       "First Hearing Date                                               NaN   \n",
       "Gender                                                             F   \n",
       "IME-4 Count                                                      NaN   \n",
       "Industry Code                                                   48.0   \n",
       "Industry Code Description             TRANSPORTATION AND WAREHOUSING   \n",
       "Medical Fee Region                                                 I   \n",
       "OIICS Nature of Injury Description                               NaN   \n",
       "WCIO Cause of Injury Code                                       25.0   \n",
       "WCIO Cause of Injury Description    FROM DIFFERENT LEVEL (ELEVATION)   \n",
       "WCIO Nature of Injury Code                                      90.0   \n",
       "WCIO Nature of Injury Description    MULTIPLE PHYSICAL INJURIES ONLY   \n",
       "WCIO Part Of Body Code                                          -9.0   \n",
       "WCIO Part Of Body Description                               MULTIPLE   \n",
       "Zip Code                                                       12779   \n",
       "Agreement Reached                                                0.0   \n",
       "WCB Decision                                        Not Work Related   \n",
       "Number of Dependents                                             3.0   \n",
       "\n",
       "                                        593468      593469      593470  \n",
       "Accident Date                              NaN         NaN         NaN  \n",
       "Age at Injury                              NaN         NaN         NaN  \n",
       "Alternative Dispute Resolution             NaN         NaN         NaN  \n",
       "Assembly Date                       2022-12-31  2022-12-31  2022-12-31  \n",
       "Attorney/Representative                    NaN         NaN         NaN  \n",
       "Average Weekly Wage                        NaN         NaN         NaN  \n",
       "Birth Year                                 NaN         NaN         NaN  \n",
       "C-2 Date                                   NaN         NaN         NaN  \n",
       "C-3 Date                                   NaN         NaN         NaN  \n",
       "Carrier Name                               NaN         NaN         NaN  \n",
       "Carrier Type                               NaN         NaN         NaN  \n",
       "Claim Identifier                     249875936   120584215   818961390  \n",
       "Claim Injury Type                          NaN         NaN         NaN  \n",
       "County of Injury                           NaN         NaN         NaN  \n",
       "COVID-19 Indicator                         NaN         NaN         NaN  \n",
       "District Name                              NaN         NaN         NaN  \n",
       "First Hearing Date                         NaN         NaN         NaN  \n",
       "Gender                                     NaN         NaN         NaN  \n",
       "IME-4 Count                                NaN         NaN         NaN  \n",
       "Industry Code                              NaN         NaN         NaN  \n",
       "Industry Code Description                  NaN         NaN         NaN  \n",
       "Medical Fee Region                         NaN         NaN         NaN  \n",
       "OIICS Nature of Injury Description         NaN         NaN         NaN  \n",
       "WCIO Cause of Injury Code                  NaN         NaN         NaN  \n",
       "WCIO Cause of Injury Description           NaN         NaN         NaN  \n",
       "WCIO Nature of Injury Code                 NaN         NaN         NaN  \n",
       "WCIO Nature of Injury Description          NaN         NaN         NaN  \n",
       "WCIO Part Of Body Code                     NaN         NaN         NaN  \n",
       "WCIO Part Of Body Description              NaN         NaN         NaN  \n",
       "Zip Code                                   NaN         NaN         NaN  \n",
       "Agreement Reached                          NaN         NaN         NaN  \n",
       "WCB Decision                               NaN         NaN         NaN  \n",
       "Number of Dependents                       NaN         NaN         NaN  "
      ]
     },
     "execution_count": 326,
     "metadata": {},
     "output_type": "execute_result"
    }
   ],
   "source": [
    "df_train.tail().T"
   ]
  },
  {
   "cell_type": "code",
   "execution_count": 327,
   "metadata": {},
   "outputs": [
    {
     "name": "stdout",
     "output_type": "stream",
     "text": [
      "<class 'pandas.core.frame.DataFrame'>\n",
      "RangeIndex: 593471 entries, 0 to 593470\n",
      "Data columns (total 33 columns):\n",
      " #   Column                              Non-Null Count   Dtype  \n",
      "---  ------                              --------------   -----  \n",
      " 0   Accident Date                       570337 non-null  object \n",
      " 1   Age at Injury                       574026 non-null  float64\n",
      " 2   Alternative Dispute Resolution      574026 non-null  object \n",
      " 3   Assembly Date                       593471 non-null  object \n",
      " 4   Attorney/Representative             574026 non-null  object \n",
      " 5   Average Weekly Wage                 545375 non-null  float64\n",
      " 6   Birth Year                          544948 non-null  float64\n",
      " 7   C-2 Date                            559466 non-null  object \n",
      " 8   C-3 Date                            187245 non-null  object \n",
      " 9   Carrier Name                        574026 non-null  object \n",
      " 10  Carrier Type                        574026 non-null  object \n",
      " 11  Claim Identifier                    593471 non-null  int64  \n",
      " 12  Claim Injury Type                   574026 non-null  object \n",
      " 13  County of Injury                    574026 non-null  object \n",
      " 14  COVID-19 Indicator                  574026 non-null  object \n",
      " 15  District Name                       574026 non-null  object \n",
      " 16  First Hearing Date                  150798 non-null  object \n",
      " 17  Gender                              574026 non-null  object \n",
      " 18  IME-4 Count                         132803 non-null  float64\n",
      " 19  Industry Code                       564068 non-null  float64\n",
      " 20  Industry Code Description           564068 non-null  object \n",
      " 21  Medical Fee Region                  574026 non-null  object \n",
      " 22  OIICS Nature of Injury Description  0 non-null       float64\n",
      " 23  WCIO Cause of Injury Code           558386 non-null  float64\n",
      " 24  WCIO Cause of Injury Description    558386 non-null  object \n",
      " 25  WCIO Nature of Injury Code          558369 non-null  float64\n",
      " 26  WCIO Nature of Injury Description   558369 non-null  object \n",
      " 27  WCIO Part Of Body Code              556944 non-null  float64\n",
      " 28  WCIO Part Of Body Description       556944 non-null  object \n",
      " 29  Zip Code                            545389 non-null  object \n",
      " 30  Agreement Reached                   574026 non-null  float64\n",
      " 31  WCB Decision                        574026 non-null  object \n",
      " 32  Number of Dependents                574026 non-null  float64\n",
      "dtypes: float64(11), int64(1), object(21)\n",
      "memory usage: 149.4+ MB\n"
     ]
    }
   ],
   "source": [
    "#checking the data types of the variables of the training dataset and if there are any missing values\n",
    "df_train.info()"
   ]
  },
  {
   "cell_type": "markdown",
   "metadata": {},
   "source": [
    "- From this information, we can see that the variables 'Assembly Date' and 'Claim Identifier' have no missing values."
   ]
  },
  {
   "cell_type": "code",
   "execution_count": 328,
   "metadata": {},
   "outputs": [
    {
     "data": {
      "text/html": [
       "<div>\n",
       "<style scoped>\n",
       "    .dataframe tbody tr th:only-of-type {\n",
       "        vertical-align: middle;\n",
       "    }\n",
       "\n",
       "    .dataframe tbody tr th {\n",
       "        vertical-align: top;\n",
       "    }\n",
       "\n",
       "    .dataframe thead th {\n",
       "        text-align: right;\n",
       "    }\n",
       "</style>\n",
       "<table border=\"1\" class=\"dataframe\">\n",
       "  <thead>\n",
       "    <tr style=\"text-align: right;\">\n",
       "      <th></th>\n",
       "      <th>count</th>\n",
       "      <th>mean</th>\n",
       "      <th>std</th>\n",
       "      <th>min</th>\n",
       "      <th>25%</th>\n",
       "      <th>50%</th>\n",
       "      <th>75%</th>\n",
       "      <th>max</th>\n",
       "    </tr>\n",
       "  </thead>\n",
       "  <tbody>\n",
       "    <tr>\n",
       "      <th>Age at Injury</th>\n",
       "      <td>574026.0</td>\n",
       "      <td>42.11</td>\n",
       "      <td>1.426000e+01</td>\n",
       "      <td>0.0</td>\n",
       "      <td>31.0</td>\n",
       "      <td>42.0</td>\n",
       "      <td>54.0</td>\n",
       "      <td>117.0</td>\n",
       "    </tr>\n",
       "    <tr>\n",
       "      <th>Average Weekly Wage</th>\n",
       "      <td>545375.0</td>\n",
       "      <td>491.09</td>\n",
       "      <td>6.092920e+03</td>\n",
       "      <td>0.0</td>\n",
       "      <td>0.0</td>\n",
       "      <td>0.0</td>\n",
       "      <td>841.0</td>\n",
       "      <td>2828079.0</td>\n",
       "    </tr>\n",
       "    <tr>\n",
       "      <th>Birth Year</th>\n",
       "      <td>544948.0</td>\n",
       "      <td>1886.77</td>\n",
       "      <td>4.146400e+02</td>\n",
       "      <td>0.0</td>\n",
       "      <td>1965.0</td>\n",
       "      <td>1977.0</td>\n",
       "      <td>1989.0</td>\n",
       "      <td>2018.0</td>\n",
       "    </tr>\n",
       "    <tr>\n",
       "      <th>Claim Identifier</th>\n",
       "      <td>593471.0</td>\n",
       "      <td>23667598.79</td>\n",
       "      <td>1.079271e+08</td>\n",
       "      <td>5393066.0</td>\n",
       "      <td>5593414.5</td>\n",
       "      <td>5791212.0</td>\n",
       "      <td>5991000.5</td>\n",
       "      <td>999891667.0</td>\n",
       "    </tr>\n",
       "    <tr>\n",
       "      <th>IME-4 Count</th>\n",
       "      <td>132803.0</td>\n",
       "      <td>3.21</td>\n",
       "      <td>2.830000e+00</td>\n",
       "      <td>1.0</td>\n",
       "      <td>1.0</td>\n",
       "      <td>2.0</td>\n",
       "      <td>4.0</td>\n",
       "      <td>73.0</td>\n",
       "    </tr>\n",
       "    <tr>\n",
       "      <th>Industry Code</th>\n",
       "      <td>564068.0</td>\n",
       "      <td>58.65</td>\n",
       "      <td>1.964000e+01</td>\n",
       "      <td>11.0</td>\n",
       "      <td>45.0</td>\n",
       "      <td>61.0</td>\n",
       "      <td>71.0</td>\n",
       "      <td>92.0</td>\n",
       "    </tr>\n",
       "    <tr>\n",
       "      <th>OIICS Nature of Injury Description</th>\n",
       "      <td>0.0</td>\n",
       "      <td>NaN</td>\n",
       "      <td>NaN</td>\n",
       "      <td>NaN</td>\n",
       "      <td>NaN</td>\n",
       "      <td>NaN</td>\n",
       "      <td>NaN</td>\n",
       "      <td>NaN</td>\n",
       "    </tr>\n",
       "    <tr>\n",
       "      <th>WCIO Cause of Injury Code</th>\n",
       "      <td>558386.0</td>\n",
       "      <td>54.38</td>\n",
       "      <td>2.587000e+01</td>\n",
       "      <td>1.0</td>\n",
       "      <td>31.0</td>\n",
       "      <td>56.0</td>\n",
       "      <td>75.0</td>\n",
       "      <td>99.0</td>\n",
       "    </tr>\n",
       "    <tr>\n",
       "      <th>WCIO Nature of Injury Code</th>\n",
       "      <td>558369.0</td>\n",
       "      <td>41.01</td>\n",
       "      <td>2.221000e+01</td>\n",
       "      <td>1.0</td>\n",
       "      <td>16.0</td>\n",
       "      <td>49.0</td>\n",
       "      <td>52.0</td>\n",
       "      <td>91.0</td>\n",
       "    </tr>\n",
       "    <tr>\n",
       "      <th>WCIO Part Of Body Code</th>\n",
       "      <td>556944.0</td>\n",
       "      <td>39.74</td>\n",
       "      <td>2.237000e+01</td>\n",
       "      <td>-9.0</td>\n",
       "      <td>33.0</td>\n",
       "      <td>38.0</td>\n",
       "      <td>53.0</td>\n",
       "      <td>99.0</td>\n",
       "    </tr>\n",
       "    <tr>\n",
       "      <th>Agreement Reached</th>\n",
       "      <td>574026.0</td>\n",
       "      <td>0.05</td>\n",
       "      <td>2.100000e-01</td>\n",
       "      <td>0.0</td>\n",
       "      <td>0.0</td>\n",
       "      <td>0.0</td>\n",
       "      <td>0.0</td>\n",
       "      <td>1.0</td>\n",
       "    </tr>\n",
       "    <tr>\n",
       "      <th>Number of Dependents</th>\n",
       "      <td>574026.0</td>\n",
       "      <td>3.01</td>\n",
       "      <td>2.000000e+00</td>\n",
       "      <td>0.0</td>\n",
       "      <td>1.0</td>\n",
       "      <td>3.0</td>\n",
       "      <td>5.0</td>\n",
       "      <td>6.0</td>\n",
       "    </tr>\n",
       "  </tbody>\n",
       "</table>\n",
       "</div>"
      ],
      "text/plain": [
       "                                       count         mean           std  \\\n",
       "Age at Injury                       574026.0        42.11  1.426000e+01   \n",
       "Average Weekly Wage                 545375.0       491.09  6.092920e+03   \n",
       "Birth Year                          544948.0      1886.77  4.146400e+02   \n",
       "Claim Identifier                    593471.0  23667598.79  1.079271e+08   \n",
       "IME-4 Count                         132803.0         3.21  2.830000e+00   \n",
       "Industry Code                       564068.0        58.65  1.964000e+01   \n",
       "OIICS Nature of Injury Description       0.0          NaN           NaN   \n",
       "WCIO Cause of Injury Code           558386.0        54.38  2.587000e+01   \n",
       "WCIO Nature of Injury Code          558369.0        41.01  2.221000e+01   \n",
       "WCIO Part Of Body Code              556944.0        39.74  2.237000e+01   \n",
       "Agreement Reached                   574026.0         0.05  2.100000e-01   \n",
       "Number of Dependents                574026.0         3.01  2.000000e+00   \n",
       "\n",
       "                                          min        25%        50%  \\\n",
       "Age at Injury                             0.0       31.0       42.0   \n",
       "Average Weekly Wage                       0.0        0.0        0.0   \n",
       "Birth Year                                0.0     1965.0     1977.0   \n",
       "Claim Identifier                    5393066.0  5593414.5  5791212.0   \n",
       "IME-4 Count                               1.0        1.0        2.0   \n",
       "Industry Code                            11.0       45.0       61.0   \n",
       "OIICS Nature of Injury Description        NaN        NaN        NaN   \n",
       "WCIO Cause of Injury Code                 1.0       31.0       56.0   \n",
       "WCIO Nature of Injury Code                1.0       16.0       49.0   \n",
       "WCIO Part Of Body Code                   -9.0       33.0       38.0   \n",
       "Agreement Reached                         0.0        0.0        0.0   \n",
       "Number of Dependents                      0.0        1.0        3.0   \n",
       "\n",
       "                                          75%          max  \n",
       "Age at Injury                            54.0        117.0  \n",
       "Average Weekly Wage                     841.0    2828079.0  \n",
       "Birth Year                             1989.0       2018.0  \n",
       "Claim Identifier                    5991000.5  999891667.0  \n",
       "IME-4 Count                               4.0         73.0  \n",
       "Industry Code                            71.0         92.0  \n",
       "OIICS Nature of Injury Description        NaN          NaN  \n",
       "WCIO Cause of Injury Code                75.0         99.0  \n",
       "WCIO Nature of Injury Code               52.0         91.0  \n",
       "WCIO Part Of Body Code                   53.0         99.0  \n",
       "Agreement Reached                         0.0          1.0  \n",
       "Number of Dependents                      5.0          6.0  "
      ]
     },
     "execution_count": 328,
     "metadata": {},
     "output_type": "execute_result"
    }
   ],
   "source": [
    "#getting the main descriptive statistics only for the numerical variables\n",
    "\n",
    "df_train.describe().round(2).T"
   ]
  },
  {
   "cell_type": "markdown",
   "metadata": {},
   "source": [
    "<br>\n",
    "\n",
    "- 'Claim Identifier': set it as the df index (and check for duplicates)\n",
    "\n",
    "- convert to integer:\n",
    "    - 'Age at Injury': also explore min and max & check consistency with 'Birth Year'\n",
    "    - 'Birth Year': also explore zeros & treat outliers (born in 2018)\n",
    "    - 'IME-4 Count': also treat outlier\n",
    "    - 'Industry Code': also check consistency with the link\n",
    "    - 'Number of Dependents': not in metadata (make assumption) & seems uniformly distributed (strange - similar number of workers with 4, 5 or 6 dependents and workers with 0 or 1 dependents)\n",
    "\n",
    "- special missing values:\n",
    "    - 'OIICS Nature of Injury Description': full of missing values (drop this column)\n",
    "\n",
    "- 'Average Weekly Wage': explore wage of 0 & treat outliers\n",
    "- 'WCIO Cause of Injury Code': explore codes meaning (link doesn't work) & check consistency with 'WCIO Cause of Injury Description'\n",
    "- 'WCIO Part Of Body Code': explore codes meaning (link doesn't work) & treat outliers (can accept negative codes?) & check consistency with 'WCIO Part Of Body Description'\n",
    "- 'Agreement Reached': seems okay (missing value at the start of the claim)\n"
   ]
  },
  {
   "cell_type": "code",
   "execution_count": 329,
   "metadata": {},
   "outputs": [
    {
     "data": {
      "text/html": [
       "<div>\n",
       "<style scoped>\n",
       "    .dataframe tbody tr th:only-of-type {\n",
       "        vertical-align: middle;\n",
       "    }\n",
       "\n",
       "    .dataframe tbody tr th {\n",
       "        vertical-align: top;\n",
       "    }\n",
       "\n",
       "    .dataframe thead th {\n",
       "        text-align: right;\n",
       "    }\n",
       "</style>\n",
       "<table border=\"1\" class=\"dataframe\">\n",
       "  <thead>\n",
       "    <tr style=\"text-align: right;\">\n",
       "      <th></th>\n",
       "      <th>count</th>\n",
       "      <th>unique</th>\n",
       "      <th>top</th>\n",
       "      <th>freq</th>\n",
       "    </tr>\n",
       "  </thead>\n",
       "  <tbody>\n",
       "    <tr>\n",
       "      <th>Accident Date</th>\n",
       "      <td>570337</td>\n",
       "      <td>5539</td>\n",
       "      <td>2020-03-01</td>\n",
       "      <td>1245</td>\n",
       "    </tr>\n",
       "    <tr>\n",
       "      <th>Alternative Dispute Resolution</th>\n",
       "      <td>574026</td>\n",
       "      <td>3</td>\n",
       "      <td>N</td>\n",
       "      <td>571412</td>\n",
       "    </tr>\n",
       "    <tr>\n",
       "      <th>Assembly Date</th>\n",
       "      <td>593471</td>\n",
       "      <td>1096</td>\n",
       "      <td>2020-03-06</td>\n",
       "      <td>1422</td>\n",
       "    </tr>\n",
       "    <tr>\n",
       "      <th>Attorney/Representative</th>\n",
       "      <td>574026</td>\n",
       "      <td>2</td>\n",
       "      <td>N</td>\n",
       "      <td>392291</td>\n",
       "    </tr>\n",
       "    <tr>\n",
       "      <th>C-2 Date</th>\n",
       "      <td>559466</td>\n",
       "      <td>2475</td>\n",
       "      <td>2021-05-11</td>\n",
       "      <td>1847</td>\n",
       "    </tr>\n",
       "    <tr>\n",
       "      <th>C-3 Date</th>\n",
       "      <td>187245</td>\n",
       "      <td>1648</td>\n",
       "      <td>2021-04-21</td>\n",
       "      <td>350</td>\n",
       "    </tr>\n",
       "    <tr>\n",
       "      <th>Carrier Name</th>\n",
       "      <td>574026</td>\n",
       "      <td>2046</td>\n",
       "      <td>STATE INSURANCE FUND</td>\n",
       "      <td>111144</td>\n",
       "    </tr>\n",
       "    <tr>\n",
       "      <th>Carrier Type</th>\n",
       "      <td>574026</td>\n",
       "      <td>8</td>\n",
       "      <td>1A. PRIVATE</td>\n",
       "      <td>285368</td>\n",
       "    </tr>\n",
       "    <tr>\n",
       "      <th>Claim Injury Type</th>\n",
       "      <td>574026</td>\n",
       "      <td>8</td>\n",
       "      <td>2. NON-COMP</td>\n",
       "      <td>291078</td>\n",
       "    </tr>\n",
       "    <tr>\n",
       "      <th>County of Injury</th>\n",
       "      <td>574026</td>\n",
       "      <td>63</td>\n",
       "      <td>SUFFOLK</td>\n",
       "      <td>60430</td>\n",
       "    </tr>\n",
       "    <tr>\n",
       "      <th>COVID-19 Indicator</th>\n",
       "      <td>574026</td>\n",
       "      <td>2</td>\n",
       "      <td>N</td>\n",
       "      <td>546505</td>\n",
       "    </tr>\n",
       "    <tr>\n",
       "      <th>District Name</th>\n",
       "      <td>574026</td>\n",
       "      <td>8</td>\n",
       "      <td>NYC</td>\n",
       "      <td>270779</td>\n",
       "    </tr>\n",
       "    <tr>\n",
       "      <th>First Hearing Date</th>\n",
       "      <td>150798</td>\n",
       "      <td>1094</td>\n",
       "      <td>2022-04-15</td>\n",
       "      <td>440</td>\n",
       "    </tr>\n",
       "    <tr>\n",
       "      <th>Gender</th>\n",
       "      <td>574026</td>\n",
       "      <td>4</td>\n",
       "      <td>M</td>\n",
       "      <td>335218</td>\n",
       "    </tr>\n",
       "    <tr>\n",
       "      <th>Industry Code Description</th>\n",
       "      <td>564068</td>\n",
       "      <td>20</td>\n",
       "      <td>HEALTH CARE AND SOCIAL ASSISTANCE</td>\n",
       "      <td>114339</td>\n",
       "    </tr>\n",
       "    <tr>\n",
       "      <th>Medical Fee Region</th>\n",
       "      <td>574026</td>\n",
       "      <td>5</td>\n",
       "      <td>IV</td>\n",
       "      <td>265981</td>\n",
       "    </tr>\n",
       "    <tr>\n",
       "      <th>WCIO Cause of Injury Description</th>\n",
       "      <td>558386</td>\n",
       "      <td>74</td>\n",
       "      <td>LIFTING</td>\n",
       "      <td>46610</td>\n",
       "    </tr>\n",
       "    <tr>\n",
       "      <th>WCIO Nature of Injury Description</th>\n",
       "      <td>558369</td>\n",
       "      <td>56</td>\n",
       "      <td>STRAIN OR TEAR</td>\n",
       "      <td>153373</td>\n",
       "    </tr>\n",
       "    <tr>\n",
       "      <th>WCIO Part Of Body Description</th>\n",
       "      <td>556944</td>\n",
       "      <td>54</td>\n",
       "      <td>LOWER BACK AREA</td>\n",
       "      <td>51862</td>\n",
       "    </tr>\n",
       "    <tr>\n",
       "      <th>Zip Code</th>\n",
       "      <td>545389</td>\n",
       "      <td>10060</td>\n",
       "      <td>11236</td>\n",
       "      <td>3302</td>\n",
       "    </tr>\n",
       "    <tr>\n",
       "      <th>WCB Decision</th>\n",
       "      <td>574026</td>\n",
       "      <td>1</td>\n",
       "      <td>Not Work Related</td>\n",
       "      <td>574026</td>\n",
       "    </tr>\n",
       "  </tbody>\n",
       "</table>\n",
       "</div>"
      ],
      "text/plain": [
       "                                    count unique  \\\n",
       "Accident Date                      570337   5539   \n",
       "Alternative Dispute Resolution     574026      3   \n",
       "Assembly Date                      593471   1096   \n",
       "Attorney/Representative            574026      2   \n",
       "C-2 Date                           559466   2475   \n",
       "C-3 Date                           187245   1648   \n",
       "Carrier Name                       574026   2046   \n",
       "Carrier Type                       574026      8   \n",
       "Claim Injury Type                  574026      8   \n",
       "County of Injury                   574026     63   \n",
       "COVID-19 Indicator                 574026      2   \n",
       "District Name                      574026      8   \n",
       "First Hearing Date                 150798   1094   \n",
       "Gender                             574026      4   \n",
       "Industry Code Description          564068     20   \n",
       "Medical Fee Region                 574026      5   \n",
       "WCIO Cause of Injury Description   558386     74   \n",
       "WCIO Nature of Injury Description  558369     56   \n",
       "WCIO Part Of Body Description      556944     54   \n",
       "Zip Code                           545389  10060   \n",
       "WCB Decision                       574026      1   \n",
       "\n",
       "                                                                 top    freq  \n",
       "Accident Date                                             2020-03-01    1245  \n",
       "Alternative Dispute Resolution                                     N  571412  \n",
       "Assembly Date                                             2020-03-06    1422  \n",
       "Attorney/Representative                                            N  392291  \n",
       "C-2 Date                                                  2021-05-11    1847  \n",
       "C-3 Date                                                  2021-04-21     350  \n",
       "Carrier Name                                    STATE INSURANCE FUND  111144  \n",
       "Carrier Type                                             1A. PRIVATE  285368  \n",
       "Claim Injury Type                                        2. NON-COMP  291078  \n",
       "County of Injury                                             SUFFOLK   60430  \n",
       "COVID-19 Indicator                                                 N  546505  \n",
       "District Name                                                    NYC  270779  \n",
       "First Hearing Date                                        2022-04-15     440  \n",
       "Gender                                                             M  335218  \n",
       "Industry Code Description          HEALTH CARE AND SOCIAL ASSISTANCE  114339  \n",
       "Medical Fee Region                                                IV  265981  \n",
       "WCIO Cause of Injury Description                             LIFTING   46610  \n",
       "WCIO Nature of Injury Description                     STRAIN OR TEAR  153373  \n",
       "WCIO Part Of Body Description                        LOWER BACK AREA   51862  \n",
       "Zip Code                                                       11236    3302  \n",
       "WCB Decision                                        Not Work Related  574026  "
      ]
     },
     "execution_count": 329,
     "metadata": {},
     "output_type": "execute_result"
    }
   ],
   "source": [
    "# getting the main descriptive statistics for the remaining cathegorical variables\n",
    "\n",
    "df_train.describe(include = ['object']).T"
   ]
  },
  {
   "cell_type": "markdown",
   "metadata": {},
   "source": [
    "<br>\n",
    "\n",
    "- convert to datetime (check if dates are from the start of 2020 till the end of 2022):\n",
    "    - 'Accident Date'\n",
    "    - 'Assembly Date'\n",
    "    - 'C-2 Date'\n",
    "    - 'C-3 Date'\n",
    "    - 'First Hearing Date' (missing values: a blank date means the claim has not yet had a hearing held)\n",
    "\n",
    "- convert to binary:\n",
    "    - 'Alternative Dispute Resolution': maybe the 'U's represent missing values (we can make this assumption)\n",
    "    - 'Attorney/Representative'\n",
    "    - 'COVID-19 Indicator'\n",
    "\n",
    "- special missing values:\n",
    "    - 'Carrier Type': replace 'UNKNOWN' (maybe also '5D. SPECIAL FUND - UNKNOWN') & explore online (for example, do the code represents a category)\n",
    "    - 'Gender': explore values 'U' and 'X' (maybe 'U' means Unknown or Unspecified, and 'X' refers to Non-Binary, Gender X, or Other gender identities) - make assumptions\n",
    "    - 'Medical Fee Region': explore values & 'UK' maybe stands for Unknown or Unclassified\n",
    "\n",
    "\n",
    "- 'Claim Injury Type': seems okay (just need to understand the different values)\n",
    "- 'Carrier Name': explore (for example, check if the same insurance provider is written differently)\n",
    "- 'County of Injury': seems okay (just need to explore the different values)\n",
    "- 'District Name': seems okay (just need to explore if the values correspond to NY districts)\n",
    "- 'Industry Code Description': seems okay (just need to check consistency with the link of 'Industry Code')\n",
    "- 'WCIO Cause of Injury Description': seems okay (just need to explore values & check consistency with 'WCIO Cause of Injury Code')\n",
    "- 'WCIO Part Of Body Description': seems okay (just need to explore values & check consistency with 'WCIO Part Of Body Code')\n",
    "- 'Zip Code': seems okay (just need to explore values)\n",
    "- 'WCB Decision': just 'Not Work Related', which is not stated in the metadata (missing value at the start of the claim, because requires WCB deliberation)"
   ]
  },
  {
   "cell_type": "code",
   "execution_count": 330,
   "metadata": {},
   "outputs": [
    {
     "data": {
      "text/plain": [
       "Claim Injury Type\n",
       "2. NON-COMP        291078\n",
       "4. TEMPORARY       148507\n",
       "3. MED ONLY         68906\n",
       "5. PPD SCH LOSS     48280\n",
       "1. CANCELLED        12477\n",
       "6. PPD NSL           4211\n",
       "8. DEATH              470\n",
       "7. PTD                 97\n",
       "Name: count, dtype: int64"
      ]
     },
     "execution_count": 330,
     "metadata": {},
     "output_type": "execute_result"
    }
   ],
   "source": [
    "df_train[\"Claim Injury Type\"].value_counts()"
   ]
  },
  {
   "cell_type": "code",
   "execution_count": 331,
   "metadata": {},
   "outputs": [
    {
     "data": {
      "text/plain": [
       "Alternative Dispute Resolution\n",
       "N    571412\n",
       "Y      2609\n",
       "U         5\n",
       "Name: count, dtype: int64"
      ]
     },
     "execution_count": 331,
     "metadata": {},
     "output_type": "execute_result"
    }
   ],
   "source": [
    "df_train[\"Alternative Dispute Resolution\"].value_counts()"
   ]
  },
  {
   "cell_type": "code",
   "execution_count": 332,
   "metadata": {},
   "outputs": [
    {
     "data": {
      "text/plain": [
       "Carrier Name\n",
       "STATE INSURANCE FUND            111144\n",
       "POLICE, FIRE, SANITATION         21602\n",
       "AMERICAN ZURICH INSURANCE CO     17540\n",
       "CHARTER OAK FIRE INS CO          17176\n",
       "INDEMNITY INS. OF N AMERICA      14366\n",
       "                                 ...  \n",
       "LOWES HOME CENTERS INC               1\n",
       "WEST BEND MUTUAL INSURANCE           1\n",
       "LIVINGSTON-STEUBEN-                  1\n",
       "NEW YORK MUTUAL CASUALTY             1\n",
       "HERMON-DEKALB CENTRAL                1\n",
       "Name: count, Length: 2046, dtype: int64"
      ]
     },
     "execution_count": 332,
     "metadata": {},
     "output_type": "execute_result"
    }
   ],
   "source": [
    "df_train[\"Carrier Name\"].value_counts()"
   ]
  },
  {
   "cell_type": "code",
   "execution_count": 333,
   "metadata": {},
   "outputs": [
    {
     "data": {
      "text/plain": [
       "Carrier Type\n",
       "1A. PRIVATE                                    285368\n",
       "3A. SELF PUBLIC                                121920\n",
       "2A. SIF                                        111144\n",
       "4A. SELF PRIVATE                                52788\n",
       "UNKNOWN                                          1774\n",
       "5D. SPECIAL FUND - UNKNOWN                       1023\n",
       "5C. SPECIAL FUND - POI CARRIER WCB MENANDS          5\n",
       "5A. SPECIAL FUND - CONS. COMM. (SECT. 25-A)         4\n",
       "Name: count, dtype: int64"
      ]
     },
     "execution_count": 333,
     "metadata": {},
     "output_type": "execute_result"
    }
   ],
   "source": [
    "df_train[\"Carrier Type\"].value_counts()"
   ]
  },
  {
   "cell_type": "code",
   "execution_count": 334,
   "metadata": {},
   "outputs": [
    {
     "data": {
      "text/plain": [
       "County of Injury\n",
       "SUFFOLK       60430\n",
       "QUEENS        58333\n",
       "KINGS         53207\n",
       "NASSAU        43580\n",
       "BRONX         39618\n",
       "              ...  \n",
       "WYOMING         760\n",
       "MONTGOMERY      613\n",
       "SCHOHARIE       558\n",
       "YATES           396\n",
       "HAMILTON        134\n",
       "Name: count, Length: 63, dtype: int64"
      ]
     },
     "execution_count": 334,
     "metadata": {},
     "output_type": "execute_result"
    }
   ],
   "source": [
    "df_train[\"County of Injury\"].value_counts()"
   ]
  },
  {
   "cell_type": "code",
   "execution_count": 335,
   "metadata": {},
   "outputs": [
    {
     "data": {
      "text/plain": [
       "COVID-19 Indicator\n",
       "N    546505\n",
       "Y     27521\n",
       "Name: count, dtype: int64"
      ]
     },
     "execution_count": 335,
     "metadata": {},
     "output_type": "execute_result"
    }
   ],
   "source": [
    "df_train[\"COVID-19 Indicator\"].value_counts()"
   ]
  },
  {
   "cell_type": "code",
   "execution_count": 336,
   "metadata": {},
   "outputs": [
    {
     "data": {
      "text/plain": [
       "District Name\n",
       "NYC           270779\n",
       "ALBANY         86171\n",
       "HAUPPAUGE      60536\n",
       "BUFFALO        45605\n",
       "SYRACUSE       44646\n",
       "ROCHESTER      40449\n",
       "BINGHAMTON     21864\n",
       "STATEWIDE       3976\n",
       "Name: count, dtype: int64"
      ]
     },
     "execution_count": 336,
     "metadata": {},
     "output_type": "execute_result"
    }
   ],
   "source": [
    "df_train[\"District Name\"].value_counts()"
   ]
  },
  {
   "cell_type": "code",
   "execution_count": 337,
   "metadata": {},
   "outputs": [
    {
     "data": {
      "text/plain": [
       "Gender\n",
       "M    335218\n",
       "F    234051\n",
       "U      4711\n",
       "X        46\n",
       "Name: count, dtype: int64"
      ]
     },
     "execution_count": 337,
     "metadata": {},
     "output_type": "execute_result"
    }
   ],
   "source": [
    "df_train[\"Gender\"].value_counts()"
   ]
  },
  {
   "cell_type": "code",
   "execution_count": 338,
   "metadata": {},
   "outputs": [
    {
     "data": {
      "text/plain": [
       "Industry Code Description\n",
       "HEALTH CARE AND SOCIAL ASSISTANCE                               114339\n",
       "PUBLIC ADMINISTRATION                                            92240\n",
       "RETAIL TRADE                                                     61638\n",
       "TRANSPORTATION AND WAREHOUSING                                   54023\n",
       "EDUCATIONAL SERVICES                                             44393\n",
       "MANUFACTURING                                                    38150\n",
       "CONSTRUCTION                                                     30903\n",
       "ACCOMMODATION AND FOOD SERVICES                                  26456\n",
       "ADMINISTRATIVE AND SUPPORT AND WASTE MANAGEMENT AND REMEDIAT     21027\n",
       "WHOLESALE TRADE                                                  15236\n",
       "OTHER SERVICES (EXCEPT PUBLIC ADMINISTRATION)                    13149\n",
       "ARTS, ENTERTAINMENT, AND RECREATION                               9967\n",
       "PROFESSIONAL, SCIENTIFIC, AND TECHNICAL SERVICES                  9770\n",
       "INFORMATION                                                       9166\n",
       "REAL ESTATE AND RENTAL AND LEASING                                8948\n",
       "FINANCE AND INSURANCE                                             8214\n",
       "UTILITIES                                                         2980\n",
       "AGRICULTURE, FORESTRY, FISHING AND HUNTING                        2404\n",
       "MINING                                                             695\n",
       "MANAGEMENT OF COMPANIES AND ENTERPRISES                            370\n",
       "Name: count, dtype: int64"
      ]
     },
     "execution_count": 338,
     "metadata": {},
     "output_type": "execute_result"
    }
   ],
   "source": [
    "df_train[\"Industry Code Description\"].value_counts()"
   ]
  },
  {
   "cell_type": "code",
   "execution_count": 339,
   "metadata": {},
   "outputs": [
    {
     "data": {
      "text/plain": [
       "Medical Fee Region\n",
       "IV     265981\n",
       "I      135885\n",
       "II      85033\n",
       "III     53654\n",
       "UK      33473\n",
       "Name: count, dtype: int64"
      ]
     },
     "execution_count": 339,
     "metadata": {},
     "output_type": "execute_result"
    }
   ],
   "source": [
    "df_train[\"Medical Fee Region\"].value_counts()"
   ]
  },
  {
   "cell_type": "code",
   "execution_count": 340,
   "metadata": {},
   "outputs": [
    {
     "data": {
      "text/plain": [
       "WCIO Cause of Injury Description\n",
       "LIFTING                                   46610\n",
       "FELLOW WORKER, PATIENT OR OTHER PERSON    37153\n",
       "STRAIN OR INJURY BY, NOC                  33192\n",
       "FALL, SLIP OR TRIP, NOC                   31733\n",
       "ON SAME LEVEL                             29364\n",
       "                                          ...  \n",
       "MOLD                                         55\n",
       "ABNORMAL AIR PRESSURE                        51\n",
       "CRASH OF WATER VEHICLE                       45\n",
       "RADIATION                                    34\n",
       "CRASH OF AIRPLANE                            12\n",
       "Name: count, Length: 74, dtype: int64"
      ]
     },
     "execution_count": 340,
     "metadata": {},
     "output_type": "execute_result"
    }
   ],
   "source": [
    "df_train[\"WCIO Cause of Injury Description\"].value_counts()"
   ]
  },
  {
   "cell_type": "code",
   "execution_count": 341,
   "metadata": {},
   "outputs": [
    {
     "data": {
      "text/plain": [
       "WCIO Part Of Body Description\n",
       "LOWER BACK AREA                                          51862\n",
       "KNEE                                                     47903\n",
       "MULTIPLE                                                 42011\n",
       "SHOULDER(S)                                              37811\n",
       "FINGER(S)                                                36093\n",
       "HAND                                                     31388\n",
       "ANKLE                                                    24928\n",
       "MULTIPLE BODY PARTS (INCLUDING BODY                      22608\n",
       "SOFT TISSUE                                              19703\n",
       "FOOT                                                     18765\n",
       "WRIST                                                    18750\n",
       "LOWER ARM                                                15372\n",
       "LUNGS                                                    14000\n",
       "EYE(S)                                                   12975\n",
       "THUMB                                                    12525\n",
       "LOWER LEG                                                11622\n",
       "UPPER ARM                                                11236\n",
       "BODY SYSTEMS AND MULTIPLE BODY SYSTEMS                   10950\n",
       "ELBOW                                                     9949\n",
       "UPPER BACK AREA                                           8240\n",
       "MULTIPLE HEAD INJURY                                      7939\n",
       "SKULL                                                     7904\n",
       "CHEST                                                     7644\n",
       "ABDOMEN INCLUDING GROIN                                   6770\n",
       "HIP                                                       6430\n",
       "NO PHYSICAL INJURY                                        6103\n",
       "INSUFFICIENT INFO TO PROPERLY IDENTIFY - UNCLASSIFIED     5311\n",
       "UPPER LEG                                                 4296\n",
       "EAR(S)                                                    3912\n",
       "FACIAL BONES                                              3905\n",
       "INTERNAL ORGANS                                           3759\n",
       "DISC                                                      2996\n",
       "MULTIPLE NECK INJURY                                      2848\n",
       "MULTIPLE UPPER EXTREMITIES                                2633\n",
       "WRIST (S) & HAND(S)                                       2623\n",
       "TOES                                                      2535\n",
       "NOSE                                                      2091\n",
       "LUMBAR & OR SACRAL VERTEBRAE (VERTEBRA                    1998\n",
       "BRAIN                                                     1989\n",
       "MULTIPLE LOWER EXTREMITIES                                1927\n",
       "GREAT TOE                                                 1806\n",
       "MULTIPLE TRUNK                                            1752\n",
       "MOUTH                                                     1602\n",
       "VERTEBRAE                                                 1332\n",
       "WHOLE BODY                                                1249\n",
       "BUTTOCKS                                                  1161\n",
       "SPINAL CORD                                                879\n",
       "TEETH                                                      803\n",
       "PELVIS                                                     740\n",
       "HEART                                                      637\n",
       "SACRUM AND COCCYX                                          402\n",
       "LARYNX                                                     141\n",
       "TRACHEA                                                     83\n",
       "ARTIFICIAL APPLIANCE                                        53\n",
       "Name: count, dtype: int64"
      ]
     },
     "execution_count": 341,
     "metadata": {},
     "output_type": "execute_result"
    }
   ],
   "source": [
    "df_train[\"WCIO Part Of Body Description\"].value_counts()"
   ]
  },
  {
   "cell_type": "code",
   "execution_count": 342,
   "metadata": {},
   "outputs": [
    {
     "data": {
      "text/plain": [
       "Zip Code\n",
       "11236      3302\n",
       "10940      2971\n",
       "11717      2807\n",
       "11434      2759\n",
       "11706      2728\n",
       "           ... \n",
       "09603         1\n",
       "13125         1\n",
       "75038.0       1\n",
       "14507.0       1\n",
       "07122         1\n",
       "Name: count, Length: 10060, dtype: int64"
      ]
     },
     "execution_count": 342,
     "metadata": {},
     "output_type": "execute_result"
    }
   ],
   "source": [
    "df_train[\"Zip Code\"].value_counts()"
   ]
  },
  {
   "cell_type": "markdown",
   "metadata": {},
   "source": [
    "# 4.0. Set Index <a id=\"set_index\"></a>"
   ]
  },
  {
   "cell_type": "markdown",
   "metadata": {},
   "source": [
    "First, let's check if \"Claim Identifier\" is appropriate for index"
   ]
  },
  {
   "cell_type": "code",
   "execution_count": 343,
   "metadata": {},
   "outputs": [
    {
     "data": {
      "text/plain": [
       "0"
      ]
     },
     "execution_count": 343,
     "metadata": {},
     "output_type": "execute_result"
    }
   ],
   "source": [
    "df_train[\"Claim Identifier\"].isna().sum()"
   ]
  },
  {
   "cell_type": "markdown",
   "metadata": {},
   "source": [
    "**Conclusion:** No missing values"
   ]
  },
  {
   "cell_type": "code",
   "execution_count": 344,
   "metadata": {},
   "outputs": [
    {
     "data": {
      "text/plain": [
       "1"
      ]
     },
     "execution_count": 344,
     "metadata": {},
     "output_type": "execute_result"
    }
   ],
   "source": [
    "df_train[\"Claim Identifier\"].duplicated().sum()"
   ]
  },
  {
   "cell_type": "markdown",
   "metadata": {},
   "source": [
    "**Conclusion:** 2 observations with the same \"Claim Identifier\". Let's analyze these observations"
   ]
  },
  {
   "cell_type": "code",
   "execution_count": 345,
   "metadata": {},
   "outputs": [
    {
     "name": "stdout",
     "output_type": "stream",
     "text": [
      "<class 'pandas.core.frame.DataFrame'>\n",
      "Index: 2 entries, 257901 to 526445\n",
      "Data columns (total 33 columns):\n",
      " #   Column                              Non-Null Count  Dtype  \n",
      "---  ------                              --------------  -----  \n",
      " 0   Accident Date                       0 non-null      object \n",
      " 1   Age at Injury                       0 non-null      float64\n",
      " 2   Alternative Dispute Resolution      0 non-null      object \n",
      " 3   Assembly Date                       2 non-null      object \n",
      " 4   Attorney/Representative             0 non-null      object \n",
      " 5   Average Weekly Wage                 0 non-null      float64\n",
      " 6   Birth Year                          0 non-null      float64\n",
      " 7   C-2 Date                            0 non-null      object \n",
      " 8   C-3 Date                            0 non-null      object \n",
      " 9   Carrier Name                        0 non-null      object \n",
      " 10  Carrier Type                        0 non-null      object \n",
      " 11  Claim Identifier                    2 non-null      int64  \n",
      " 12  Claim Injury Type                   0 non-null      object \n",
      " 13  County of Injury                    0 non-null      object \n",
      " 14  COVID-19 Indicator                  0 non-null      object \n",
      " 15  District Name                       0 non-null      object \n",
      " 16  First Hearing Date                  0 non-null      object \n",
      " 17  Gender                              0 non-null      object \n",
      " 18  IME-4 Count                         0 non-null      float64\n",
      " 19  Industry Code                       0 non-null      float64\n",
      " 20  Industry Code Description           0 non-null      object \n",
      " 21  Medical Fee Region                  0 non-null      object \n",
      " 22  OIICS Nature of Injury Description  0 non-null      float64\n",
      " 23  WCIO Cause of Injury Code           0 non-null      float64\n",
      " 24  WCIO Cause of Injury Description    0 non-null      object \n",
      " 25  WCIO Nature of Injury Code          0 non-null      float64\n",
      " 26  WCIO Nature of Injury Description   0 non-null      object \n",
      " 27  WCIO Part Of Body Code              0 non-null      float64\n",
      " 28  WCIO Part Of Body Description       0 non-null      object \n",
      " 29  Zip Code                            0 non-null      object \n",
      " 30  Agreement Reached                   0 non-null      float64\n",
      " 31  WCB Decision                        0 non-null      object \n",
      " 32  Number of Dependents                0 non-null      float64\n",
      "dtypes: float64(11), int64(1), object(21)\n",
      "memory usage: 544.0+ bytes\n"
     ]
    }
   ],
   "source": [
    "duplicated_claim_identifier = df_train[df_train.duplicated(subset=\"Claim Identifier\", keep=False)]\n",
    "duplicated_claim_identifier.info()"
   ]
  },
  {
   "cell_type": "code",
   "execution_count": 346,
   "metadata": {},
   "outputs": [
    {
     "data": {
      "text/plain": [
       "257901    2021-05-21\n",
       "526445    2022-09-05\n",
       "Name: Assembly Date, dtype: object"
      ]
     },
     "execution_count": 346,
     "metadata": {},
     "output_type": "execute_result"
    }
   ],
   "source": [
    "duplicated_claim_identifier[\"Assembly Date\"]"
   ]
  },
  {
   "cell_type": "markdown",
   "metadata": {},
   "source": [
    "**Conclusion:** The observations have missing values in all variables, except in \"Assembly Date\" (different dates). As these observations are useless, we should drop them"
   ]
  },
  {
   "cell_type": "code",
   "execution_count": 347,
   "metadata": {},
   "outputs": [
    {
     "data": {
      "text/plain": [
       "0"
      ]
     },
     "execution_count": 347,
     "metadata": {},
     "output_type": "execute_result"
    }
   ],
   "source": [
    "# Drop all duplicates based on \"Claim Identifier\"\n",
    "df_train_no_duplicated_claim_identifier = df_train[~df_train.duplicated(subset=\"Claim Identifier\", keep=False)]\n",
    "df_train_no_duplicated_claim_identifier[\"Claim Identifier\"].duplicated().sum()"
   ]
  },
  {
   "cell_type": "markdown",
   "metadata": {},
   "source": [
    "Now that there are no \"Claim Identifier\" duplicates, we can set it as the DataFrame index"
   ]
  },
  {
   "cell_type": "code",
   "execution_count": 348,
   "metadata": {},
   "outputs": [
    {
     "data": {
      "text/html": [
       "<div>\n",
       "<style scoped>\n",
       "    .dataframe tbody tr th:only-of-type {\n",
       "        vertical-align: middle;\n",
       "    }\n",
       "\n",
       "    .dataframe tbody tr th {\n",
       "        vertical-align: top;\n",
       "    }\n",
       "\n",
       "    .dataframe thead th {\n",
       "        text-align: right;\n",
       "    }\n",
       "</style>\n",
       "<table border=\"1\" class=\"dataframe\">\n",
       "  <thead>\n",
       "    <tr style=\"text-align: right;\">\n",
       "      <th></th>\n",
       "      <th>Accident Date</th>\n",
       "      <th>Age at Injury</th>\n",
       "      <th>Alternative Dispute Resolution</th>\n",
       "      <th>Assembly Date</th>\n",
       "      <th>Attorney/Representative</th>\n",
       "      <th>Average Weekly Wage</th>\n",
       "      <th>Birth Year</th>\n",
       "      <th>C-2 Date</th>\n",
       "      <th>C-3 Date</th>\n",
       "      <th>Carrier Name</th>\n",
       "      <th>...</th>\n",
       "      <th>WCIO Cause of Injury Code</th>\n",
       "      <th>WCIO Cause of Injury Description</th>\n",
       "      <th>WCIO Nature of Injury Code</th>\n",
       "      <th>WCIO Nature of Injury Description</th>\n",
       "      <th>WCIO Part Of Body Code</th>\n",
       "      <th>WCIO Part Of Body Description</th>\n",
       "      <th>Zip Code</th>\n",
       "      <th>Agreement Reached</th>\n",
       "      <th>WCB Decision</th>\n",
       "      <th>Number of Dependents</th>\n",
       "    </tr>\n",
       "    <tr>\n",
       "      <th>Claim Identifier</th>\n",
       "      <th></th>\n",
       "      <th></th>\n",
       "      <th></th>\n",
       "      <th></th>\n",
       "      <th></th>\n",
       "      <th></th>\n",
       "      <th></th>\n",
       "      <th></th>\n",
       "      <th></th>\n",
       "      <th></th>\n",
       "      <th></th>\n",
       "      <th></th>\n",
       "      <th></th>\n",
       "      <th></th>\n",
       "      <th></th>\n",
       "      <th></th>\n",
       "      <th></th>\n",
       "      <th></th>\n",
       "      <th></th>\n",
       "      <th></th>\n",
       "      <th></th>\n",
       "    </tr>\n",
       "  </thead>\n",
       "  <tbody>\n",
       "    <tr>\n",
       "      <th>5393875</th>\n",
       "      <td>2019-12-30</td>\n",
       "      <td>31.0</td>\n",
       "      <td>N</td>\n",
       "      <td>2020-01-01</td>\n",
       "      <td>N</td>\n",
       "      <td>0.00</td>\n",
       "      <td>1988.0</td>\n",
       "      <td>2019-12-31</td>\n",
       "      <td>NaN</td>\n",
       "      <td>NEW HAMPSHIRE INSURANCE CO</td>\n",
       "      <td>...</td>\n",
       "      <td>27.0</td>\n",
       "      <td>FROM LIQUID OR GREASE SPILLS</td>\n",
       "      <td>10.0</td>\n",
       "      <td>CONTUSION</td>\n",
       "      <td>62.0</td>\n",
       "      <td>BUTTOCKS</td>\n",
       "      <td>13662</td>\n",
       "      <td>0.0</td>\n",
       "      <td>Not Work Related</td>\n",
       "      <td>1.0</td>\n",
       "    </tr>\n",
       "    <tr>\n",
       "      <th>5393091</th>\n",
       "      <td>2019-08-30</td>\n",
       "      <td>46.0</td>\n",
       "      <td>N</td>\n",
       "      <td>2020-01-01</td>\n",
       "      <td>Y</td>\n",
       "      <td>1745.93</td>\n",
       "      <td>1973.0</td>\n",
       "      <td>2020-01-01</td>\n",
       "      <td>2020-01-14</td>\n",
       "      <td>ZURICH AMERICAN INSURANCE CO</td>\n",
       "      <td>...</td>\n",
       "      <td>97.0</td>\n",
       "      <td>REPETITIVE MOTION</td>\n",
       "      <td>49.0</td>\n",
       "      <td>SPRAIN OR TEAR</td>\n",
       "      <td>38.0</td>\n",
       "      <td>SHOULDER(S)</td>\n",
       "      <td>14569</td>\n",
       "      <td>1.0</td>\n",
       "      <td>Not Work Related</td>\n",
       "      <td>4.0</td>\n",
       "    </tr>\n",
       "    <tr>\n",
       "      <th>5393889</th>\n",
       "      <td>2019-12-06</td>\n",
       "      <td>40.0</td>\n",
       "      <td>N</td>\n",
       "      <td>2020-01-01</td>\n",
       "      <td>N</td>\n",
       "      <td>1434.80</td>\n",
       "      <td>1979.0</td>\n",
       "      <td>2020-01-01</td>\n",
       "      <td>NaN</td>\n",
       "      <td>INDEMNITY INSURANCE CO OF</td>\n",
       "      <td>...</td>\n",
       "      <td>79.0</td>\n",
       "      <td>OBJECT BEING LIFTED OR HANDLED</td>\n",
       "      <td>7.0</td>\n",
       "      <td>CONCUSSION</td>\n",
       "      <td>10.0</td>\n",
       "      <td>MULTIPLE HEAD INJURY</td>\n",
       "      <td>12589</td>\n",
       "      <td>0.0</td>\n",
       "      <td>Not Work Related</td>\n",
       "      <td>6.0</td>\n",
       "    </tr>\n",
       "    <tr>\n",
       "      <th>957648180</th>\n",
       "      <td>NaN</td>\n",
       "      <td>NaN</td>\n",
       "      <td>NaN</td>\n",
       "      <td>2020-01-01</td>\n",
       "      <td>NaN</td>\n",
       "      <td>NaN</td>\n",
       "      <td>NaN</td>\n",
       "      <td>NaN</td>\n",
       "      <td>NaN</td>\n",
       "      <td>NaN</td>\n",
       "      <td>...</td>\n",
       "      <td>NaN</td>\n",
       "      <td>NaN</td>\n",
       "      <td>NaN</td>\n",
       "      <td>NaN</td>\n",
       "      <td>NaN</td>\n",
       "      <td>NaN</td>\n",
       "      <td>NaN</td>\n",
       "      <td>NaN</td>\n",
       "      <td>NaN</td>\n",
       "      <td>NaN</td>\n",
       "    </tr>\n",
       "    <tr>\n",
       "      <th>5393887</th>\n",
       "      <td>2019-12-30</td>\n",
       "      <td>61.0</td>\n",
       "      <td>N</td>\n",
       "      <td>2020-01-01</td>\n",
       "      <td>N</td>\n",
       "      <td>NaN</td>\n",
       "      <td>1958.0</td>\n",
       "      <td>2019-12-31</td>\n",
       "      <td>NaN</td>\n",
       "      <td>STATE INSURANCE FUND</td>\n",
       "      <td>...</td>\n",
       "      <td>16.0</td>\n",
       "      <td>HAND TOOL, UTENSIL; NOT POWERED</td>\n",
       "      <td>43.0</td>\n",
       "      <td>PUNCTURE</td>\n",
       "      <td>36.0</td>\n",
       "      <td>FINGER(S)</td>\n",
       "      <td>12603</td>\n",
       "      <td>0.0</td>\n",
       "      <td>Not Work Related</td>\n",
       "      <td>1.0</td>\n",
       "    </tr>\n",
       "  </tbody>\n",
       "</table>\n",
       "<p>5 rows × 32 columns</p>\n",
       "</div>"
      ],
      "text/plain": [
       "                 Accident Date  Age at Injury Alternative Dispute Resolution  \\\n",
       "Claim Identifier                                                               \n",
       "5393875             2019-12-30           31.0                              N   \n",
       "5393091             2019-08-30           46.0                              N   \n",
       "5393889             2019-12-06           40.0                              N   \n",
       "957648180                  NaN            NaN                            NaN   \n",
       "5393887             2019-12-30           61.0                              N   \n",
       "\n",
       "                 Assembly Date Attorney/Representative  Average Weekly Wage  \\\n",
       "Claim Identifier                                                              \n",
       "5393875             2020-01-01                       N                 0.00   \n",
       "5393091             2020-01-01                       Y              1745.93   \n",
       "5393889             2020-01-01                       N              1434.80   \n",
       "957648180           2020-01-01                     NaN                  NaN   \n",
       "5393887             2020-01-01                       N                  NaN   \n",
       "\n",
       "                  Birth Year    C-2 Date    C-3 Date  \\\n",
       "Claim Identifier                                       \n",
       "5393875               1988.0  2019-12-31         NaN   \n",
       "5393091               1973.0  2020-01-01  2020-01-14   \n",
       "5393889               1979.0  2020-01-01         NaN   \n",
       "957648180                NaN         NaN         NaN   \n",
       "5393887               1958.0  2019-12-31         NaN   \n",
       "\n",
       "                                  Carrier Name  ... WCIO Cause of Injury Code  \\\n",
       "Claim Identifier                                ...                             \n",
       "5393875             NEW HAMPSHIRE INSURANCE CO  ...                      27.0   \n",
       "5393091           ZURICH AMERICAN INSURANCE CO  ...                      97.0   \n",
       "5393889              INDEMNITY INSURANCE CO OF  ...                      79.0   \n",
       "957648180                                  NaN  ...                       NaN   \n",
       "5393887                   STATE INSURANCE FUND  ...                      16.0   \n",
       "\n",
       "                 WCIO Cause of Injury Description WCIO Nature of Injury Code  \\\n",
       "Claim Identifier                                                               \n",
       "5393875              FROM LIQUID OR GREASE SPILLS                       10.0   \n",
       "5393091                         REPETITIVE MOTION                       49.0   \n",
       "5393889            OBJECT BEING LIFTED OR HANDLED                        7.0   \n",
       "957648180                                     NaN                        NaN   \n",
       "5393887           HAND TOOL, UTENSIL; NOT POWERED                       43.0   \n",
       "\n",
       "                 WCIO Nature of Injury Description WCIO Part Of Body Code  \\\n",
       "Claim Identifier                                                            \n",
       "5393875                                  CONTUSION                   62.0   \n",
       "5393091                             SPRAIN OR TEAR                   38.0   \n",
       "5393889                                 CONCUSSION                   10.0   \n",
       "957648180                                      NaN                    NaN   \n",
       "5393887                                   PUNCTURE                   36.0   \n",
       "\n",
       "                 WCIO Part Of Body Description Zip Code  Agreement Reached  \\\n",
       "Claim Identifier                                                             \n",
       "5393875                               BUTTOCKS    13662                0.0   \n",
       "5393091                            SHOULDER(S)    14569                1.0   \n",
       "5393889                   MULTIPLE HEAD INJURY    12589                0.0   \n",
       "957648180                                  NaN      NaN                NaN   \n",
       "5393887                              FINGER(S)    12603                0.0   \n",
       "\n",
       "                      WCB Decision Number of Dependents  \n",
       "Claim Identifier                                         \n",
       "5393875           Not Work Related                  1.0  \n",
       "5393091           Not Work Related                  4.0  \n",
       "5393889           Not Work Related                  6.0  \n",
       "957648180                      NaN                  NaN  \n",
       "5393887           Not Work Related                  1.0  \n",
       "\n",
       "[5 rows x 32 columns]"
      ]
     },
     "execution_count": 348,
     "metadata": {},
     "output_type": "execute_result"
    }
   ],
   "source": [
    "df_train_index = df_train_no_duplicated_claim_identifier.set_index(\"Claim Identifier\")\n",
    "df_train_index.head()"
   ]
  },
  {
   "cell_type": "markdown",
   "metadata": {},
   "source": [
    "# 4.1. Univariate Features <a id=\"constant_feature\"></a>"
   ]
  },
  {
   "cell_type": "code",
   "execution_count": 349,
   "metadata": {},
   "outputs": [
    {
     "data": {
      "text/plain": [
       "Series([], dtype: float64)"
      ]
     },
     "execution_count": 349,
     "metadata": {},
     "output_type": "execute_result"
    }
   ],
   "source": [
    "variances = df_train_index.var(numeric_only=True)\n",
    "variances[variances == 0]"
   ]
  },
  {
   "cell_type": "markdown",
   "metadata": {},
   "source": [
    "**Conclusion**: There are no univariate features"
   ]
  },
  {
   "cell_type": "markdown",
   "metadata": {},
   "source": [
    "# 4.2. Duplicates"
   ]
  },
  {
   "cell_type": "code",
   "execution_count": 350,
   "metadata": {},
   "outputs": [
    {
     "data": {
      "text/plain": [
       "18348"
      ]
     },
     "execution_count": 350,
     "metadata": {},
     "output_type": "execute_result"
    }
   ],
   "source": [
    "# Check for duplicated observations\n",
    "df_train_index.duplicated().sum()"
   ]
  },
  {
   "cell_type": "markdown",
   "metadata": {},
   "source": [
    "**Conclusion:** There are a lot of duplicated observations. Let's analyze them"
   ]
  },
  {
   "cell_type": "code",
   "execution_count": 351,
   "metadata": {},
   "outputs": [
    {
     "name": "stdout",
     "output_type": "stream",
     "text": [
      "<class 'pandas.core.frame.DataFrame'>\n",
      "Index: 18348 entries, 363651794 to 818961390\n",
      "Data columns (total 32 columns):\n",
      " #   Column                              Non-Null Count  Dtype  \n",
      "---  ------                              --------------  -----  \n",
      " 0   Accident Date                       0 non-null      object \n",
      " 1   Age at Injury                       1 non-null      float64\n",
      " 2   Alternative Dispute Resolution      1 non-null      object \n",
      " 3   Assembly Date                       18348 non-null  object \n",
      " 4   Attorney/Representative             1 non-null      object \n",
      " 5   Average Weekly Wage                 1 non-null      float64\n",
      " 6   Birth Year                          1 non-null      float64\n",
      " 7   C-2 Date                            0 non-null      object \n",
      " 8   C-3 Date                            1 non-null      object \n",
      " 9   Carrier Name                        1 non-null      object \n",
      " 10  Carrier Type                        1 non-null      object \n",
      " 11  Claim Injury Type                   1 non-null      object \n",
      " 12  County of Injury                    1 non-null      object \n",
      " 13  COVID-19 Indicator                  1 non-null      object \n",
      " 14  District Name                       1 non-null      object \n",
      " 15  First Hearing Date                  1 non-null      object \n",
      " 16  Gender                              1 non-null      object \n",
      " 17  IME-4 Count                         0 non-null      float64\n",
      " 18  Industry Code                       0 non-null      float64\n",
      " 19  Industry Code Description           0 non-null      object \n",
      " 20  Medical Fee Region                  1 non-null      object \n",
      " 21  OIICS Nature of Injury Description  0 non-null      float64\n",
      " 22  WCIO Cause of Injury Code           0 non-null      float64\n",
      " 23  WCIO Cause of Injury Description    0 non-null      object \n",
      " 24  WCIO Nature of Injury Code          0 non-null      float64\n",
      " 25  WCIO Nature of Injury Description   0 non-null      object \n",
      " 26  WCIO Part Of Body Code              0 non-null      float64\n",
      " 27  WCIO Part Of Body Description       0 non-null      object \n",
      " 28  Zip Code                            1 non-null      object \n",
      " 29  Agreement Reached                   1 non-null      float64\n",
      " 30  WCB Decision                        1 non-null      object \n",
      " 31  Number of Dependents                1 non-null      float64\n",
      "dtypes: float64(11), object(21)\n",
      "memory usage: 4.6+ MB\n"
     ]
    }
   ],
   "source": [
    "duplicates = df_train_index[df_train_index.duplicated()]\n",
    "duplicates.info()"
   ]
  },
  {
   "cell_type": "markdown",
   "metadata": {},
   "source": [
    "**Conclusion:** Let's check if the value 1 in non-null data is related to the same observation"
   ]
  },
  {
   "cell_type": "code",
   "execution_count": 352,
   "metadata": {},
   "outputs": [
    {
     "name": "stdout",
     "output_type": "stream",
     "text": [
      "[5686771]\n"
     ]
    }
   ],
   "source": [
    "# Count the number of non-null values in each row, excluding 'Assembly Date'\n",
    "non_null_count = duplicates.drop(columns=['Assembly Date']).notna().sum(axis=1)\n",
    "\n",
    "# Filter for rows where there are non-null values\n",
    "rows_with_non_null = duplicates[non_null_count > 0]\n",
    "\n",
    "# Check unique indices of the rows with non-null values\n",
    "unique_indices = rows_with_non_null.index.unique().to_list()\n",
    "\n",
    "# Display the unique indices\n",
    "print(unique_indices)"
   ]
  },
  {
   "cell_type": "code",
   "execution_count": 353,
   "metadata": {},
   "outputs": [
    {
     "data": {
      "text/html": [
       "<div>\n",
       "<style scoped>\n",
       "    .dataframe tbody tr th:only-of-type {\n",
       "        vertical-align: middle;\n",
       "    }\n",
       "\n",
       "    .dataframe tbody tr th {\n",
       "        vertical-align: top;\n",
       "    }\n",
       "\n",
       "    .dataframe thead th {\n",
       "        text-align: right;\n",
       "    }\n",
       "</style>\n",
       "<table border=\"1\" class=\"dataframe\">\n",
       "  <thead>\n",
       "    <tr style=\"text-align: right;\">\n",
       "      <th>Claim Identifier</th>\n",
       "      <th>5686771</th>\n",
       "    </tr>\n",
       "  </thead>\n",
       "  <tbody>\n",
       "    <tr>\n",
       "      <th>Accident Date</th>\n",
       "      <td>NaN</td>\n",
       "    </tr>\n",
       "    <tr>\n",
       "      <th>Age at Injury</th>\n",
       "      <td>0.0</td>\n",
       "    </tr>\n",
       "    <tr>\n",
       "      <th>Alternative Dispute Resolution</th>\n",
       "      <td>N</td>\n",
       "    </tr>\n",
       "    <tr>\n",
       "      <th>Assembly Date</th>\n",
       "      <td>2021-03-25</td>\n",
       "    </tr>\n",
       "    <tr>\n",
       "      <th>Attorney/Representative</th>\n",
       "      <td>Y</td>\n",
       "    </tr>\n",
       "    <tr>\n",
       "      <th>Average Weekly Wage</th>\n",
       "      <td>0.0</td>\n",
       "    </tr>\n",
       "    <tr>\n",
       "      <th>Birth Year</th>\n",
       "      <td>1968.0</td>\n",
       "    </tr>\n",
       "    <tr>\n",
       "      <th>C-2 Date</th>\n",
       "      <td>NaN</td>\n",
       "    </tr>\n",
       "    <tr>\n",
       "      <th>C-3 Date</th>\n",
       "      <td>2021-03-16</td>\n",
       "    </tr>\n",
       "    <tr>\n",
       "      <th>Carrier Name</th>\n",
       "      <td>ACE AMERICAN INSURANCE CO</td>\n",
       "    </tr>\n",
       "    <tr>\n",
       "      <th>Carrier Type</th>\n",
       "      <td>1A. PRIVATE</td>\n",
       "    </tr>\n",
       "    <tr>\n",
       "      <th>Claim Injury Type</th>\n",
       "      <td>1. CANCELLED</td>\n",
       "    </tr>\n",
       "    <tr>\n",
       "      <th>County of Injury</th>\n",
       "      <td>UNKNOWN</td>\n",
       "    </tr>\n",
       "    <tr>\n",
       "      <th>COVID-19 Indicator</th>\n",
       "      <td>N</td>\n",
       "    </tr>\n",
       "    <tr>\n",
       "      <th>District Name</th>\n",
       "      <td>NYC</td>\n",
       "    </tr>\n",
       "    <tr>\n",
       "      <th>First Hearing Date</th>\n",
       "      <td>2022-10-24</td>\n",
       "    </tr>\n",
       "    <tr>\n",
       "      <th>Gender</th>\n",
       "      <td>M</td>\n",
       "    </tr>\n",
       "    <tr>\n",
       "      <th>IME-4 Count</th>\n",
       "      <td>NaN</td>\n",
       "    </tr>\n",
       "    <tr>\n",
       "      <th>Industry Code</th>\n",
       "      <td>NaN</td>\n",
       "    </tr>\n",
       "    <tr>\n",
       "      <th>Industry Code Description</th>\n",
       "      <td>NaN</td>\n",
       "    </tr>\n",
       "    <tr>\n",
       "      <th>Medical Fee Region</th>\n",
       "      <td>UK</td>\n",
       "    </tr>\n",
       "    <tr>\n",
       "      <th>OIICS Nature of Injury Description</th>\n",
       "      <td>NaN</td>\n",
       "    </tr>\n",
       "    <tr>\n",
       "      <th>WCIO Cause of Injury Code</th>\n",
       "      <td>NaN</td>\n",
       "    </tr>\n",
       "    <tr>\n",
       "      <th>WCIO Cause of Injury Description</th>\n",
       "      <td>NaN</td>\n",
       "    </tr>\n",
       "    <tr>\n",
       "      <th>WCIO Nature of Injury Code</th>\n",
       "      <td>NaN</td>\n",
       "    </tr>\n",
       "    <tr>\n",
       "      <th>WCIO Nature of Injury Description</th>\n",
       "      <td>NaN</td>\n",
       "    </tr>\n",
       "    <tr>\n",
       "      <th>WCIO Part Of Body Code</th>\n",
       "      <td>NaN</td>\n",
       "    </tr>\n",
       "    <tr>\n",
       "      <th>WCIO Part Of Body Description</th>\n",
       "      <td>NaN</td>\n",
       "    </tr>\n",
       "    <tr>\n",
       "      <th>Zip Code</th>\n",
       "      <td>07032</td>\n",
       "    </tr>\n",
       "    <tr>\n",
       "      <th>Agreement Reached</th>\n",
       "      <td>0.0</td>\n",
       "    </tr>\n",
       "    <tr>\n",
       "      <th>WCB Decision</th>\n",
       "      <td>Not Work Related</td>\n",
       "    </tr>\n",
       "    <tr>\n",
       "      <th>Number of Dependents</th>\n",
       "      <td>0.0</td>\n",
       "    </tr>\n",
       "  </tbody>\n",
       "</table>\n",
       "</div>"
      ],
      "text/plain": [
       "Claim Identifier                                      5686771\n",
       "Accident Date                                             NaN\n",
       "Age at Injury                                             0.0\n",
       "Alternative Dispute Resolution                              N\n",
       "Assembly Date                                      2021-03-25\n",
       "Attorney/Representative                                     Y\n",
       "Average Weekly Wage                                       0.0\n",
       "Birth Year                                             1968.0\n",
       "C-2 Date                                                  NaN\n",
       "C-3 Date                                           2021-03-16\n",
       "Carrier Name                        ACE AMERICAN INSURANCE CO\n",
       "Carrier Type                                      1A. PRIVATE\n",
       "Claim Injury Type                                1. CANCELLED\n",
       "County of Injury                                      UNKNOWN\n",
       "COVID-19 Indicator                                          N\n",
       "District Name                                             NYC\n",
       "First Hearing Date                                 2022-10-24\n",
       "Gender                                                      M\n",
       "IME-4 Count                                               NaN\n",
       "Industry Code                                             NaN\n",
       "Industry Code Description                                 NaN\n",
       "Medical Fee Region                                         UK\n",
       "OIICS Nature of Injury Description                        NaN\n",
       "WCIO Cause of Injury Code                                 NaN\n",
       "WCIO Cause of Injury Description                          NaN\n",
       "WCIO Nature of Injury Code                                NaN\n",
       "WCIO Nature of Injury Description                         NaN\n",
       "WCIO Part Of Body Code                                    NaN\n",
       "WCIO Part Of Body Description                             NaN\n",
       "Zip Code                                                07032\n",
       "Agreement Reached                                         0.0\n",
       "WCB Decision                                 Not Work Related\n",
       "Number of Dependents                                      0.0"
      ]
     },
     "execution_count": 353,
     "metadata": {},
     "output_type": "execute_result"
    }
   ],
   "source": [
    "df_train_index.loc[unique_indices].T"
   ]
  },
  {
   "cell_type": "markdown",
   "metadata": {},
   "source": [
    "**Conclusion:** Just 1 observation, from the duplicates, doesn't have missing values in all variables (excluding 'Assembly Date'). Therefore, we will just keep this observation and drop the others"
   ]
  },
  {
   "cell_type": "code",
   "execution_count": 354,
   "metadata": {},
   "outputs": [],
   "source": [
    "# Drop all duplicates\n",
    "df_train_no_duplicates = df_train_index.drop_duplicates(keep=False)\n",
    "\n",
    "# Re-add the observation to keep\n",
    "df_train_no_duplicates = pd.concat([df_train_no_duplicates, df_train_index.loc[unique_indices]])"
   ]
  },
  {
   "cell_type": "code",
   "execution_count": 355,
   "metadata": {},
   "outputs": [
    {
     "data": {
      "text/plain": [
       "True"
      ]
     },
     "execution_count": 355,
     "metadata": {},
     "output_type": "execute_result"
    }
   ],
   "source": [
    "# Check if we dropped the correct number of observations \n",
    "len(df_train_no_duplicates) == len(df_train_index) - df_train_index.duplicated(keep=False).sum() + 1"
   ]
  },
  {
   "cell_type": "markdown",
   "metadata": {},
   "source": [
    "# 4.3. Missing Values"
   ]
  },
  {
   "cell_type": "markdown",
   "metadata": {},
   "source": [
    "- columns with just missing values:\n",
    "  - 'OIICS Nature of Injury Description'\n",
    "- hidden missing values:\n",
    "  - 'Carrier Type'\n",
    "  - 'Gender'\n",
    "  - 'Medical Fee Region'\n",
    "  - 'Alternative Dispute Resolution'"
   ]
  },
  {
   "cell_type": "markdown",
   "metadata": {},
   "source": [
    "Drop column \"OIICS Nature of Injury Description\", because it has only missing values"
   ]
  },
  {
   "cell_type": "code",
   "execution_count": 356,
   "metadata": {},
   "outputs": [],
   "source": [
    "df_train_treat_missing = df_train_no_duplicates.copy()"
   ]
  },
  {
   "cell_type": "code",
   "execution_count": 357,
   "metadata": {},
   "outputs": [
    {
     "data": {
      "text/plain": [
       "OIICS Nature of Injury Description\n",
       "NaN    100.0\n",
       "Name: proportion, dtype: float64"
      ]
     },
     "execution_count": 357,
     "metadata": {},
     "output_type": "execute_result"
    }
   ],
   "source": [
    "df_train_treat_missing[\"OIICS Nature of Injury Description\"].value_counts(dropna=False, normalize=True) * 100"
   ]
  },
  {
   "cell_type": "code",
   "execution_count": 358,
   "metadata": {},
   "outputs": [],
   "source": [
    "df_train_treat_missing.drop(columns=[\"OIICS Nature of Injury Description\"], inplace=True)"
   ]
  },
  {
   "cell_type": "code",
   "execution_count": 359,
   "metadata": {},
   "outputs": [
    {
     "data": {
      "text/plain": [
       "False"
      ]
     },
     "execution_count": 359,
     "metadata": {},
     "output_type": "execute_result"
    }
   ],
   "source": [
    "\"OIICS Nature of Injury Description\" in df_train_treat_missing.columns"
   ]
  },
  {
   "cell_type": "markdown",
   "metadata": {},
   "source": [
    "Check hidden missing values"
   ]
  },
  {
   "cell_type": "code",
   "execution_count": 360,
   "metadata": {},
   "outputs": [
    {
     "data": {
      "text/plain": [
       "Carrier Type\n",
       "1A. PRIVATE                                    49.713340\n",
       "3A. SELF PUBLIC                                21.239493\n",
       "2A. SIF                                        19.362223\n",
       "4A. SELF PRIVATE                                9.196115\n",
       "UNKNOWN                                         0.309046\n",
       "5D. SPECIAL FUND - UNKNOWN                      0.178215\n",
       "5C. SPECIAL FUND - POI CARRIER WCB MENANDS      0.000871\n",
       "5A. SPECIAL FUND - CONS. COMM. (SECT. 25-A)     0.000697\n",
       "Name: proportion, dtype: float64"
      ]
     },
     "execution_count": 360,
     "metadata": {},
     "output_type": "execute_result"
    }
   ],
   "source": [
    "df_train_treat_missing[\"Carrier Type\"].value_counts(dropna=False, normalize=True) * 100"
   ]
  },
  {
   "cell_type": "markdown",
   "metadata": {},
   "source": [
    "**Decision:** 'UNKNOWN' indicates that the type of the insurance provider was unavailable or not recorded at the time the data was collected, so it should be replaced with pd.NA"
   ]
  },
  {
   "cell_type": "code",
   "execution_count": 361,
   "metadata": {},
   "outputs": [
    {
     "data": {
      "text/plain": [
       "Gender\n",
       "M    58.397631\n",
       "F    40.773660\n",
       "U     0.820696\n",
       "X     0.008014\n",
       "Name: proportion, dtype: float64"
      ]
     },
     "execution_count": 361,
     "metadata": {},
     "output_type": "execute_result"
    }
   ],
   "source": [
    "df_train_treat_missing[\"Gender\"].value_counts(dropna=False, normalize=True) * 100"
   ]
  },
  {
   "cell_type": "markdown",
   "metadata": {},
   "source": [
    "**Decision:** Considering both ‘U’ and ‘X’ as missing values seems a reasonable approach, because they represent very small percentages. This way, we minimize assumptions about the data and maintain a focus on the primary gender categories"
   ]
  },
  {
   "cell_type": "code",
   "execution_count": 362,
   "metadata": {},
   "outputs": [
    {
     "data": {
      "text/plain": [
       "Medical Fee Region\n",
       "IV     46.336135\n",
       "I      23.672314\n",
       "II     14.813466\n",
       "III     9.346980\n",
       "UK      5.831105\n",
       "Name: proportion, dtype: float64"
      ]
     },
     "execution_count": 362,
     "metadata": {},
     "output_type": "execute_result"
    }
   ],
   "source": [
    "df_train_treat_missing[\"Medical Fee Region\"].value_counts(dropna=False, normalize=True) * 100"
   ]
  },
  {
   "cell_type": "markdown",
   "metadata": {},
   "source": [
    "**Decision:** 'UK' likely refers to 'Unknown'. Therefore, replacing 'UK' with pd.NA allows subsequent analyses to focus on the regions that are known (I, II, III, IV) without the influence of ambiguous entries"
   ]
  },
  {
   "cell_type": "code",
   "execution_count": 363,
   "metadata": {},
   "outputs": [
    {
     "data": {
      "text/plain": [
       "Alternative Dispute Resolution\n",
       "N    99.544619\n",
       "Y     0.454510\n",
       "U     0.000871\n",
       "Name: proportion, dtype: float64"
      ]
     },
     "execution_count": 363,
     "metadata": {},
     "output_type": "execute_result"
    }
   ],
   "source": [
    "df_train_treat_missing[\"Alternative Dispute Resolution\"].value_counts(dropna=False, normalize=True) * 100"
   ]
  },
  {
   "cell_type": "markdown",
   "metadata": {},
   "source": [
    "**Decision:** Treating 'U' as a missing value (pd.NA) seems a good approach given the binary context of the variable and the low frequency of this value. This will help in maintaining data integrity and ensuring that our analysis is accurate and meaningful"
   ]
  },
  {
   "cell_type": "code",
   "execution_count": 364,
   "metadata": {},
   "outputs": [
    {
     "data": {
      "text/html": [
       "<div>\n",
       "<style scoped>\n",
       "    .dataframe tbody tr th:only-of-type {\n",
       "        vertical-align: middle;\n",
       "    }\n",
       "\n",
       "    .dataframe tbody tr th {\n",
       "        vertical-align: top;\n",
       "    }\n",
       "\n",
       "    .dataframe thead th {\n",
       "        text-align: right;\n",
       "    }\n",
       "</style>\n",
       "<table border=\"1\" class=\"dataframe\">\n",
       "  <thead>\n",
       "    <tr style=\"text-align: right;\">\n",
       "      <th>Claim Identifier</th>\n",
       "      <th>5393875</th>\n",
       "      <th>5393889</th>\n",
       "      <th>5393887</th>\n",
       "      <th>5393863</th>\n",
       "      <th>5393848</th>\n",
       "    </tr>\n",
       "  </thead>\n",
       "  <tbody>\n",
       "    <tr>\n",
       "      <th>Accident Date</th>\n",
       "      <td>2019-12-30</td>\n",
       "      <td>2019-12-06</td>\n",
       "      <td>2019-12-30</td>\n",
       "      <td>2019-12-26</td>\n",
       "      <td>2019-12-28</td>\n",
       "    </tr>\n",
       "    <tr>\n",
       "      <th>Age at Injury</th>\n",
       "      <td>31.0</td>\n",
       "      <td>40.0</td>\n",
       "      <td>61.0</td>\n",
       "      <td>67.0</td>\n",
       "      <td>48.0</td>\n",
       "    </tr>\n",
       "    <tr>\n",
       "      <th>Alternative Dispute Resolution</th>\n",
       "      <td>N</td>\n",
       "      <td>N</td>\n",
       "      <td>N</td>\n",
       "      <td>N</td>\n",
       "      <td>N</td>\n",
       "    </tr>\n",
       "    <tr>\n",
       "      <th>Assembly Date</th>\n",
       "      <td>2020-01-01</td>\n",
       "      <td>2020-01-01</td>\n",
       "      <td>2020-01-01</td>\n",
       "      <td>2020-01-01</td>\n",
       "      <td>2020-01-01</td>\n",
       "    </tr>\n",
       "    <tr>\n",
       "      <th>Attorney/Representative</th>\n",
       "      <td>N</td>\n",
       "      <td>N</td>\n",
       "      <td>N</td>\n",
       "      <td>N</td>\n",
       "      <td>N</td>\n",
       "    </tr>\n",
       "    <tr>\n",
       "      <th>Average Weekly Wage</th>\n",
       "      <td>0.0</td>\n",
       "      <td>1434.8</td>\n",
       "      <td>NaN</td>\n",
       "      <td>0.0</td>\n",
       "      <td>0.0</td>\n",
       "    </tr>\n",
       "    <tr>\n",
       "      <th>Birth Year</th>\n",
       "      <td>1988.0</td>\n",
       "      <td>1979.0</td>\n",
       "      <td>1958.0</td>\n",
       "      <td>1952.0</td>\n",
       "      <td>1971.0</td>\n",
       "    </tr>\n",
       "    <tr>\n",
       "      <th>C-2 Date</th>\n",
       "      <td>2019-12-31</td>\n",
       "      <td>2020-01-01</td>\n",
       "      <td>2019-12-31</td>\n",
       "      <td>2019-12-31</td>\n",
       "      <td>2019-12-31</td>\n",
       "    </tr>\n",
       "    <tr>\n",
       "      <th>C-3 Date</th>\n",
       "      <td>NaN</td>\n",
       "      <td>NaN</td>\n",
       "      <td>NaN</td>\n",
       "      <td>NaN</td>\n",
       "      <td>NaN</td>\n",
       "    </tr>\n",
       "    <tr>\n",
       "      <th>Carrier Name</th>\n",
       "      <td>NEW HAMPSHIRE INSURANCE CO</td>\n",
       "      <td>INDEMNITY INSURANCE CO OF</td>\n",
       "      <td>STATE INSURANCE FUND</td>\n",
       "      <td>INDEMNITY INS. OF N AMERICA</td>\n",
       "      <td>LM INSURANCE CORP</td>\n",
       "    </tr>\n",
       "    <tr>\n",
       "      <th>Carrier Type</th>\n",
       "      <td>1A. PRIVATE</td>\n",
       "      <td>1A. PRIVATE</td>\n",
       "      <td>2A. SIF</td>\n",
       "      <td>1A. PRIVATE</td>\n",
       "      <td>1A. PRIVATE</td>\n",
       "    </tr>\n",
       "    <tr>\n",
       "      <th>Claim Injury Type</th>\n",
       "      <td>2. NON-COMP</td>\n",
       "      <td>4. TEMPORARY</td>\n",
       "      <td>2. NON-COMP</td>\n",
       "      <td>3. MED ONLY</td>\n",
       "      <td>2. NON-COMP</td>\n",
       "    </tr>\n",
       "    <tr>\n",
       "      <th>County of Injury</th>\n",
       "      <td>ST. LAWRENCE</td>\n",
       "      <td>ORANGE</td>\n",
       "      <td>DUTCHESS</td>\n",
       "      <td>SUFFOLK</td>\n",
       "      <td>ONONDAGA</td>\n",
       "    </tr>\n",
       "    <tr>\n",
       "      <th>COVID-19 Indicator</th>\n",
       "      <td>N</td>\n",
       "      <td>N</td>\n",
       "      <td>N</td>\n",
       "      <td>N</td>\n",
       "      <td>N</td>\n",
       "    </tr>\n",
       "    <tr>\n",
       "      <th>District Name</th>\n",
       "      <td>SYRACUSE</td>\n",
       "      <td>ALBANY</td>\n",
       "      <td>ALBANY</td>\n",
       "      <td>HAUPPAUGE</td>\n",
       "      <td>SYRACUSE</td>\n",
       "    </tr>\n",
       "    <tr>\n",
       "      <th>First Hearing Date</th>\n",
       "      <td>NaN</td>\n",
       "      <td>NaN</td>\n",
       "      <td>NaN</td>\n",
       "      <td>NaN</td>\n",
       "      <td>NaN</td>\n",
       "    </tr>\n",
       "    <tr>\n",
       "      <th>Gender</th>\n",
       "      <td>M</td>\n",
       "      <td>M</td>\n",
       "      <td>M</td>\n",
       "      <td>M</td>\n",
       "      <td>M</td>\n",
       "    </tr>\n",
       "    <tr>\n",
       "      <th>IME-4 Count</th>\n",
       "      <td>NaN</td>\n",
       "      <td>NaN</td>\n",
       "      <td>NaN</td>\n",
       "      <td>NaN</td>\n",
       "      <td>NaN</td>\n",
       "    </tr>\n",
       "    <tr>\n",
       "      <th>Industry Code</th>\n",
       "      <td>44.0</td>\n",
       "      <td>56.0</td>\n",
       "      <td>62.0</td>\n",
       "      <td>44.0</td>\n",
       "      <td>72.0</td>\n",
       "    </tr>\n",
       "    <tr>\n",
       "      <th>Industry Code Description</th>\n",
       "      <td>RETAIL TRADE</td>\n",
       "      <td>ADMINISTRATIVE AND SUPPORT AND WASTE MANAGEMEN...</td>\n",
       "      <td>HEALTH CARE AND SOCIAL ASSISTANCE</td>\n",
       "      <td>RETAIL TRADE</td>\n",
       "      <td>ACCOMMODATION AND FOOD SERVICES</td>\n",
       "    </tr>\n",
       "    <tr>\n",
       "      <th>Medical Fee Region</th>\n",
       "      <td>I</td>\n",
       "      <td>II</td>\n",
       "      <td>II</td>\n",
       "      <td>IV</td>\n",
       "      <td>I</td>\n",
       "    </tr>\n",
       "    <tr>\n",
       "      <th>WCIO Cause of Injury Code</th>\n",
       "      <td>27.0</td>\n",
       "      <td>79.0</td>\n",
       "      <td>16.0</td>\n",
       "      <td>31.0</td>\n",
       "      <td>19.0</td>\n",
       "    </tr>\n",
       "    <tr>\n",
       "      <th>WCIO Cause of Injury Description</th>\n",
       "      <td>FROM LIQUID OR GREASE SPILLS</td>\n",
       "      <td>OBJECT BEING LIFTED OR HANDLED</td>\n",
       "      <td>HAND TOOL, UTENSIL; NOT POWERED</td>\n",
       "      <td>FALL, SLIP OR TRIP, NOC</td>\n",
       "      <td>CUT, PUNCTURE, SCRAPE, NOC</td>\n",
       "    </tr>\n",
       "    <tr>\n",
       "      <th>WCIO Nature of Injury Code</th>\n",
       "      <td>10.0</td>\n",
       "      <td>7.0</td>\n",
       "      <td>43.0</td>\n",
       "      <td>10.0</td>\n",
       "      <td>40.0</td>\n",
       "    </tr>\n",
       "    <tr>\n",
       "      <th>WCIO Nature of Injury Description</th>\n",
       "      <td>CONTUSION</td>\n",
       "      <td>CONCUSSION</td>\n",
       "      <td>PUNCTURE</td>\n",
       "      <td>CONTUSION</td>\n",
       "      <td>LACERATION</td>\n",
       "    </tr>\n",
       "    <tr>\n",
       "      <th>WCIO Part Of Body Code</th>\n",
       "      <td>62.0</td>\n",
       "      <td>10.0</td>\n",
       "      <td>36.0</td>\n",
       "      <td>38.0</td>\n",
       "      <td>36.0</td>\n",
       "    </tr>\n",
       "    <tr>\n",
       "      <th>WCIO Part Of Body Description</th>\n",
       "      <td>BUTTOCKS</td>\n",
       "      <td>MULTIPLE HEAD INJURY</td>\n",
       "      <td>FINGER(S)</td>\n",
       "      <td>SHOULDER(S)</td>\n",
       "      <td>FINGER(S)</td>\n",
       "    </tr>\n",
       "    <tr>\n",
       "      <th>Zip Code</th>\n",
       "      <td>13662</td>\n",
       "      <td>12589</td>\n",
       "      <td>12603</td>\n",
       "      <td>11772</td>\n",
       "      <td>13029</td>\n",
       "    </tr>\n",
       "    <tr>\n",
       "      <th>Agreement Reached</th>\n",
       "      <td>0.0</td>\n",
       "      <td>0.0</td>\n",
       "      <td>0.0</td>\n",
       "      <td>0.0</td>\n",
       "      <td>0.0</td>\n",
       "    </tr>\n",
       "    <tr>\n",
       "      <th>WCB Decision</th>\n",
       "      <td>Not Work Related</td>\n",
       "      <td>Not Work Related</td>\n",
       "      <td>Not Work Related</td>\n",
       "      <td>Not Work Related</td>\n",
       "      <td>Not Work Related</td>\n",
       "    </tr>\n",
       "    <tr>\n",
       "      <th>Number of Dependents</th>\n",
       "      <td>1.0</td>\n",
       "      <td>6.0</td>\n",
       "      <td>1.0</td>\n",
       "      <td>5.0</td>\n",
       "      <td>1.0</td>\n",
       "    </tr>\n",
       "  </tbody>\n",
       "</table>\n",
       "</div>"
      ],
      "text/plain": [
       "Claim Identifier                                        5393875  \\\n",
       "Accident Date                                        2019-12-30   \n",
       "Age at Injury                                              31.0   \n",
       "Alternative Dispute Resolution                                N   \n",
       "Assembly Date                                        2020-01-01   \n",
       "Attorney/Representative                                       N   \n",
       "Average Weekly Wage                                         0.0   \n",
       "Birth Year                                               1988.0   \n",
       "C-2 Date                                             2019-12-31   \n",
       "C-3 Date                                                    NaN   \n",
       "Carrier Name                         NEW HAMPSHIRE INSURANCE CO   \n",
       "Carrier Type                                        1A. PRIVATE   \n",
       "Claim Injury Type                                   2. NON-COMP   \n",
       "County of Injury                                   ST. LAWRENCE   \n",
       "COVID-19 Indicator                                            N   \n",
       "District Name                                          SYRACUSE   \n",
       "First Hearing Date                                          NaN   \n",
       "Gender                                                        M   \n",
       "IME-4 Count                                                 NaN   \n",
       "Industry Code                                              44.0   \n",
       "Industry Code Description                          RETAIL TRADE   \n",
       "Medical Fee Region                                            I   \n",
       "WCIO Cause of Injury Code                                  27.0   \n",
       "WCIO Cause of Injury Description   FROM LIQUID OR GREASE SPILLS   \n",
       "WCIO Nature of Injury Code                                 10.0   \n",
       "WCIO Nature of Injury Description                     CONTUSION   \n",
       "WCIO Part Of Body Code                                     62.0   \n",
       "WCIO Part Of Body Description                          BUTTOCKS   \n",
       "Zip Code                                                  13662   \n",
       "Agreement Reached                                           0.0   \n",
       "WCB Decision                                   Not Work Related   \n",
       "Number of Dependents                                        1.0   \n",
       "\n",
       "Claim Identifier                                                             5393889  \\\n",
       "Accident Date                                                             2019-12-06   \n",
       "Age at Injury                                                                   40.0   \n",
       "Alternative Dispute Resolution                                                     N   \n",
       "Assembly Date                                                             2020-01-01   \n",
       "Attorney/Representative                                                            N   \n",
       "Average Weekly Wage                                                           1434.8   \n",
       "Birth Year                                                                    1979.0   \n",
       "C-2 Date                                                                  2020-01-01   \n",
       "C-3 Date                                                                         NaN   \n",
       "Carrier Name                                               INDEMNITY INSURANCE CO OF   \n",
       "Carrier Type                                                             1A. PRIVATE   \n",
       "Claim Injury Type                                                       4. TEMPORARY   \n",
       "County of Injury                                                              ORANGE   \n",
       "COVID-19 Indicator                                                                 N   \n",
       "District Name                                                                 ALBANY   \n",
       "First Hearing Date                                                               NaN   \n",
       "Gender                                                                             M   \n",
       "IME-4 Count                                                                      NaN   \n",
       "Industry Code                                                                   56.0   \n",
       "Industry Code Description          ADMINISTRATIVE AND SUPPORT AND WASTE MANAGEMEN...   \n",
       "Medical Fee Region                                                                II   \n",
       "WCIO Cause of Injury Code                                                       79.0   \n",
       "WCIO Cause of Injury Description                      OBJECT BEING LIFTED OR HANDLED   \n",
       "WCIO Nature of Injury Code                                                       7.0   \n",
       "WCIO Nature of Injury Description                                         CONCUSSION   \n",
       "WCIO Part Of Body Code                                                          10.0   \n",
       "WCIO Part Of Body Description                                   MULTIPLE HEAD INJURY   \n",
       "Zip Code                                                                       12589   \n",
       "Agreement Reached                                                                0.0   \n",
       "WCB Decision                                                        Not Work Related   \n",
       "Number of Dependents                                                             6.0   \n",
       "\n",
       "Claim Identifier                                             5393887  \\\n",
       "Accident Date                                             2019-12-30   \n",
       "Age at Injury                                                   61.0   \n",
       "Alternative Dispute Resolution                                     N   \n",
       "Assembly Date                                             2020-01-01   \n",
       "Attorney/Representative                                            N   \n",
       "Average Weekly Wage                                              NaN   \n",
       "Birth Year                                                    1958.0   \n",
       "C-2 Date                                                  2019-12-31   \n",
       "C-3 Date                                                         NaN   \n",
       "Carrier Name                                    STATE INSURANCE FUND   \n",
       "Carrier Type                                                 2A. SIF   \n",
       "Claim Injury Type                                        2. NON-COMP   \n",
       "County of Injury                                            DUTCHESS   \n",
       "COVID-19 Indicator                                                 N   \n",
       "District Name                                                 ALBANY   \n",
       "First Hearing Date                                               NaN   \n",
       "Gender                                                             M   \n",
       "IME-4 Count                                                      NaN   \n",
       "Industry Code                                                   62.0   \n",
       "Industry Code Description          HEALTH CARE AND SOCIAL ASSISTANCE   \n",
       "Medical Fee Region                                                II   \n",
       "WCIO Cause of Injury Code                                       16.0   \n",
       "WCIO Cause of Injury Description     HAND TOOL, UTENSIL; NOT POWERED   \n",
       "WCIO Nature of Injury Code                                      43.0   \n",
       "WCIO Nature of Injury Description                           PUNCTURE   \n",
       "WCIO Part Of Body Code                                          36.0   \n",
       "WCIO Part Of Body Description                              FINGER(S)   \n",
       "Zip Code                                                       12603   \n",
       "Agreement Reached                                                0.0   \n",
       "WCB Decision                                        Not Work Related   \n",
       "Number of Dependents                                             1.0   \n",
       "\n",
       "Claim Identifier                                       5393863  \\\n",
       "Accident Date                                       2019-12-26   \n",
       "Age at Injury                                             67.0   \n",
       "Alternative Dispute Resolution                               N   \n",
       "Assembly Date                                       2020-01-01   \n",
       "Attorney/Representative                                      N   \n",
       "Average Weekly Wage                                        0.0   \n",
       "Birth Year                                              1952.0   \n",
       "C-2 Date                                            2019-12-31   \n",
       "C-3 Date                                                   NaN   \n",
       "Carrier Name                       INDEMNITY INS. OF N AMERICA   \n",
       "Carrier Type                                       1A. PRIVATE   \n",
       "Claim Injury Type                                  3. MED ONLY   \n",
       "County of Injury                                       SUFFOLK   \n",
       "COVID-19 Indicator                                           N   \n",
       "District Name                                        HAUPPAUGE   \n",
       "First Hearing Date                                         NaN   \n",
       "Gender                                                       M   \n",
       "IME-4 Count                                                NaN   \n",
       "Industry Code                                             44.0   \n",
       "Industry Code Description                         RETAIL TRADE   \n",
       "Medical Fee Region                                          IV   \n",
       "WCIO Cause of Injury Code                                 31.0   \n",
       "WCIO Cause of Injury Description       FALL, SLIP OR TRIP, NOC   \n",
       "WCIO Nature of Injury Code                                10.0   \n",
       "WCIO Nature of Injury Description                    CONTUSION   \n",
       "WCIO Part Of Body Code                                    38.0   \n",
       "WCIO Part Of Body Description                      SHOULDER(S)   \n",
       "Zip Code                                                 11772   \n",
       "Agreement Reached                                          0.0   \n",
       "WCB Decision                                  Not Work Related   \n",
       "Number of Dependents                                       5.0   \n",
       "\n",
       "Claim Identifier                                           5393848  \n",
       "Accident Date                                           2019-12-28  \n",
       "Age at Injury                                                 48.0  \n",
       "Alternative Dispute Resolution                                   N  \n",
       "Assembly Date                                           2020-01-01  \n",
       "Attorney/Representative                                          N  \n",
       "Average Weekly Wage                                            0.0  \n",
       "Birth Year                                                  1971.0  \n",
       "C-2 Date                                                2019-12-31  \n",
       "C-3 Date                                                       NaN  \n",
       "Carrier Name                                     LM INSURANCE CORP  \n",
       "Carrier Type                                           1A. PRIVATE  \n",
       "Claim Injury Type                                      2. NON-COMP  \n",
       "County of Injury                                          ONONDAGA  \n",
       "COVID-19 Indicator                                               N  \n",
       "District Name                                             SYRACUSE  \n",
       "First Hearing Date                                             NaN  \n",
       "Gender                                                           M  \n",
       "IME-4 Count                                                    NaN  \n",
       "Industry Code                                                 72.0  \n",
       "Industry Code Description          ACCOMMODATION AND FOOD SERVICES  \n",
       "Medical Fee Region                                               I  \n",
       "WCIO Cause of Injury Code                                     19.0  \n",
       "WCIO Cause of Injury Description        CUT, PUNCTURE, SCRAPE, NOC  \n",
       "WCIO Nature of Injury Code                                    40.0  \n",
       "WCIO Nature of Injury Description                       LACERATION  \n",
       "WCIO Part Of Body Code                                        36.0  \n",
       "WCIO Part Of Body Description                            FINGER(S)  \n",
       "Zip Code                                                     13029  \n",
       "Agreement Reached                                              0.0  \n",
       "WCB Decision                                      Not Work Related  \n",
       "Number of Dependents                                           1.0  "
      ]
     },
     "execution_count": 364,
     "metadata": {},
     "output_type": "execute_result"
    }
   ],
   "source": [
    "# Filter the DataFrame for rows containing missing values\n",
    "df_missing = df_train_treat_missing[df_train_treat_missing.isna().any(axis=1)]\n",
    "\n",
    "# Display the filtered DataFrame\n",
    "df_missing.head().T"
   ]
  },
  {
   "cell_type": "markdown",
   "metadata": {},
   "source": [
    "**Conclusion:** The missing values in the original DataFrame are represented as np.nan. To ensure consistency throughout our dataset, we will standardize the representation of missing values (as np.nan)"
   ]
  },
  {
   "cell_type": "code",
   "execution_count": 365,
   "metadata": {},
   "outputs": [],
   "source": [
    "df_train_treat_missing[\"Carrier Type\"].replace(\"UNKNOWN\", np.nan, inplace=True)\n",
    "df_train_treat_missing[\"Gender\"].replace([\"U\", \"X\"], np.nan, inplace=True)\n",
    "df_train_treat_missing[\"Medical Fee Region\"].replace(\"UK\", np.nan, inplace=True)\n",
    "df_train_treat_missing[\"Alternative Dispute Resolution\"].replace(\"U\", np.nan, inplace=True)"
   ]
  },
  {
   "cell_type": "code",
   "execution_count": 366,
   "metadata": {},
   "outputs": [
    {
     "data": {
      "text/plain": [
       "IME-4 Count                          76.86\n",
       "First Hearing Date                   73.73\n",
       "C-3 Date                             67.38\n",
       "Medical Fee Region                    5.83\n",
       "Birth Year                            5.07\n",
       "Zip Code                              4.99\n",
       "Average Weekly Wage                   4.99\n",
       "WCIO Part Of Body Description         2.98\n",
       "WCIO Part Of Body Code                2.98\n",
       "WCIO Nature of Injury Code            2.73\n",
       "WCIO Nature of Injury Description     2.73\n",
       "WCIO Cause of Injury Code             2.72\n",
       "WCIO Cause of Injury Description      2.72\n",
       "C-2 Date                              2.54\n",
       "Industry Code                         1.73\n",
       "Industry Code Description             1.73\n",
       "Gender                                0.83\n",
       "Accident Date                         0.64\n",
       "Carrier Type                          0.31\n",
       "dtype: float64"
      ]
     },
     "execution_count": 366,
     "metadata": {},
     "output_type": "execute_result"
    }
   ],
   "source": [
    "# Calculate the percentage of missing values in each column\n",
    "perc_missing_values = (df_train_treat_missing.isna().sum() / len(df_train_treat_missing) * 100).round(2)\n",
    "perc_missing_values[perc_missing_values > 0].sort_values(ascending=False)"
   ]
  },
  {
   "cell_type": "markdown",
   "metadata": {},
   "source": [
    "Check the percentage and cumulative percentage of rows in the DataFrame based on the number of missing values"
   ]
  },
  {
   "cell_type": "code",
   "execution_count": 367,
   "metadata": {},
   "outputs": [
    {
     "data": {
      "text/html": [
       "<div>\n",
       "<style scoped>\n",
       "    .dataframe tbody tr th:only-of-type {\n",
       "        vertical-align: middle;\n",
       "    }\n",
       "\n",
       "    .dataframe tbody tr th {\n",
       "        vertical-align: top;\n",
       "    }\n",
       "\n",
       "    .dataframe thead th {\n",
       "        text-align: right;\n",
       "    }\n",
       "</style>\n",
       "<table border=\"1\" class=\"dataframe\">\n",
       "  <thead>\n",
       "    <tr style=\"text-align: right;\">\n",
       "      <th></th>\n",
       "      <th>Rows (%)</th>\n",
       "      <th>Cumulative Rows (%)</th>\n",
       "    </tr>\n",
       "    <tr>\n",
       "      <th>Missing Values</th>\n",
       "      <th></th>\n",
       "      <th></th>\n",
       "    </tr>\n",
       "  </thead>\n",
       "  <tbody>\n",
       "    <tr>\n",
       "      <th>0</th>\n",
       "      <td>10.92</td>\n",
       "      <td>10.92</td>\n",
       "    </tr>\n",
       "    <tr>\n",
       "      <th>1</th>\n",
       "      <td>12.06</td>\n",
       "      <td>22.98</td>\n",
       "    </tr>\n",
       "    <tr>\n",
       "      <th>2</th>\n",
       "      <td>13.85</td>\n",
       "      <td>36.83</td>\n",
       "    </tr>\n",
       "    <tr>\n",
       "      <th>3</th>\n",
       "      <td>48.69</td>\n",
       "      <td>85.53</td>\n",
       "    </tr>\n",
       "    <tr>\n",
       "      <th>4</th>\n",
       "      <td>10.44</td>\n",
       "      <td>95.97</td>\n",
       "    </tr>\n",
       "    <tr>\n",
       "      <th>5</th>\n",
       "      <td>1.22</td>\n",
       "      <td>97.19</td>\n",
       "    </tr>\n",
       "    <tr>\n",
       "      <th>6</th>\n",
       "      <td>0.13</td>\n",
       "      <td>97.31</td>\n",
       "    </tr>\n",
       "    <tr>\n",
       "      <th>7</th>\n",
       "      <td>0.05</td>\n",
       "      <td>97.36</td>\n",
       "    </tr>\n",
       "    <tr>\n",
       "      <th>8</th>\n",
       "      <td>0.08</td>\n",
       "      <td>97.44</td>\n",
       "    </tr>\n",
       "    <tr>\n",
       "      <th>9</th>\n",
       "      <td>0.40</td>\n",
       "      <td>97.83</td>\n",
       "    </tr>\n",
       "    <tr>\n",
       "      <th>10</th>\n",
       "      <td>0.57</td>\n",
       "      <td>98.40</td>\n",
       "    </tr>\n",
       "    <tr>\n",
       "      <th>11</th>\n",
       "      <td>0.62</td>\n",
       "      <td>99.02</td>\n",
       "    </tr>\n",
       "    <tr>\n",
       "      <th>12</th>\n",
       "      <td>0.72</td>\n",
       "      <td>99.74</td>\n",
       "    </tr>\n",
       "    <tr>\n",
       "      <th>13</th>\n",
       "      <td>0.23</td>\n",
       "      <td>99.97</td>\n",
       "    </tr>\n",
       "    <tr>\n",
       "      <th>14</th>\n",
       "      <td>0.03</td>\n",
       "      <td>100.00</td>\n",
       "    </tr>\n",
       "    <tr>\n",
       "      <th>15</th>\n",
       "      <td>0.00</td>\n",
       "      <td>100.00</td>\n",
       "    </tr>\n",
       "    <tr>\n",
       "      <th>16</th>\n",
       "      <td>0.00</td>\n",
       "      <td>100.00</td>\n",
       "    </tr>\n",
       "  </tbody>\n",
       "</table>\n",
       "</div>"
      ],
      "text/plain": [
       "                Rows (%)  Cumulative Rows (%)\n",
       "Missing Values                               \n",
       "0                  10.92                10.92\n",
       "1                  12.06                22.98\n",
       "2                  13.85                36.83\n",
       "3                  48.69                85.53\n",
       "4                  10.44                95.97\n",
       "5                   1.22                97.19\n",
       "6                   0.13                97.31\n",
       "7                   0.05                97.36\n",
       "8                   0.08                97.44\n",
       "9                   0.40                97.83\n",
       "10                  0.57                98.40\n",
       "11                  0.62                99.02\n",
       "12                  0.72                99.74\n",
       "13                  0.23                99.97\n",
       "14                  0.03               100.00\n",
       "15                  0.00               100.00\n",
       "16                  0.00               100.00"
      ]
     },
     "execution_count": 367,
     "metadata": {},
     "output_type": "execute_result"
    }
   ],
   "source": [
    "# Count the number of missing values per row\n",
    "missing_counts = df_train_treat_missing.isna().sum(axis=1)\n",
    "\n",
    "# Calculate the percentage of rows for each missing count\n",
    "missing_percentage = missing_counts.value_counts(normalize=True).sort_index() * 100\n",
    "\n",
    "# Calculate the cumulative percentage\n",
    "cumulative_percentage = missing_percentage.cumsum()\n",
    "\n",
    "# Create a DataFrame to display both percentages and cumulative percentages\n",
    "results_df = pd.DataFrame({\n",
    "    'Rows (%)': missing_percentage.round(2),\n",
    "    'Cumulative Rows (%)': cumulative_percentage.round(2)\n",
    "})\n",
    "\n",
    "# Set the index to the percentage of missing values\n",
    "results_df.index.name = 'Missing Values'\n",
    "\n",
    "# Display the results\n",
    "results_df"
   ]
  },
  {
   "cell_type": "code",
   "execution_count": 368,
   "metadata": {},
   "outputs": [
    {
     "data": {
      "image/png": "[encoded data removed]",
      "text/plain": [
       "<Figure size 1000x600 with 1 Axes>"
      ]
     },
     "metadata": {
      "image/png": {
       "height": 584,
       "width": 984
      }
     },
     "output_type": "display_data"
    }
   ],
   "source": [
    "# Create a figure and axis\n",
    "plt.figure(figsize=(10, 6))\n",
    "\n",
    "# Plot the cumulative percentage as a line chart\n",
    "plt.plot(results_df.index, results_df['Cumulative Rows (%)'], color='blue', marker='o', linewidth=2)\n",
    "\n",
    "# Add labels and title\n",
    "plt.title('Cumulative % of Rows by Count of Missing Values', fontsize=14)\n",
    "plt.xlabel('Count of Missing Values', fontsize=12)\n",
    "plt.ylabel('Cumulative % of Rows', fontsize=12)\n",
    "\n",
    "# Set x-ticks to match the index and y-ticks from 0 to 100%\n",
    "plt.xticks(results_df.index)\n",
    "plt.yticks(range(0, 101, 10))\n",
    "\n",
    "# Add grid for better readability\n",
    "plt.grid(axis='y', linestyle='--', alpha=0.7)\n",
    "\n",
    "# Show the plot\n",
    "plt.tight_layout()\n",
    "plt.show()"
   ]
  },
  {
   "cell_type": "code",
   "execution_count": 369,
   "metadata": {},
   "outputs": [
    {
     "data": {
      "text/html": [
       "<div>\n",
       "<style scoped>\n",
       "    .dataframe tbody tr th:only-of-type {\n",
       "        vertical-align: middle;\n",
       "    }\n",
       "\n",
       "    .dataframe tbody tr th {\n",
       "        vertical-align: top;\n",
       "    }\n",
       "\n",
       "    .dataframe thead th {\n",
       "        text-align: right;\n",
       "    }\n",
       "</style>\n",
       "<table border=\"1\" class=\"dataframe\">\n",
       "  <thead>\n",
       "    <tr style=\"text-align: right;\">\n",
       "      <th></th>\n",
       "      <th>Rows (%)</th>\n",
       "      <th>Cumulative Rows (%)</th>\n",
       "    </tr>\n",
       "    <tr>\n",
       "      <th>Missing Values (%)</th>\n",
       "      <th></th>\n",
       "      <th></th>\n",
       "    </tr>\n",
       "  </thead>\n",
       "  <tbody>\n",
       "    <tr>\n",
       "      <th>0.00</th>\n",
       "      <td>10.92</td>\n",
       "      <td>10.92</td>\n",
       "    </tr>\n",
       "    <tr>\n",
       "      <th>3.23</th>\n",
       "      <td>12.06</td>\n",
       "      <td>22.98</td>\n",
       "    </tr>\n",
       "    <tr>\n",
       "      <th>6.45</th>\n",
       "      <td>13.85</td>\n",
       "      <td>36.83</td>\n",
       "    </tr>\n",
       "    <tr>\n",
       "      <th>9.68</th>\n",
       "      <td>48.69</td>\n",
       "      <td>85.53</td>\n",
       "    </tr>\n",
       "    <tr>\n",
       "      <th>12.90</th>\n",
       "      <td>10.44</td>\n",
       "      <td>95.97</td>\n",
       "    </tr>\n",
       "    <tr>\n",
       "      <th>16.13</th>\n",
       "      <td>1.22</td>\n",
       "      <td>97.19</td>\n",
       "    </tr>\n",
       "    <tr>\n",
       "      <th>19.35</th>\n",
       "      <td>0.13</td>\n",
       "      <td>97.31</td>\n",
       "    </tr>\n",
       "    <tr>\n",
       "      <th>22.58</th>\n",
       "      <td>0.05</td>\n",
       "      <td>97.36</td>\n",
       "    </tr>\n",
       "    <tr>\n",
       "      <th>25.81</th>\n",
       "      <td>0.08</td>\n",
       "      <td>97.44</td>\n",
       "    </tr>\n",
       "    <tr>\n",
       "      <th>29.03</th>\n",
       "      <td>0.40</td>\n",
       "      <td>97.83</td>\n",
       "    </tr>\n",
       "    <tr>\n",
       "      <th>32.26</th>\n",
       "      <td>0.57</td>\n",
       "      <td>98.40</td>\n",
       "    </tr>\n",
       "    <tr>\n",
       "      <th>35.48</th>\n",
       "      <td>0.62</td>\n",
       "      <td>99.02</td>\n",
       "    </tr>\n",
       "    <tr>\n",
       "      <th>38.71</th>\n",
       "      <td>0.72</td>\n",
       "      <td>99.74</td>\n",
       "    </tr>\n",
       "    <tr>\n",
       "      <th>41.94</th>\n",
       "      <td>0.23</td>\n",
       "      <td>99.97</td>\n",
       "    </tr>\n",
       "    <tr>\n",
       "      <th>45.16</th>\n",
       "      <td>0.03</td>\n",
       "      <td>100.00</td>\n",
       "    </tr>\n",
       "    <tr>\n",
       "      <th>48.39</th>\n",
       "      <td>0.00</td>\n",
       "      <td>100.00</td>\n",
       "    </tr>\n",
       "    <tr>\n",
       "      <th>51.61</th>\n",
       "      <td>0.00</td>\n",
       "      <td>100.00</td>\n",
       "    </tr>\n",
       "  </tbody>\n",
       "</table>\n",
       "</div>"
      ],
      "text/plain": [
       "                    Rows (%)  Cumulative Rows (%)\n",
       "Missing Values (%)                               \n",
       "0.00                   10.92                10.92\n",
       "3.23                   12.06                22.98\n",
       "6.45                   13.85                36.83\n",
       "9.68                   48.69                85.53\n",
       "12.90                  10.44                95.97\n",
       "16.13                   1.22                97.19\n",
       "19.35                   0.13                97.31\n",
       "22.58                   0.05                97.36\n",
       "25.81                   0.08                97.44\n",
       "29.03                   0.40                97.83\n",
       "32.26                   0.57                98.40\n",
       "35.48                   0.62                99.02\n",
       "38.71                   0.72                99.74\n",
       "41.94                   0.23                99.97\n",
       "45.16                   0.03               100.00\n",
       "48.39                   0.00               100.00\n",
       "51.61                   0.00               100.00"
      ]
     },
     "execution_count": 369,
     "metadata": {},
     "output_type": "execute_result"
    }
   ],
   "source": [
    "# Count the number of missing values per row\n",
    "missing_counts = df_train_treat_missing.isna().sum(axis=1)\n",
    "\n",
    "# Calculate the percentage of missing values per row\n",
    "total_columns = df_train_treat_missing.shape[1]  # Total number of columns\n",
    "missing_value_percentage_per_row = (missing_counts / total_columns) * 100\n",
    "\n",
    "# Calculate the percentage of rows for each unique missing value percentage\n",
    "missing_percentage = pd.Series(missing_value_percentage_per_row.round(2)).value_counts(normalize=True).sort_index() * 100\n",
    "\n",
    "# Calculate the cumulative percentage\n",
    "cumulative_percentage = missing_percentage.cumsum()\n",
    "\n",
    "# Create a DataFrame to display the percentage of missing values and cumulative percentages\n",
    "results_df = pd.DataFrame({\n",
    "    'Rows (%)': missing_percentage.round(2),\n",
    "    'Cumulative Rows (%)': cumulative_percentage.round(2)\n",
    "})\n",
    "\n",
    "# Set the index to the percentage of missing values\n",
    "results_df.index.name = 'Missing Values (%)'\n",
    "\n",
    "# Display the results\n",
    "results_df"
   ]
  },
  {
   "cell_type": "code",
   "execution_count": 370,
   "metadata": {},
   "outputs": [
    {
     "data": {
      "image/png": "[encoded data removed]",
      "text/plain": [
       "<Figure size 1000x600 with 1 Axes>"
      ]
     },
     "metadata": {
      "image/png": {
       "height": 584,
       "width": 984
      }
     },
     "output_type": "display_data"
    }
   ],
   "source": [
    "# Create a figure and axis\n",
    "plt.figure(figsize=(10, 6))\n",
    "\n",
    "# Plot the cumulative percentage as a line chart\n",
    "plt.plot(results_df.index, results_df['Cumulative Rows (%)'], color='blue', marker='o', linewidth=2)\n",
    "\n",
    "# Add labels and title\n",
    "plt.title('Cumulative % of Rows by % of Missing Values', fontsize=14)\n",
    "plt.xlabel('% of Missing Values', fontsize=12)\n",
    "plt.ylabel('Cumulative % of Rows', fontsize=12)\n",
    "\n",
    "# Set x-ticks to match the index and y-ticks from 0 to 100%\n",
    "plt.xticks(results_df.index)\n",
    "plt.yticks(range(0, 101, 10))\n",
    "\n",
    "# Add grid for better readability\n",
    "plt.grid(axis='y', linestyle='--', alpha=0.7)\n",
    "\n",
    "# Show the plot\n",
    "plt.tight_layout()\n",
    "plt.show()"
   ]
  },
  {
   "cell_type": "code",
   "execution_count": null,
   "metadata": {},
   "outputs": [],
   "source": []
  },
  {
   "cell_type": "code",
   "execution_count": null,
   "metadata": {},
   "outputs": [],
   "source": []
  },
  {
   "cell_type": "code",
   "execution_count": null,
   "metadata": {},
   "outputs": [],
   "source": []
  },
  {
   "cell_type": "markdown",
   "metadata": {},
   "source": [
    "\"As a general rule of thumb, only features that are missing in excess of 60% of their values should be considered for complete removal, so, in this case, we should not remove the observations\" (Fundamentals of Machine Learning for Predictive Data Analytics Algorithms)."
   ]
  },
  {
   "cell_type": "markdown",
   "metadata": {},
   "source": [
    "- Following the rule, we could exclude 'C-3 Date' and 'OIICS Nature of Injury Description'"
   ]
  },
  {
   "cell_type": "code",
   "execution_count": 375,
   "metadata": {},
   "outputs": [
    {
     "data": {
      "text/plain": [
       "C-3 Date\n",
       "NaN           0.673805\n",
       "2021-04-21    0.000610\n",
       "2020-02-10    0.000605\n",
       "2020-10-26    0.000605\n",
       "2020-09-23    0.000601\n",
       "                ...   \n",
       "2019-04-04    0.000002\n",
       "2019-12-09    0.000002\n",
       "2019-03-28    0.000002\n",
       "2019-04-03    0.000002\n",
       "2019-07-03    0.000002\n",
       "Name: proportion, Length: 1649, dtype: float64"
      ]
     },
     "execution_count": 375,
     "metadata": {},
     "output_type": "execute_result"
    }
   ],
   "source": [
    "df_train_treat_missing[\"C-3 Date\"].value_counts(dropna=False, normalize=True)"
   ]
  },
  {
   "cell_type": "code",
   "execution_count": 371,
   "metadata": {},
   "outputs": [],
   "source": [
    "# dropping columns with more than 60% NaN\n",
    "#verificar se isso é uma percentagem relevante \n",
    "\n",
    "threshold = 0.6 * len(df_train_treat_missing)\n",
    "\n",
    "# Drop columns where more than 60% of the data is NaN\n",
    "train_data_cleaned = df_train_treat_missing.dropna(thresh=len(df_train) - threshold, axis=1)"
   ]
  },
  {
   "cell_type": "code",
   "execution_count": 372,
   "metadata": {},
   "outputs": [
    {
     "data": {
      "text/plain": [
       "574025"
      ]
     },
     "execution_count": 372,
     "metadata": {},
     "output_type": "execute_result"
    }
   ],
   "source": [
    "len(df_train_treat_missing)"
   ]
  },
  {
   "cell_type": "code",
   "execution_count": 376,
   "metadata": {},
   "outputs": [
    {
     "data": {
      "text/plain": [
       "(574025, 31)"
      ]
     },
     "execution_count": 376,
     "metadata": {},
     "output_type": "execute_result"
    }
   ],
   "source": [
    "df_train_treat_missing.shape"
   ]
  },
  {
   "cell_type": "code",
   "execution_count": 373,
   "metadata": {},
   "outputs": [
    {
     "data": {
      "text/plain": [
       "574025"
      ]
     },
     "execution_count": 373,
     "metadata": {},
     "output_type": "execute_result"
    }
   ],
   "source": [
    "len(train_data_cleaned)"
   ]
  },
  {
   "cell_type": "code",
   "execution_count": 377,
   "metadata": {},
   "outputs": [
    {
     "data": {
      "text/plain": [
       "(574025, 28)"
      ]
     },
     "execution_count": 377,
     "metadata": {},
     "output_type": "execute_result"
    }
   ],
   "source": [
    "train_data_cleaned.shape"
   ]
  },
  {
   "cell_type": "markdown",
   "metadata": {},
   "source": [
    "# 4.4 Data Types"
   ]
  },
  {
   "cell_type": "markdown",
   "metadata": {},
   "source": [
    "- object to datetime:\n",
    "  - 'Accident Date'\n",
    "  - 'Assembly Date'\n",
    "  - 'C-2 Date'\n",
    "  - 'C-3 Date'\n",
    "  - 'First Hearing Date' (missing values: a blank date means the claim has not yet had a hearing held)\n",
    "\n",
    "- float to integer:\n",
    "  - 'Age at Injury'\n",
    "  - 'Birth Year'\n",
    "  - 'IME-4 Count'\n",
    "  - 'Number of Dependents': not in metadata (make assumption)\n",
    "\n",
    "- object to binary:\n",
    "  - 'Alternative Dispute Resolution'\n",
    "  - 'Attorney/Representative'\n",
    "  - 'COVID-19 Indicator'"
   ]
  },
  {
   "cell_type": "code",
   "execution_count": null,
   "metadata": {},
   "outputs": [
    {
     "data": {
      "text/plain": [
       "Accident Date                         object\n",
       "Age at Injury                        float64\n",
       "Alternative Dispute Resolution        object\n",
       "Assembly Date                         object\n",
       "Attorney/Representative               object\n",
       "Average Weekly Wage                  float64\n",
       "Birth Year                           float64\n",
       "C-2 Date                              object\n",
       "C-3 Date                              object\n",
       "Carrier Name                          object\n",
       "Carrier Type                          object\n",
       "Claim Injury Type                     object\n",
       "County of Injury                      object\n",
       "COVID-19 Indicator                    object\n",
       "District Name                         object\n",
       "First Hearing Date                    object\n",
       "Gender                                object\n",
       "IME-4 Count                          float64\n",
       "Industry Code                        float64\n",
       "Industry Code Description             object\n",
       "Medical Fee Region                    object\n",
       "WCIO Cause of Injury Code            float64\n",
       "WCIO Cause of Injury Description      object\n",
       "WCIO Nature of Injury Code           float64\n",
       "WCIO Nature of Injury Description     object\n",
       "WCIO Part Of Body Code               float64\n",
       "WCIO Part Of Body Description         object\n",
       "Zip Code                              object\n",
       "Agreement Reached                    float64\n",
       "WCB Decision                          object\n",
       "Number of Dependents                 float64\n",
       "dtype: object"
      ]
     },
     "metadata": {},
     "output_type": "display_data"
    }
   ],
   "source": [
    "df_train_treat_missing.dtypes"
   ]
  },
  {
   "cell_type": "code",
   "execution_count": null,
   "metadata": {},
   "outputs": [],
   "source": [
    "# Step 1: Convert multiple object columns to datetime\n",
    "columns_object_to_datetime = ['Accident Date', 'Assembly Date', 'C-2 Date', 'C-3 Date', 'First Hearing Date']\n",
    "for col in date_columns:\n",
    "    df[col] = pd.to_datetime(df[col], errors='coerce')  # Converts invalid dates to NaT\n",
    "\n",
    "# Step 2: Convert multiple float columns to integers\n",
    "columns_float_to_int = ['Age at Injury', 'Birth Year', 'IME-4 Count', 'Number of Dependents']\n",
    "for col in float_columns:\n",
    "    df[col] = df[col].astype('Int64')  # Use 'Int64' for nullable integer type\n",
    "\n",
    "# Step 3: Convert multiple object columns to binary\n",
    "columns_object_to_binary = ['Alternative Dispute Resolution', 'Attorney/Representative', 'COVID-19 Indicator']\n",
    "for col in binary_columns:\n",
    "    df[col] = df[col].map({'Y': 1, 'N': 0})  # Converts invalid dates to NaT\n",
    "\n",
    "# Display the processed DataFrame\n",
    "print(\"\\nProcessed DataFrame:\")\n",
    "print(df.head().T)\n",
    "\n",
    "# Check data types\n",
    "print(\"\\nData Types:\")\n",
    "print(df.dtypes)"
   ]
  },
  {
   "cell_type": "markdown",
   "metadata": {},
   "source": [
    "# 4.5. Inconsistencies"
   ]
  },
  {
   "cell_type": "markdown",
   "metadata": {},
   "source": [
    "- from the start of 2020 till the end of 2022"
   ]
  },
  {
   "cell_type": "markdown",
   "metadata": {},
   "source": [
    "# 4.6. Outliers"
   ]
  },
  {
   "cell_type": "code",
   "execution_count": 48,
   "metadata": {},
   "outputs": [
    {
     "data": {
      "text/plain": [
       "count    593471.00\n",
       "mean         42.11\n",
       "std          14.02\n",
       "min           0.00\n",
       "25%          31.00\n",
       "50%          42.00\n",
       "75%          53.00\n",
       "max         117.00\n",
       "Name: Age at Injury, dtype: float64"
      ]
     },
     "execution_count": 48,
     "metadata": {},
     "output_type": "execute_result"
    }
   ],
   "source": [
    "df_train['Age at Injury'].describe().round(2)"
   ]
  },
  {
   "cell_type": "code",
   "execution_count": 50,
   "metadata": {},
   "outputs": [
    {
     "data": {
      "image/png": "[encoded data removed]",
      "text/plain": [
       "<Figure size 2500x1000 with 1 Axes>"
      ]
     },
     "metadata": {
      "image/png": {
       "height": 858,
       "width": 1957
      }
     },
     "output_type": "display_data"
    }
   ],
   "source": [
    "plt.figure(figsize=(25, 10))\n",
    "sns.boxplot(x=df_train['Age at Injury'])\n",
    "plt.title('Age of injured worker')\n",
    "plt.xlabel('Number of Workers')\n",
    "plt.show()"
   ]
  },
  {
   "cell_type": "markdown",
   "metadata": {},
   "source": [
    "- As we can see, there are a lot of outliers."
   ]
  },
  {
   "cell_type": "code",
   "execution_count": 52,
   "metadata": {},
   "outputs": [
    {
     "data": {
      "image/png": "[encoded data removed]",
      "text/plain": [
       "<Figure size 1000x600 with 1 Axes>"
      ]
     },
     "metadata": {
      "image/png": {
       "height": 550,
       "width": 871
      }
     },
     "output_type": "display_data"
    }
   ],
   "source": [
    "plt.figure(figsize=(10, 6))\n",
    "sns.histplot(df_train['Age at Injury'], bins=50)\n",
    "plt.title('Age at Injury')\n",
    "plt.xlabel('Number of Workers', y = -0.2)\n",
    "plt.ylabel('Frequency')\n",
    "plt.show()"
   ]
  },
  {
   "cell_type": "markdown",
   "metadata": {},
   "source": [
    "- The data does not follow a normal distribution."
   ]
  },
  {
   "cell_type": "code",
   "execution_count": 380,
   "metadata": {},
   "outputs": [],
   "source": [
    "##### tenho que pensar melhor nisto\n",
    "\n",
    "\n",
    "def Find_Outliers_IQR(df): \n",
    "    Q1 = df.quantile(0.25)\n",
    "    Q3 = df.quantile(0.75)\n",
    "\n",
    "    IQR = Q3 - Q1\n",
    "\n",
    "#Define outliers bounds\n",
    "    lower_bound = Q1 - 1.5 * IQR\n",
    "    upper_bound = Q3 + 1.5 * IQR\n",
    "\n",
    "    outliers = df[(df < lower_bound) | (df> upper_bound)]\n",
    "\n",
    "    return outliers"
   ]
  },
  {
   "cell_type": "code",
   "execution_count": null,
   "metadata": {},
   "outputs": [],
   "source": [
    "outliers = Find_Outliers_IQR(df_train['Age at Injury'])\n",
    "\n",
    "print('number of outliers: '+ str(len(outliers)))\n",
    "print('max outlier value: '+ str(outliers.max()))\n",
    "print('min outlier value: '+ str(outliers.min()))\n",
    "\n",
    "outliers"
   ]
  },
  {
   "cell_type": "code",
   "execution_count": null,
   "metadata": {},
   "outputs": [],
   "source": [
    "#Drop the outliers\n",
    "def Drop_Outliers_IQR(df):\n",
    "    Q1 = df.quantile(0.25)\n",
    "    Q3 = df.quantile(0.75)\n",
    "\n",
    "    IQR = Q3 - Q1\n",
    "\n",
    "    lower_bound = Q1 - 1.5 * IQR\n",
    "    upper_bound = Q3 + 1.5 * IQR\n",
    "\n",
    "    not_outliers = df[(df >= lower_bound) & (df <= upper_bound)]\n",
    "    outliers_dropped = outliers.dropna().reset_index()\n",
    "    return outliers_dropped"
   ]
  },
  {
   "cell_type": "code",
   "execution_count": null,
   "metadata": {},
   "outputs": [],
   "source": [
    "drop_outliers = Drop_Outliers_IQR(df_train['Age at Injury'])\n",
    "drop_outliers"
   ]
  },
  {
   "cell_type": "markdown",
   "metadata": {},
   "source": [
    "# 5. Creating New Features "
   ]
  },
  {
   "cell_type": "markdown",
   "metadata": {},
   "source": [
    "3.2. New features\n",
    "We can create multiple new variables in order to try to extract some useful information. Some examples are:\n",
    "\n",
    "Age gives us the age of the patient, based on the BirthYear and the current year."
   ]
  },
  {
   "cell_type": "markdown",
   "metadata": {},
   "source": [
    "__`Step 10`__ Look for correlations between the different features with the method `.corr(method = 'spearman')`"
   ]
  },
  {
   "cell_type": "code",
   "execution_count": null,
   "metadata": {},
   "outputs": [],
   "source": [
    "#compute the correlation matrix of the features\n",
    "# it is useful to assess multicollinearity (data redundancy) and to identify the most relevant features (more correlated with the target)\n",
    "drugs_truth.drop(columns = 'DrugPlant').corr(method = 'spearman')"
   ]
  },
  {
   "cell_type": "markdown",
   "metadata": {},
   "source": [
    "# 4. Modify the data"
   ]
  },
  {
   "cell_type": "code",
   "execution_count": null,
   "metadata": {},
   "outputs": [],
   "source": [
    "# creating an object named X that will contain the independent variables and another object named y that will contain the dependent variable/target\n",
    "\n",
    "X = df_train.drop('Claim Injury Type', axis = 1)\n",
    "y = df_train['Claim Injury Type']"
   ]
  },
  {
   "cell_type": "code",
   "execution_count": null,
   "metadata": {},
   "outputs": [],
   "source": [
    "# dividing the X into X_train and X_val, the y into y_train and y_val\n",
    "\n",
    "X_train, X_val, y_train, y_val = train_test_split(X, y, test_size=0.3, \n",
    "                                                  random_state=0, \n",
    "                                                  stratify=y, \n",
    "                                                  shuffle=True)"
   ]
  },
  {
   "cell_type": "markdown",
   "metadata": {},
   "source": [
    "<img src=\"01_images/phase04.png\" alt=\"Drawing\" style=\"width: 500px;\"/>"
   ]
  },
  {
   "cell_type": "markdown",
   "metadata": {},
   "source": [
    "After the exploration and understanding of data, we need to fix possible problems on data like missing values or outliers and we can create new variables in order to get variables with higher predictive power. <br>\n",
    "At this moment, we are going to ignore this. <br>However, to create a predictive model we need to identify what are our independent variables and the dependent one (the target), as also we need to split our data into at least two different datasets - the train and the validation."
   ]
  },
  {
   "cell_type": "markdown",
   "metadata": {},
   "source": [
    "__`Step 11`__ Create a new dataset named as `X` that will include all the independent variables."
   ]
  },
  {
   "cell_type": "code",
   "execution_count": null,
   "metadata": {},
   "outputs": [],
   "source": [
    "X = drugs_truth.iloc[:,:-1]"
   ]
  },
  {
   "cell_type": "code",
   "execution_count": null,
   "metadata": {},
   "outputs": [],
   "source": [
    "# or\n",
    "# X = drugs_truth.drop(columns = 'DrugPlant')"
   ]
  },
  {
   "cell_type": "code",
   "execution_count": null,
   "metadata": {},
   "outputs": [],
   "source": [
    "X"
   ]
  },
  {
   "cell_type": "markdown",
   "metadata": {},
   "source": [
    "__`Step 12`__ Create a new dataset named as `y` that will include the dependent variable (the last column - DrugPlant)"
   ]
  },
  {
   "cell_type": "code",
   "execution_count": null,
   "metadata": {},
   "outputs": [],
   "source": [
    "y = drugs_truth.iloc[:,-1]"
   ]
  },
  {
   "cell_type": "code",
   "execution_count": null,
   "metadata": {},
   "outputs": [],
   "source": [
    "# or\n",
    "# y = drugs_truth['DrugPlant']"
   ]
  },
  {
   "cell_type": "code",
   "execution_count": null,
   "metadata": {},
   "outputs": [],
   "source": [
    "y"
   ]
  },
  {
   "cell_type": "markdown",
   "metadata": {},
   "source": [
    "__`Step 13`__ Using the `train_test_split()`, split the data into train and validation, where the training dataset should contain 70% of the observations. (We are going to talk more about this in a future class). "
   ]
  },
  {
   "cell_type": "code",
   "execution_count": null,
   "metadata": {},
   "outputs": [],
   "source": [
    "X_train, X_validation, y_train, y_validation = train_test_split(X,y,\n",
    "                                                               train_size = 0.7, \n",
    "                                                               shuffle = True, \n",
    "                                                               stratify = y) # to have the same percentage of 1s in train and test data "
   ]
  },
  {
   "cell_type": "markdown",
   "metadata": {},
   "source": [
    "# 5. Modelling - Create a predictive model"
   ]
  },
  {
   "cell_type": "markdown",
   "metadata": {},
   "source": [
    "It is time to create a model. At this step, we are going to implement a simple algorithm named as \"Decision Trees\". "
   ]
  },
  {
   "cell_type": "markdown",
   "metadata": {},
   "source": [
    "<img src=\"01_images/phase05.png\" alt=\"Drawing\" style=\"width: 500px;\"/>"
   ]
  },
  {
   "cell_type": "markdown",
   "metadata": {},
   "source": [
    "__`Step 14`__ Create an instance of a DecisionTreeClassifier named as `dt` with the default parameters and fit the instance to the training data (again, we are going to talk more about this later)."
   ]
  },
  {
   "cell_type": "code",
   "execution_count": null,
   "metadata": {},
   "outputs": [],
   "source": [
    "dt = DecisionTreeClassifier().fit(X_train, y_train)"
   ]
  },
  {
   "cell_type": "markdown",
   "metadata": {},
   "source": [
    "__`Step 15`__ Using the model just created in the previous step, predict the values of the target in the train dataset using the method `.predict()`. Assign those values to the object `predictions_train`"
   ]
  },
  {
   "cell_type": "code",
   "execution_count": null,
   "metadata": {},
   "outputs": [],
   "source": [
    "predictions_train = dt.predict(X_train)"
   ]
  },
  {
   "cell_type": "markdown",
   "metadata": {},
   "source": [
    "__`Step 16`__ Similarly to what you have done in the previous step, predict the target values for the validation dataset and assign those values to the object `predictions_val`"
   ]
  },
  {
   "cell_type": "code",
   "execution_count": null,
   "metadata": {},
   "outputs": [],
   "source": [
    "predictions_val = dt.predict(X_validation)"
   ]
  },
  {
   "cell_type": "markdown",
   "metadata": {},
   "source": [
    "# 6. Assess"
   ]
  },
  {
   "cell_type": "markdown",
   "metadata": {},
   "source": [
    "We already have the ground truth and the predicted values. In this way we can start evaluating the performance of our model in the train and the validation dataset."
   ]
  },
  {
   "cell_type": "markdown",
   "metadata": {},
   "source": [
    "<img src=\"01_images/phase06.png\" alt=\"Drawing\" style=\"width: 500px;\"/>"
   ]
  },
  {
   "cell_type": "markdown",
   "metadata": {},
   "source": [
    "__`Step 17`__ Using the method `.score()`, check the mean accuracy of the model `dt`in the train dataset."
   ]
  },
  {
   "cell_type": "code",
   "execution_count": null,
   "metadata": {},
   "outputs": [],
   "source": [
    "dt.score(X_train, y_train)"
   ]
  },
  {
   "cell_type": "markdown",
   "metadata": {},
   "source": [
    "__`Step 18`__ Similarly to what you have done in step 17, check the mean accuracy now for the validation dataset."
   ]
  },
  {
   "cell_type": "code",
   "execution_count": null,
   "metadata": {},
   "outputs": [],
   "source": [
    "dt.score(X_validation, y_validation)"
   ]
  },
  {
   "cell_type": "markdown",
   "metadata": {},
   "source": [
    "Are we dealing with a case of __overfitting__? <br>\n",
    "Yes, decision trees are known to be prone to overfitting. <br>\n",
    "Luckily, there are strategies to avoid this problem. <br>\n",
    "We are going to understand better what is overfitting and how to avoid it in the different algorithms in the next classes."
   ]
  },
  {
   "cell_type": "markdown",
   "metadata": {},
   "source": [
    "It is time to check the confusion matrix of the model for the training and the validation dataset. <br> <br>\n",
    "__`Step 19`__ Check the confusion matrix for the training dataset, passing as parameters the ground truth (y_train) and the predicted values (predictions_train)<br>\n",
    "[[TN, FP],<br>\n",
    "[FN. TP]]"
   ]
  },
  {
   "cell_type": "code",
   "execution_count": null,
   "metadata": {},
   "outputs": [],
   "source": [
    "confusion_matrix(y_train, predictions_train)"
   ]
  },
  {
   "cell_type": "markdown",
   "metadata": {},
   "source": [
    "__`Step 20`__ Do the same for the validation dataset."
   ]
  },
  {
   "cell_type": "code",
   "execution_count": null,
   "metadata": {},
   "outputs": [],
   "source": [
    "confusion_matrix(y_validation, predictions_val)"
   ]
  },
  {
   "cell_type": "markdown",
   "metadata": {},
   "source": [
    "__Can we conclude something from the results above?__ <br>It seems that our model is not so good at predicting the 1's in the target. <br>__Why?__ <br>Because we are dealing with an unbalanced dataset (more about this in the future). \n",
    "\n",
    "We are going to learn also different metrics that allow to understant better the performance of our model in unbalanced datasets - the mean accuracy is not a good metric to evaluate those cases."
   ]
  },
  {
   "cell_type": "markdown",
   "metadata": {},
   "source": [
    "# 7. Deploy"
   ]
  },
  {
   "cell_type": "markdown",
   "metadata": {},
   "source": [
    "In the end, we want to classify the unclassified data. If we are already satisfied with our model, we can now predict the target to the new dataset."
   ]
  },
  {
   "cell_type": "markdown",
   "metadata": {},
   "source": [
    "__`Step 21`__ Check the dataset that we want to classify, imported as `drugs_2classify`"
   ]
  },
  {
   "cell_type": "code",
   "execution_count": null,
   "metadata": {},
   "outputs": [],
   "source": [
    "# test data\n",
    "drugs_2classify"
   ]
  },
  {
   "cell_type": "markdown",
   "metadata": {},
   "source": [
    "__`Step 22`__ Using the `.predict()` method and the model created named as `dt`, predict the target on the new dataset and assign those values to a column named as `DrugPlant`"
   ]
  },
  {
   "cell_type": "code",
   "execution_count": null,
   "metadata": {},
   "outputs": [],
   "source": [
    "drugs_2classify['DrugPlant'] = dt.predict(drugs_2classify)"
   ]
  },
  {
   "cell_type": "markdown",
   "metadata": {},
   "source": [
    "__`Step 23`__ Check the new dataset."
   ]
  },
  {
   "cell_type": "code",
   "execution_count": null,
   "metadata": {},
   "outputs": [],
   "source": [
    "drugs_2classify"
   ]
  },
  {
   "cell_type": "markdown",
   "metadata": {},
   "source": [
    "Now we have already predicted the target for our new dataset! Next, if we wish to save a set of predictions, we can export a solution to a csv file."
   ]
  },
  {
   "cell_type": "code",
   "execution_count": null,
   "metadata": {},
   "outputs": [],
   "source": [
    "#export test data predictions\n",
    "drugs_2classify['DrugPlant'].to_csv('Exercise1_predictions.csv')"
   ]
  }
 ],
 "metadata": {
  "kernelspec": {
   "display_name": "base",
   "language": "python",
   "name": "python3"
  },
  "language_info": {
   "codemirror_mode": {
    "name": "ipython",
    "version": 3
   },
   "file_extension": ".py",
   "mimetype": "text/x-python",
   "name": "python",
   "nbconvert_exporter": "python",
   "pygments_lexer": "ipython3",
   "version": "3.12.4"
  },
  "varInspector": {
   "cols": {
    "lenName": 16,
    "lenType": 16,
    "lenVar": 40
   },
   "kernels_config": {
    "python": {
     "delete_cmd_postfix": "",
     "delete_cmd_prefix": "del ",
     "library": "var_list.py",
     "varRefreshCmd": "print(var_dic_list())"
    },
    "r": {
     "delete_cmd_postfix": ") ",
     "delete_cmd_prefix": "rm(",
     "library": "var_list.r",
     "varRefreshCmd": "cat(var_dic_list()) "
    }
   },
   "types_to_exclude": [
    "module",
    "function",
    "builtin_function_or_method",
    "instance",
    "_Feature"
   ],
   "window_display": false
  }
 },
 "nbformat": 4,
 "nbformat_minor": 4
}
