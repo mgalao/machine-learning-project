{
 "cells": [
  {
   "cell_type": "markdown",
   "metadata": {},
   "source": [
    "<h1 align=\"center\" style=\"margin-bottom: 20px;\">Machine Learning 2024-25</h1>\n",
    "<h3 align=\"center\" style=\"margin-top: 20px; margin-bottom: 20px;\">To Grant or Not to Grant: Deciding on Compensation Benefits</h3>\n",
    "<h5 align=\"center\" style=\"margin-top: 20px; margin-bottom: 0px;\">Cross-Validation for Models with Default Parameters</h5>\n",
    "\n",
    "### Group 38 - Members:\n",
    "- Ana Marta Azinheira  - 20240496@novaims.unl.pt\n",
    "- Braulio Damba - 20240007@novaims.unl.pt\n",
    "- Catarina Ribeirinha - 20240507@novaims.unl.pt\n",
    "- Marco Galão  - r20201545@novaims.unl.pt\n",
    "- Rodrigo Sardinha - 20211627@novaims.unl.pt"
   ]
  },
  {
   "cell_type": "markdown",
   "metadata": {},
   "source": [
    "# Table of Contents\n",
    "\n",
    "* [1. Imports](#imports)\n",
    "  * [1.1. Import Libraries](#import_libraries)\n",
    "  * [1.2. Imports Datasets](#import_datasets)\n",
    "\n",
    "* [2. Cross-Validation for Models with Default Parameters](#cv_default_parameters)"
   ]
  },
  {
   "cell_type": "markdown",
   "metadata": {},
   "source": [
    "# 1. Imports <a id=\"imports\"></a>"
   ]
  },
  {
   "cell_type": "markdown",
   "metadata": {},
   "source": [
    "## 1.1. Import the Libraries <a class=\"anchor\" id=\"import_libraries\"></a>\n"
   ]
  },
  {
   "cell_type": "code",
   "execution_count": 1,
   "metadata": {},
   "outputs": [],
   "source": [
    "# Path Management\n",
    "import sys\n",
    "import os\n",
    "\n",
    "# Get the current working directory (folder where the notebook is located)\n",
    "notebook_dir = os.path.dirname(os.path.abspath(\"__file__\"))\n",
    "# Get the absolute path to the project root (one level up from the notebook's directory)\n",
    "project_root = os.path.abspath(os.path.join(notebook_dir, '..'))\n",
    "# Add the project root to sys.path\n",
    "sys.path.append(project_root)\n",
    "# Utils\n",
    "from utils import *\n",
    "\n",
    "# Visualization Settings\n",
    "%config InlineBackend.figure_format = 'retina'\n",
    "sns.set()\n",
    "\n",
    "# Omit Warnings\n",
    "import warnings\n",
    "warnings.filterwarnings(\"ignore\")"
   ]
  },
  {
   "cell_type": "markdown",
   "metadata": {},
   "source": [
    "## 1.2. Import the Datasets <a class=\"anchor\" id=\"import_datasets\"></a>"
   ]
  },
  {
   "cell_type": "code",
   "execution_count": 2,
   "metadata": {},
   "outputs": [],
   "source": [
    "# Define date columns to parse\n",
    "date_cols = [\"Accident Date\", \"Assembly Date\", \"C-2 Date\", \"C-3 Date\", \"First Hearing Date\"]"
   ]
  },
  {
   "cell_type": "code",
   "execution_count": 3,
   "metadata": {},
   "outputs": [
    {
     "data": {
      "text/html": [
       "<div>\n",
       "<style scoped>\n",
       "    .dataframe tbody tr th:only-of-type {\n",
       "        vertical-align: middle;\n",
       "    }\n",
       "\n",
       "    .dataframe tbody tr th {\n",
       "        vertical-align: top;\n",
       "    }\n",
       "\n",
       "    .dataframe thead th {\n",
       "        text-align: right;\n",
       "    }\n",
       "</style>\n",
       "<table border=\"1\" class=\"dataframe\">\n",
       "  <thead>\n",
       "    <tr style=\"text-align: right;\">\n",
       "      <th></th>\n",
       "      <th>Accident Date</th>\n",
       "      <th>Age at Injury</th>\n",
       "      <th>Alternative Dispute Resolution</th>\n",
       "      <th>Assembly Date</th>\n",
       "      <th>Attorney/Representative</th>\n",
       "      <th>Average Weekly Wage</th>\n",
       "      <th>C-2 Date</th>\n",
       "      <th>C-3 Date</th>\n",
       "      <th>Carrier Name</th>\n",
       "      <th>Carrier Type</th>\n",
       "      <th>...</th>\n",
       "      <th>Industry Code Description</th>\n",
       "      <th>Medical Fee Region</th>\n",
       "      <th>WCIO Cause of Injury Code</th>\n",
       "      <th>WCIO Cause of Injury Description</th>\n",
       "      <th>WCIO Nature of Injury Code</th>\n",
       "      <th>WCIO Nature of Injury Description</th>\n",
       "      <th>WCIO Part Of Body Code</th>\n",
       "      <th>WCIO Part Of Body Description</th>\n",
       "      <th>Zip Code</th>\n",
       "      <th>Male</th>\n",
       "    </tr>\n",
       "    <tr>\n",
       "      <th>Claim Identifier</th>\n",
       "      <th></th>\n",
       "      <th></th>\n",
       "      <th></th>\n",
       "      <th></th>\n",
       "      <th></th>\n",
       "      <th></th>\n",
       "      <th></th>\n",
       "      <th></th>\n",
       "      <th></th>\n",
       "      <th></th>\n",
       "      <th></th>\n",
       "      <th></th>\n",
       "      <th></th>\n",
       "      <th></th>\n",
       "      <th></th>\n",
       "      <th></th>\n",
       "      <th></th>\n",
       "      <th></th>\n",
       "      <th></th>\n",
       "      <th></th>\n",
       "      <th></th>\n",
       "    </tr>\n",
       "  </thead>\n",
       "  <tbody>\n",
       "    <tr>\n",
       "      <th>5393875</th>\n",
       "      <td>2019-12-30</td>\n",
       "      <td>31</td>\n",
       "      <td>0.0</td>\n",
       "      <td>2020-01-01</td>\n",
       "      <td>0</td>\n",
       "      <td>0.00</td>\n",
       "      <td>2019-12-31</td>\n",
       "      <td>NaT</td>\n",
       "      <td>new hampshire insurance company</td>\n",
       "      <td>1A. PRIVATE</td>\n",
       "      <td>...</td>\n",
       "      <td>RETAIL TRADE</td>\n",
       "      <td>I</td>\n",
       "      <td>27.0</td>\n",
       "      <td>FROM LIQUID OR GREASE SPILLS</td>\n",
       "      <td>10.0</td>\n",
       "      <td>CONTUSION</td>\n",
       "      <td>62.0</td>\n",
       "      <td>BUTTOCKS</td>\n",
       "      <td>13662.0</td>\n",
       "      <td>1.0</td>\n",
       "    </tr>\n",
       "    <tr>\n",
       "      <th>5393091</th>\n",
       "      <td>2019-08-30</td>\n",
       "      <td>46</td>\n",
       "      <td>0.0</td>\n",
       "      <td>2020-01-01</td>\n",
       "      <td>1</td>\n",
       "      <td>1745.93</td>\n",
       "      <td>2020-01-01</td>\n",
       "      <td>2020-01-01</td>\n",
       "      <td>zurich american insurance company</td>\n",
       "      <td>1A. PRIVATE</td>\n",
       "      <td>...</td>\n",
       "      <td>CONSTRUCTION</td>\n",
       "      <td>I</td>\n",
       "      <td>97.0</td>\n",
       "      <td>REPETITIVE MOTION</td>\n",
       "      <td>49.0</td>\n",
       "      <td>SPRAIN OR TEAR</td>\n",
       "      <td>38.0</td>\n",
       "      <td>SHOULDER(S)</td>\n",
       "      <td>14569.0</td>\n",
       "      <td>0.0</td>\n",
       "    </tr>\n",
       "    <tr>\n",
       "      <th>5393889</th>\n",
       "      <td>2019-12-06</td>\n",
       "      <td>40</td>\n",
       "      <td>0.0</td>\n",
       "      <td>2020-01-01</td>\n",
       "      <td>0</td>\n",
       "      <td>1434.80</td>\n",
       "      <td>2020-01-01</td>\n",
       "      <td>NaT</td>\n",
       "      <td>indemnity insurance company of</td>\n",
       "      <td>1A. PRIVATE</td>\n",
       "      <td>...</td>\n",
       "      <td>ADMINISTRATIVE AND SUPPORT AND WASTE MANAGEMEN...</td>\n",
       "      <td>II</td>\n",
       "      <td>79.0</td>\n",
       "      <td>OBJECT BEING LIFTED OR HANDLED</td>\n",
       "      <td>7.0</td>\n",
       "      <td>CONCUSSION</td>\n",
       "      <td>10.0</td>\n",
       "      <td>MULTIPLE HEAD INJURY</td>\n",
       "      <td>12589.0</td>\n",
       "      <td>1.0</td>\n",
       "    </tr>\n",
       "    <tr>\n",
       "      <th>5393887</th>\n",
       "      <td>2019-12-30</td>\n",
       "      <td>61</td>\n",
       "      <td>0.0</td>\n",
       "      <td>2020-01-01</td>\n",
       "      <td>0</td>\n",
       "      <td>NaN</td>\n",
       "      <td>2019-12-31</td>\n",
       "      <td>NaT</td>\n",
       "      <td>state insurance fund</td>\n",
       "      <td>2A. SIF</td>\n",
       "      <td>...</td>\n",
       "      <td>HEALTH CARE AND SOCIAL ASSISTANCE</td>\n",
       "      <td>II</td>\n",
       "      <td>16.0</td>\n",
       "      <td>HAND TOOL, UTENSIL; NOT POWERED</td>\n",
       "      <td>43.0</td>\n",
       "      <td>PUNCTURE</td>\n",
       "      <td>36.0</td>\n",
       "      <td>FINGER(S)</td>\n",
       "      <td>12603.0</td>\n",
       "      <td>1.0</td>\n",
       "    </tr>\n",
       "    <tr>\n",
       "      <th>5393863</th>\n",
       "      <td>2019-12-26</td>\n",
       "      <td>67</td>\n",
       "      <td>0.0</td>\n",
       "      <td>2020-01-01</td>\n",
       "      <td>0</td>\n",
       "      <td>0.00</td>\n",
       "      <td>2019-12-31</td>\n",
       "      <td>NaT</td>\n",
       "      <td>indemnity insurance of n america</td>\n",
       "      <td>1A. PRIVATE</td>\n",
       "      <td>...</td>\n",
       "      <td>RETAIL TRADE</td>\n",
       "      <td>IV</td>\n",
       "      <td>31.0</td>\n",
       "      <td>FALL, SLIP OR TRIP, NOC</td>\n",
       "      <td>10.0</td>\n",
       "      <td>CONTUSION</td>\n",
       "      <td>38.0</td>\n",
       "      <td>SHOULDER(S)</td>\n",
       "      <td>11772.0</td>\n",
       "      <td>1.0</td>\n",
       "    </tr>\n",
       "  </tbody>\n",
       "</table>\n",
       "<p>5 rows × 26 columns</p>\n",
       "</div>"
      ],
      "text/plain": [
       "                 Accident Date  Age at Injury  Alternative Dispute Resolution  \\\n",
       "Claim Identifier                                                                \n",
       "5393875             2019-12-30             31                             0.0   \n",
       "5393091             2019-08-30             46                             0.0   \n",
       "5393889             2019-12-06             40                             0.0   \n",
       "5393887             2019-12-30             61                             0.0   \n",
       "5393863             2019-12-26             67                             0.0   \n",
       "\n",
       "                 Assembly Date  Attorney/Representative  Average Weekly Wage  \\\n",
       "Claim Identifier                                                               \n",
       "5393875             2020-01-01                        0                 0.00   \n",
       "5393091             2020-01-01                        1              1745.93   \n",
       "5393889             2020-01-01                        0              1434.80   \n",
       "5393887             2020-01-01                        0                  NaN   \n",
       "5393863             2020-01-01                        0                 0.00   \n",
       "\n",
       "                   C-2 Date   C-3 Date                       Carrier Name  \\\n",
       "Claim Identifier                                                            \n",
       "5393875          2019-12-31        NaT    new hampshire insurance company   \n",
       "5393091          2020-01-01 2020-01-01  zurich american insurance company   \n",
       "5393889          2020-01-01        NaT     indemnity insurance company of   \n",
       "5393887          2019-12-31        NaT               state insurance fund   \n",
       "5393863          2019-12-31        NaT   indemnity insurance of n america   \n",
       "\n",
       "                 Carrier Type  ...  \\\n",
       "Claim Identifier               ...   \n",
       "5393875           1A. PRIVATE  ...   \n",
       "5393091           1A. PRIVATE  ...   \n",
       "5393889           1A. PRIVATE  ...   \n",
       "5393887               2A. SIF  ...   \n",
       "5393863           1A. PRIVATE  ...   \n",
       "\n",
       "                                          Industry Code Description  \\\n",
       "Claim Identifier                                                      \n",
       "5393875                                                RETAIL TRADE   \n",
       "5393091                                                CONSTRUCTION   \n",
       "5393889           ADMINISTRATIVE AND SUPPORT AND WASTE MANAGEMEN...   \n",
       "5393887                           HEALTH CARE AND SOCIAL ASSISTANCE   \n",
       "5393863                                                RETAIL TRADE   \n",
       "\n",
       "                 Medical Fee Region  WCIO Cause of Injury Code  \\\n",
       "Claim Identifier                                                 \n",
       "5393875                           I                       27.0   \n",
       "5393091                           I                       97.0   \n",
       "5393889                          II                       79.0   \n",
       "5393887                          II                       16.0   \n",
       "5393863                          IV                       31.0   \n",
       "\n",
       "                 WCIO Cause of Injury Description WCIO Nature of Injury Code  \\\n",
       "Claim Identifier                                                               \n",
       "5393875              FROM LIQUID OR GREASE SPILLS                       10.0   \n",
       "5393091                         REPETITIVE MOTION                       49.0   \n",
       "5393889            OBJECT BEING LIFTED OR HANDLED                        7.0   \n",
       "5393887           HAND TOOL, UTENSIL; NOT POWERED                       43.0   \n",
       "5393863                   FALL, SLIP OR TRIP, NOC                       10.0   \n",
       "\n",
       "                  WCIO Nature of Injury Description WCIO Part Of Body Code  \\\n",
       "Claim Identifier                                                             \n",
       "5393875                                   CONTUSION                   62.0   \n",
       "5393091                              SPRAIN OR TEAR                   38.0   \n",
       "5393889                                  CONCUSSION                   10.0   \n",
       "5393887                                    PUNCTURE                   36.0   \n",
       "5393863                                   CONTUSION                   38.0   \n",
       "\n",
       "                 WCIO Part Of Body Description  Zip Code Male  \n",
       "Claim Identifier                                               \n",
       "5393875                               BUTTOCKS   13662.0  1.0  \n",
       "5393091                            SHOULDER(S)   14569.0  0.0  \n",
       "5393889                   MULTIPLE HEAD INJURY   12589.0  1.0  \n",
       "5393887                              FINGER(S)   12603.0  1.0  \n",
       "5393863                            SHOULDER(S)   11772.0  1.0  \n",
       "\n",
       "[5 rows x 26 columns]"
      ]
     },
     "execution_count": 3,
     "metadata": {},
     "output_type": "execute_result"
    }
   ],
   "source": [
    "df = pd.read_csv('../main_notebooks/df_nb2.csv', sep=',', parse_dates=date_cols, index_col='Claim Identifier')\n",
    "df.head()"
   ]
  },
  {
   "cell_type": "markdown",
   "metadata": {},
   "source": [
    "# 2. Cross-Validation for Models with Default Parameters <a id=\"cv_default_parameters\"></a>"
   ]
  },
  {
   "cell_type": "code",
   "execution_count": 4,
   "metadata": {},
   "outputs": [],
   "source": [
    "# # Sample 10,000 observations from the dataset\n",
    "# df_sample = df.sample(n=100_000, random_state=42)"
   ]
  },
  {
   "cell_type": "code",
   "execution_count": 5,
   "metadata": {},
   "outputs": [
    {
     "name": "stdout",
     "output_type": "stream",
     "text": [
      "--------------------------------------------------------------------------------\n",
      "CV Iteration 1\n",
      "--------------------------------------------------------------------------------\n",
      "\n",
      "Starting Feature Selection:\n",
      "\n",
      "Spearman Correlation - Number of Excluded Features: 2 / 19\n",
      "Spearman Correlation - Excluded Features: {'Average Weekly Wage Category', 'Average Weekly Wage'}\n",
      "Spearman Correlation - Highly Correlated Pairs: [('Average Weekly Wage Category', 'Average Weekly Wage'), ('Age * Avg Weekly Wage', 'Average Weekly Wage'), ('Age * Avg Weekly Wage', 'Average Weekly Wage Category')]\n",
      "\n",
      "RFE - Number of Selected Features: 17 / 23\n",
      "RFE - Selected Features: ['Age at Injury', 'Alternative Dispute Resolution', 'Attorney/Representative', 'Average Weekly Wage', 'COVID-19 Indicator', 'District Name', 'Male', 'C-2 Date Missing', 'C-3 Date Missing', 'First Hearing Date Missing', 'Age Group at Injury', 'Average Weekly Wage Category', 'Age * Avg Weekly Wage', 'Average Weekly Wage by Medical Fee Region', 'Part of Body Category', 'Nature of Injury Category', 'Cause of Injury Category']\n",
      "\n",
      "Decision Tree - Number of Selected Features: 9 / 23\n",
      "Decision Tree - Selected Features: ['Age at Injury', 'Attorney/Representative', 'Average Weekly Wage', 'County of Injury', 'Industry Code', 'Zip Code', 'Age * Avg Weekly Wage', 'Part of Body Category', 'Cause of Injury Category']\n",
      "\n",
      "Lasso Regression - Number of Selected Features: 9 / 23\n",
      "Lasso Regression - Selected Features: ['Attorney/Representative', 'Average Weekly Wage', 'District Name', 'C-2 Date Missing', 'First Hearing Date Missing', 'Average Weekly Wage Category', 'Age * Avg Weekly Wage', 'Average Weekly Wage by Medical Fee Region', 'Nature of Injury Category']\n",
      "\n",
      "Majority Voting - Number of Selected Features: 11 / 23\n",
      "Majority Voting - Selected Features: ['Age at Injury', 'Attorney/Representative', 'Average Weekly Wage', 'District Name', 'C-2 Date Missing', 'First Hearing Date Missing', 'Age * Avg Weekly Wage', 'Average Weekly Wage by Medical Fee Region', 'Part of Body Category', 'Nature of Injury Category', 'Cause of Injury Category']\n",
      "\n",
      "End of Feature Selection; Starting RandomizedSearch:\n",
      "\n"
     ]
    },
    {
     "name": "stderr",
     "output_type": "stream",
     "text": [
      "/opt/anaconda3/lib/python3.12/site-packages/sklearn/ensemble/_weight_boosting.py:519: FutureWarning: The SAMME.R algorithm (the default) is deprecated and will be removed in 1.6. Use the SAMME algorithm to circumvent this warning.\n",
      "  warnings.warn(\n"
     ]
    },
    {
     "name": "stdout",
     "output_type": "stream",
     "text": [
      "Adaboost: F1 Val = 0.220, F1 Train = 0.356, F1 Val-Train = -0.137, Time (s) = 12.23, Avg Iter = 0.0 Best Params = {}\n",
      "\n",
      "Bagging: F1 Val = 0.345, F1 Train = 0.897, F1 Val-Train = -0.551, Time (s) = 11.12, Avg Iter = 0.0 Best Params = {}\n",
      "\n",
      "DecisionTree: F1 Val = 0.329, F1 Train = 0.906, F1 Val-Train = -0.577, Time (s) = 2.51, Avg Iter = 0.0 Best Params = {}\n",
      "\n",
      "GaussianNB: F1 Val = 0.260, F1 Train = 0.306, F1 Val-Train = -0.045, Time (s) = 0.80, Avg Iter = 0.0 Best Params = {}\n",
      "\n"
     ]
    },
    {
     "name": "stderr",
     "output_type": "stream",
     "text": [
      "/opt/anaconda3/lib/python3.12/site-packages/sklearn/linear_model/_logistic.py:469: ConvergenceWarning: lbfgs failed to converge (status=1):\n",
      "STOP: TOTAL NO. of ITERATIONS REACHED LIMIT.\n",
      "\n",
      "Increase the number of iterations (max_iter) or scale the data as shown in:\n",
      "    https://scikit-learn.org/stable/modules/preprocessing.html\n",
      "Please also refer to the documentation for alternative solver options:\n",
      "    https://scikit-learn.org/stable/modules/linear_model.html#logistic-regression\n",
      "  n_iter_i = _check_optimize_result(\n"
     ]
    },
    {
     "name": "stdout",
     "output_type": "stream",
     "text": [
      "LogisticRegression: F1 Val = 0.338, F1 Train = 0.408, F1 Val-Train = -0.070, Time (s) = 4.70, Avg Iter = 100.0 Best Params = {}\n",
      "\n"
     ]
    },
    {
     "name": "stderr",
     "output_type": "stream",
     "text": [
      "/opt/anaconda3/lib/python3.12/site-packages/sklearn/neural_network/_multilayer_perceptron.py:691: ConvergenceWarning: Stochastic Optimizer: Maximum iterations (200) reached and the optimization hasn't converged yet.\n",
      "  warnings.warn(\n"
     ]
    },
    {
     "name": "stdout",
     "output_type": "stream",
     "text": [
      "NeuralNetworks: F1 Val = 0.364, F1 Train = 0.555, F1 Val-Train = -0.191, Time (s) = 104.09, Avg Iter = 200.0 Best Params = {}\n",
      "\n",
      "RandomForest: F1 Val = 0.358, F1 Train = 0.906, F1 Val-Train = -0.548, Time (s) = 40.97, Avg Iter = 0.0 Best Params = {}\n",
      "\n",
      "XGBoost: F1 Val = 0.364, F1 Train = 0.666, F1 Val-Train = -0.302, Time (s) = 14.20, Avg Iter = 0.0 Best Params = {}\n",
      "\n",
      "--------------------------------------------------------------------------------\n",
      "CV Iteration 2\n",
      "--------------------------------------------------------------------------------\n",
      "\n",
      "Starting Feature Selection:\n",
      "\n",
      "Spearman Correlation - Number of Excluded Features: 2 / 19\n",
      "Spearman Correlation - Excluded Features: {'Average Weekly Wage Category', 'Average Weekly Wage'}\n",
      "Spearman Correlation - Highly Correlated Pairs: [('Average Weekly Wage Category', 'Average Weekly Wage'), ('Age * Avg Weekly Wage', 'Average Weekly Wage'), ('Age * Avg Weekly Wage', 'Average Weekly Wage Category')]\n",
      "\n",
      "RFE - Number of Selected Features: 17 / 23\n",
      "RFE - Selected Features: ['Age at Injury', 'Alternative Dispute Resolution', 'Attorney/Representative', 'Average Weekly Wage', 'County of Injury', 'COVID-19 Indicator', 'District Name', 'C-2 Date Missing', 'C-3 Date Missing', 'First Hearing Date Missing', 'Average Weekly Wage Category', 'Age * Avg Weekly Wage', 'Average Weekly Wage by Medical Fee Region', 'Average Weekly Wage by Gender', 'Part of Body Category', 'Nature of Injury Category', 'Cause of Injury Category']\n",
      "\n",
      "Decision Tree - Number of Selected Features: 8 / 23\n",
      "Decision Tree - Selected Features: ['Age at Injury', 'Attorney/Representative', 'Average Weekly Wage', 'County of Injury', 'Industry Code', 'Zip Code', 'Age * Avg Weekly Wage', 'Part of Body Category']\n",
      "\n",
      "Lasso Regression - Number of Selected Features: 9 / 23\n",
      "Lasso Regression - Selected Features: ['Attorney/Representative', 'Average Weekly Wage', 'COVID-19 Indicator', 'District Name', 'C-2 Date Missing', 'First Hearing Date Missing', 'Average Weekly Wage Category', 'Age * Avg Weekly Wage', 'Nature of Injury Category']\n",
      "\n",
      "Majority Voting - Number of Selected Features: 10 / 23\n",
      "Majority Voting - Selected Features: ['Age at Injury', 'Attorney/Representative', 'Average Weekly Wage', 'County of Injury', 'District Name', 'C-2 Date Missing', 'First Hearing Date Missing', 'Age * Avg Weekly Wage', 'Part of Body Category', 'Nature of Injury Category']\n",
      "\n",
      "End of Feature Selection; Starting RandomizedSearch:\n",
      "\n"
     ]
    },
    {
     "name": "stderr",
     "output_type": "stream",
     "text": [
      "/opt/anaconda3/lib/python3.12/site-packages/sklearn/ensemble/_weight_boosting.py:519: FutureWarning: The SAMME.R algorithm (the default) is deprecated and will be removed in 1.6. Use the SAMME algorithm to circumvent this warning.\n",
      "  warnings.warn(\n"
     ]
    },
    {
     "name": "stdout",
     "output_type": "stream",
     "text": [
      "Adaboost: F1 Val = 0.245, F1 Train = 0.372, F1 Val-Train = -0.127, Time (s) = 9.74, Avg Iter = 0.0 Best Params = {}\n",
      "\n",
      "Bagging: F1 Val = 0.341, F1 Train = 0.890, F1 Val-Train = -0.549, Time (s) = 11.26, Avg Iter = 0.0 Best Params = {}\n",
      "\n",
      "DecisionTree: F1 Val = 0.328, F1 Train = 0.900, F1 Val-Train = -0.572, Time (s) = 1.92, Avg Iter = 0.0 Best Params = {}\n",
      "\n",
      "GaussianNB: F1 Val = 0.256, F1 Train = 0.316, F1 Val-Train = -0.060, Time (s) = 0.37, Avg Iter = 0.0 Best Params = {}\n",
      "\n"
     ]
    },
    {
     "name": "stderr",
     "output_type": "stream",
     "text": [
      "/opt/anaconda3/lib/python3.12/site-packages/sklearn/linear_model/_logistic.py:469: ConvergenceWarning: lbfgs failed to converge (status=1):\n",
      "STOP: TOTAL NO. of ITERATIONS REACHED LIMIT.\n",
      "\n",
      "Increase the number of iterations (max_iter) or scale the data as shown in:\n",
      "    https://scikit-learn.org/stable/modules/preprocessing.html\n",
      "Please also refer to the documentation for alternative solver options:\n",
      "    https://scikit-learn.org/stable/modules/linear_model.html#logistic-regression\n",
      "  n_iter_i = _check_optimize_result(\n"
     ]
    },
    {
     "name": "stdout",
     "output_type": "stream",
     "text": [
      "LogisticRegression: F1 Val = 0.338, F1 Train = 0.407, F1 Val-Train = -0.069, Time (s) = 4.21, Avg Iter = 100.0 Best Params = {}\n",
      "\n",
      "NeuralNetworks: F1 Val = 0.359, F1 Train = 0.544, F1 Val-Train = -0.184, Time (s) = 117.47, Avg Iter = 199.0 Best Params = {}\n",
      "\n",
      "RandomForest: F1 Val = 0.348, F1 Train = 0.900, F1 Val-Train = -0.551, Time (s) = 42.55, Avg Iter = 0.0 Best Params = {}\n",
      "\n",
      "XGBoost: F1 Val = 0.372, F1 Train = 0.660, F1 Val-Train = -0.288, Time (s) = 13.83, Avg Iter = 0.0 Best Params = {}\n",
      "\n",
      "--------------------------------------------------------------------------------\n",
      "CV Iteration 3\n",
      "--------------------------------------------------------------------------------\n",
      "\n",
      "Starting Feature Selection:\n",
      "\n",
      "Spearman Correlation - Number of Excluded Features: 2 / 19\n",
      "Spearman Correlation - Excluded Features: {'Average Weekly Wage Category', 'Average Weekly Wage'}\n",
      "Spearman Correlation - Highly Correlated Pairs: [('Average Weekly Wage Category', 'Average Weekly Wage'), ('Age * Avg Weekly Wage', 'Average Weekly Wage'), ('Age * Avg Weekly Wage', 'Average Weekly Wage Category')]\n",
      "\n",
      "RFE - Number of Selected Features: 17 / 23\n",
      "RFE - Selected Features: ['Age at Injury', 'Alternative Dispute Resolution', 'Attorney/Representative', 'Average Weekly Wage', 'County of Injury', 'COVID-19 Indicator', 'District Name', 'C-2 Date Missing', 'C-3 Date Missing', 'First Hearing Date Missing', 'Average Weekly Wage Category', 'Age * Avg Weekly Wage', 'Average Weekly Wage by Medical Fee Region', 'Average Weekly Wage by Gender', 'Part of Body Category', 'Nature of Injury Category', 'Cause of Injury Category']\n",
      "\n",
      "Decision Tree - Number of Selected Features: 9 / 23\n",
      "Decision Tree - Selected Features: ['Age at Injury', 'Attorney/Representative', 'Average Weekly Wage', 'County of Injury', 'Industry Code', 'Zip Code', 'Age * Avg Weekly Wage', 'Part of Body Category', 'Cause of Injury Category']\n",
      "\n",
      "Lasso Regression - Number of Selected Features: 9 / 23\n",
      "Lasso Regression - Selected Features: ['Attorney/Representative', 'Average Weekly Wage', 'District Name', 'C-2 Date Missing', 'First Hearing Date Missing', 'Average Weekly Wage Category', 'Age * Avg Weekly Wage', 'Average Weekly Wage by Medical Fee Region', 'Nature of Injury Category']\n",
      "\n",
      "Majority Voting - Number of Selected Features: 12 / 23\n",
      "Majority Voting - Selected Features: ['Age at Injury', 'Attorney/Representative', 'Average Weekly Wage', 'County of Injury', 'District Name', 'C-2 Date Missing', 'First Hearing Date Missing', 'Age * Avg Weekly Wage', 'Average Weekly Wage by Medical Fee Region', 'Part of Body Category', 'Nature of Injury Category', 'Cause of Injury Category']\n",
      "\n",
      "End of Feature Selection; Starting RandomizedSearch:\n",
      "\n"
     ]
    },
    {
     "name": "stderr",
     "output_type": "stream",
     "text": [
      "/opt/anaconda3/lib/python3.12/site-packages/sklearn/ensemble/_weight_boosting.py:519: FutureWarning: The SAMME.R algorithm (the default) is deprecated and will be removed in 1.6. Use the SAMME algorithm to circumvent this warning.\n",
      "  warnings.warn(\n"
     ]
    },
    {
     "name": "stdout",
     "output_type": "stream",
     "text": [
      "Adaboost: F1 Val = 0.168, F1 Train = 0.261, F1 Val-Train = -0.093, Time (s) = 11.26, Avg Iter = 0.0 Best Params = {}\n",
      "\n",
      "Bagging: F1 Val = 0.343, F1 Train = 0.930, F1 Val-Train = -0.587, Time (s) = 12.46, Avg Iter = 0.0 Best Params = {}\n",
      "\n",
      "DecisionTree: F1 Val = 0.324, F1 Train = 0.940, F1 Val-Train = -0.617, Time (s) = 3.12, Avg Iter = 0.0 Best Params = {}\n",
      "\n",
      "GaussianNB: F1 Val = 0.257, F1 Train = 0.314, F1 Val-Train = -0.056, Time (s) = 0.39, Avg Iter = 0.0 Best Params = {}\n",
      "\n"
     ]
    },
    {
     "name": "stderr",
     "output_type": "stream",
     "text": [
      "/opt/anaconda3/lib/python3.12/site-packages/sklearn/linear_model/_logistic.py:469: ConvergenceWarning: lbfgs failed to converge (status=1):\n",
      "STOP: TOTAL NO. of ITERATIONS REACHED LIMIT.\n",
      "\n",
      "Increase the number of iterations (max_iter) or scale the data as shown in:\n",
      "    https://scikit-learn.org/stable/modules/preprocessing.html\n",
      "Please also refer to the documentation for alternative solver options:\n",
      "    https://scikit-learn.org/stable/modules/linear_model.html#logistic-regression\n",
      "  n_iter_i = _check_optimize_result(\n"
     ]
    },
    {
     "name": "stdout",
     "output_type": "stream",
     "text": [
      "LogisticRegression: F1 Val = 0.342, F1 Train = 0.409, F1 Val-Train = -0.067, Time (s) = 4.36, Avg Iter = 100.0 Best Params = {}\n",
      "\n"
     ]
    },
    {
     "name": "stderr",
     "output_type": "stream",
     "text": [
      "/opt/anaconda3/lib/python3.12/site-packages/sklearn/neural_network/_multilayer_perceptron.py:691: ConvergenceWarning: Stochastic Optimizer: Maximum iterations (200) reached and the optimization hasn't converged yet.\n",
      "  warnings.warn(\n"
     ]
    },
    {
     "name": "stdout",
     "output_type": "stream",
     "text": [
      "NeuralNetworks: F1 Val = 0.359, F1 Train = 0.559, F1 Val-Train = -0.201, Time (s) = 132.27, Avg Iter = 200.0 Best Params = {}\n",
      "\n",
      "RandomForest: F1 Val = 0.353, F1 Train = 0.940, F1 Val-Train = -0.587, Time (s) = 46.42, Avg Iter = 0.0 Best Params = {}\n",
      "\n",
      "XGBoost: F1 Val = 0.384, F1 Train = 0.677, F1 Val-Train = -0.293, Time (s) = 14.78, Avg Iter = 0.0 Best Params = {}\n",
      "\n",
      "--------------------------------------------------------------------------------\n",
      "CV Iteration 4\n",
      "--------------------------------------------------------------------------------\n",
      "\n",
      "Starting Feature Selection:\n",
      "\n",
      "Spearman Correlation - Number of Excluded Features: 2 / 19\n",
      "Spearman Correlation - Excluded Features: {'Average Weekly Wage Category', 'Average Weekly Wage'}\n",
      "Spearman Correlation - Highly Correlated Pairs: [('Average Weekly Wage Category', 'Average Weekly Wage'), ('Age * Avg Weekly Wage', 'Average Weekly Wage'), ('Age * Avg Weekly Wage', 'Average Weekly Wage Category')]\n",
      "\n",
      "RFE - Number of Selected Features: 17 / 23\n",
      "RFE - Selected Features: ['Age at Injury', 'Alternative Dispute Resolution', 'Attorney/Representative', 'Average Weekly Wage', 'COVID-19 Indicator', 'District Name', 'Industry Code', 'C-2 Date Missing', 'C-3 Date Missing', 'First Hearing Date Missing', 'Average Weekly Wage Category', 'Age * Avg Weekly Wage', 'Average Weekly Wage by Medical Fee Region', 'Average Weekly Wage by Gender', 'Part of Body Category', 'Nature of Injury Category', 'Cause of Injury Category']\n",
      "\n",
      "Decision Tree - Number of Selected Features: 8 / 23\n",
      "Decision Tree - Selected Features: ['Age at Injury', 'Attorney/Representative', 'Average Weekly Wage', 'County of Injury', 'Industry Code', 'Zip Code', 'Age * Avg Weekly Wage', 'Part of Body Category']\n",
      "\n",
      "Lasso Regression - Number of Selected Features: 9 / 23\n",
      "Lasso Regression - Selected Features: ['Attorney/Representative', 'Average Weekly Wage', 'District Name', 'C-2 Date Missing', 'First Hearing Date Missing', 'Average Weekly Wage Category', 'Age * Avg Weekly Wage', 'Average Weekly Wage by Medical Fee Region', 'Nature of Injury Category']\n",
      "\n",
      "Majority Voting - Number of Selected Features: 11 / 23\n",
      "Majority Voting - Selected Features: ['Age at Injury', 'Attorney/Representative', 'Average Weekly Wage', 'District Name', 'Industry Code', 'C-2 Date Missing', 'First Hearing Date Missing', 'Age * Avg Weekly Wage', 'Average Weekly Wage by Medical Fee Region', 'Part of Body Category', 'Nature of Injury Category']\n",
      "\n",
      "End of Feature Selection; Starting RandomizedSearch:\n",
      "\n"
     ]
    },
    {
     "name": "stderr",
     "output_type": "stream",
     "text": [
      "/opt/anaconda3/lib/python3.12/site-packages/sklearn/ensemble/_weight_boosting.py:519: FutureWarning: The SAMME.R algorithm (the default) is deprecated and will be removed in 1.6. Use the SAMME algorithm to circumvent this warning.\n",
      "  warnings.warn(\n"
     ]
    },
    {
     "name": "stdout",
     "output_type": "stream",
     "text": [
      "Adaboost: F1 Val = 0.268, F1 Train = 0.393, F1 Val-Train = -0.125, Time (s) = 10.08, Avg Iter = 0.0 Best Params = {}\n",
      "\n",
      "Bagging: F1 Val = 0.346, F1 Train = 0.918, F1 Val-Train = -0.572, Time (s) = 11.48, Avg Iter = 0.0 Best Params = {}\n",
      "\n",
      "DecisionTree: F1 Val = 0.329, F1 Train = 0.928, F1 Val-Train = -0.599, Time (s) = 2.26, Avg Iter = 0.0 Best Params = {}\n",
      "\n",
      "GaussianNB: F1 Val = 0.258, F1 Train = 0.311, F1 Val-Train = -0.054, Time (s) = 0.69, Avg Iter = 0.0 Best Params = {}\n",
      "\n"
     ]
    },
    {
     "name": "stderr",
     "output_type": "stream",
     "text": [
      "/opt/anaconda3/lib/python3.12/site-packages/sklearn/linear_model/_logistic.py:469: ConvergenceWarning: lbfgs failed to converge (status=1):\n",
      "STOP: TOTAL NO. of ITERATIONS REACHED LIMIT.\n",
      "\n",
      "Increase the number of iterations (max_iter) or scale the data as shown in:\n",
      "    https://scikit-learn.org/stable/modules/preprocessing.html\n",
      "Please also refer to the documentation for alternative solver options:\n",
      "    https://scikit-learn.org/stable/modules/linear_model.html#logistic-regression\n",
      "  n_iter_i = _check_optimize_result(\n"
     ]
    },
    {
     "name": "stdout",
     "output_type": "stream",
     "text": [
      "LogisticRegression: F1 Val = 0.340, F1 Train = 0.409, F1 Val-Train = -0.069, Time (s) = 4.18, Avg Iter = 100.0 Best Params = {}\n",
      "\n"
     ]
    },
    {
     "name": "stderr",
     "output_type": "stream",
     "text": [
      "/opt/anaconda3/lib/python3.12/site-packages/sklearn/neural_network/_multilayer_perceptron.py:691: ConvergenceWarning: Stochastic Optimizer: Maximum iterations (200) reached and the optimization hasn't converged yet.\n",
      "  warnings.warn(\n"
     ]
    },
    {
     "name": "stdout",
     "output_type": "stream",
     "text": [
      "NeuralNetworks: F1 Val = 0.368, F1 Train = 0.557, F1 Val-Train = -0.189, Time (s) = 104.22, Avg Iter = 200.0 Best Params = {}\n",
      "\n",
      "RandomForest: F1 Val = 0.363, F1 Train = 0.928, F1 Val-Train = -0.565, Time (s) = 43.65, Avg Iter = 0.0 Best Params = {}\n",
      "\n",
      "XGBoost: F1 Val = 0.387, F1 Train = 0.671, F1 Val-Train = -0.284, Time (s) = 14.10, Avg Iter = 0.0 Best Params = {}\n",
      "\n",
      "--------------------------------------------------------------------------------\n",
      "CV Iteration 5\n",
      "--------------------------------------------------------------------------------\n",
      "\n",
      "Starting Feature Selection:\n",
      "\n",
      "Spearman Correlation - Number of Excluded Features: 2 / 19\n",
      "Spearman Correlation - Excluded Features: {'Average Weekly Wage Category', 'Average Weekly Wage'}\n",
      "Spearman Correlation - Highly Correlated Pairs: [('Average Weekly Wage Category', 'Average Weekly Wage'), ('Age * Avg Weekly Wage', 'Average Weekly Wage'), ('Age * Avg Weekly Wage', 'Average Weekly Wage Category')]\n",
      "\n",
      "RFE - Number of Selected Features: 17 / 23\n",
      "RFE - Selected Features: ['Age at Injury', 'Alternative Dispute Resolution', 'Attorney/Representative', 'Average Weekly Wage', 'COVID-19 Indicator', 'District Name', 'Male', 'C-2 Date Missing', 'C-3 Date Missing', 'First Hearing Date Missing', 'Average Weekly Wage Category', 'Age * Avg Weekly Wage', 'Average Weekly Wage by Medical Fee Region', 'Average Weekly Wage by Gender', 'Part of Body Category', 'Nature of Injury Category', 'Cause of Injury Category']\n",
      "\n",
      "Decision Tree - Number of Selected Features: 9 / 23\n",
      "Decision Tree - Selected Features: ['Age at Injury', 'Attorney/Representative', 'Average Weekly Wage', 'County of Injury', 'Industry Code', 'Zip Code', 'Age * Avg Weekly Wage', 'Part of Body Category', 'Cause of Injury Category']\n",
      "\n",
      "Lasso Regression - Number of Selected Features: 8 / 23\n",
      "Lasso Regression - Selected Features: ['Attorney/Representative', 'Average Weekly Wage', 'District Name', 'C-2 Date Missing', 'First Hearing Date Missing', 'Average Weekly Wage Category', 'Age * Avg Weekly Wage', 'Nature of Injury Category']\n",
      "\n",
      "Majority Voting - Number of Selected Features: 10 / 23\n",
      "Majority Voting - Selected Features: ['Age at Injury', 'Attorney/Representative', 'Average Weekly Wage', 'District Name', 'C-2 Date Missing', 'First Hearing Date Missing', 'Age * Avg Weekly Wage', 'Part of Body Category', 'Nature of Injury Category', 'Cause of Injury Category']\n",
      "\n",
      "End of Feature Selection; Starting RandomizedSearch:\n",
      "\n"
     ]
    },
    {
     "name": "stderr",
     "output_type": "stream",
     "text": [
      "/opt/anaconda3/lib/python3.12/site-packages/sklearn/ensemble/_weight_boosting.py:519: FutureWarning: The SAMME.R algorithm (the default) is deprecated and will be removed in 1.6. Use the SAMME algorithm to circumvent this warning.\n",
      "  warnings.warn(\n"
     ]
    },
    {
     "name": "stdout",
     "output_type": "stream",
     "text": [
      "Adaboost: F1 Val = 0.197, F1 Train = 0.311, F1 Val-Train = -0.115, Time (s) = 10.13, Avg Iter = 0.0 Best Params = {}\n",
      "\n",
      "Bagging: F1 Val = 0.351, F1 Train = 0.884, F1 Val-Train = -0.533, Time (s) = 10.68, Avg Iter = 0.0 Best Params = {}\n",
      "\n",
      "DecisionTree: F1 Val = 0.337, F1 Train = 0.894, F1 Val-Train = -0.558, Time (s) = 2.01, Avg Iter = 0.0 Best Params = {}\n",
      "\n",
      "GaussianNB: F1 Val = 0.258, F1 Train = 0.318, F1 Val-Train = -0.060, Time (s) = 0.66, Avg Iter = 0.0 Best Params = {}\n",
      "\n"
     ]
    },
    {
     "name": "stderr",
     "output_type": "stream",
     "text": [
      "/opt/anaconda3/lib/python3.12/site-packages/sklearn/linear_model/_logistic.py:469: ConvergenceWarning: lbfgs failed to converge (status=1):\n",
      "STOP: TOTAL NO. of ITERATIONS REACHED LIMIT.\n",
      "\n",
      "Increase the number of iterations (max_iter) or scale the data as shown in:\n",
      "    https://scikit-learn.org/stable/modules/preprocessing.html\n",
      "Please also refer to the documentation for alternative solver options:\n",
      "    https://scikit-learn.org/stable/modules/linear_model.html#logistic-regression\n",
      "  n_iter_i = _check_optimize_result(\n"
     ]
    },
    {
     "name": "stdout",
     "output_type": "stream",
     "text": [
      "LogisticRegression: F1 Val = 0.336, F1 Train = 0.393, F1 Val-Train = -0.057, Time (s) = 4.14, Avg Iter = 100.0 Best Params = {}\n",
      "\n"
     ]
    },
    {
     "name": "stderr",
     "output_type": "stream",
     "text": [
      "/opt/anaconda3/lib/python3.12/site-packages/sklearn/neural_network/_multilayer_perceptron.py:691: ConvergenceWarning: Stochastic Optimizer: Maximum iterations (200) reached and the optimization hasn't converged yet.\n",
      "  warnings.warn(\n"
     ]
    },
    {
     "name": "stdout",
     "output_type": "stream",
     "text": [
      "NeuralNetworks: F1 Val = 0.356, F1 Train = 0.546, F1 Val-Train = -0.189, Time (s) = 99.50, Avg Iter = 200.0 Best Params = {}\n",
      "\n",
      "RandomForest: F1 Val = 0.351, F1 Train = 0.894, F1 Val-Train = -0.543, Time (s) = 41.08, Avg Iter = 0.0 Best Params = {}\n",
      "\n",
      "XGBoost: F1 Val = 0.379, F1 Train = 0.663, F1 Val-Train = -0.284, Time (s) = 14.01, Avg Iter = 0.0 Best Params = {}\n",
      "\n",
      "--------------------------------------------------------------------------------\n",
      "CV Iteration 6\n",
      "--------------------------------------------------------------------------------\n",
      "\n",
      "Starting Feature Selection:\n",
      "\n",
      "Spearman Correlation - Number of Excluded Features: 2 / 19\n",
      "Spearman Correlation - Excluded Features: {'Average Weekly Wage Category', 'Average Weekly Wage'}\n",
      "Spearman Correlation - Highly Correlated Pairs: [('Average Weekly Wage Category', 'Average Weekly Wage'), ('Age * Avg Weekly Wage', 'Average Weekly Wage'), ('Age * Avg Weekly Wage', 'Average Weekly Wage Category')]\n",
      "\n",
      "RFE - Number of Selected Features: 17 / 23\n",
      "RFE - Selected Features: ['Age at Injury', 'Alternative Dispute Resolution', 'Attorney/Representative', 'Average Weekly Wage', 'County of Injury', 'COVID-19 Indicator', 'Male', 'C-2 Date Missing', 'C-3 Date Missing', 'First Hearing Date Missing', 'Average Weekly Wage Category', 'Age * Avg Weekly Wage', 'Average Weekly Wage by Medical Fee Region', 'Average Weekly Wage by Gender', 'Part of Body Category', 'Nature of Injury Category', 'Cause of Injury Category']\n",
      "\n",
      "Decision Tree - Number of Selected Features: 9 / 23\n",
      "Decision Tree - Selected Features: ['Age at Injury', 'Attorney/Representative', 'Average Weekly Wage', 'County of Injury', 'Industry Code', 'Zip Code', 'Age * Avg Weekly Wage', 'Part of Body Category', 'Cause of Injury Category']\n",
      "\n",
      "Lasso Regression - Number of Selected Features: 10 / 23\n",
      "Lasso Regression - Selected Features: ['Attorney/Representative', 'Average Weekly Wage', 'COVID-19 Indicator', 'District Name', 'C-2 Date Missing', 'First Hearing Date Missing', 'Average Weekly Wage Category', 'Age * Avg Weekly Wage', 'Average Weekly Wage by Medical Fee Region', 'Nature of Injury Category']\n",
      "\n",
      "Majority Voting - Number of Selected Features: 11 / 23\n",
      "Majority Voting - Selected Features: ['Age at Injury', 'Attorney/Representative', 'Average Weekly Wage', 'County of Injury', 'C-2 Date Missing', 'First Hearing Date Missing', 'Age * Avg Weekly Wage', 'Average Weekly Wage by Medical Fee Region', 'Part of Body Category', 'Nature of Injury Category', 'Cause of Injury Category']\n",
      "\n",
      "End of Feature Selection; Starting RandomizedSearch:\n",
      "\n"
     ]
    },
    {
     "name": "stderr",
     "output_type": "stream",
     "text": [
      "/opt/anaconda3/lib/python3.12/site-packages/sklearn/ensemble/_weight_boosting.py:519: FutureWarning: The SAMME.R algorithm (the default) is deprecated and will be removed in 1.6. Use the SAMME algorithm to circumvent this warning.\n",
      "  warnings.warn(\n"
     ]
    },
    {
     "name": "stdout",
     "output_type": "stream",
     "text": [
      "Adaboost: F1 Val = 0.201, F1 Train = 0.348, F1 Val-Train = -0.147, Time (s) = 10.80, Avg Iter = 0.0 Best Params = {}\n",
      "\n",
      "Bagging: F1 Val = 0.333, F1 Train = 0.927, F1 Val-Train = -0.594, Time (s) = 11.77, Avg Iter = 0.0 Best Params = {}\n",
      "\n",
      "DecisionTree: F1 Val = 0.313, F1 Train = 0.938, F1 Val-Train = -0.625, Time (s) = 2.85, Avg Iter = 0.0 Best Params = {}\n",
      "\n",
      "GaussianNB: F1 Val = 0.256, F1 Train = 0.299, F1 Val-Train = -0.043, Time (s) = 0.36, Avg Iter = 0.0 Best Params = {}\n",
      "\n"
     ]
    },
    {
     "name": "stderr",
     "output_type": "stream",
     "text": [
      "/opt/anaconda3/lib/python3.12/site-packages/sklearn/linear_model/_logistic.py:469: ConvergenceWarning: lbfgs failed to converge (status=1):\n",
      "STOP: TOTAL NO. of ITERATIONS REACHED LIMIT.\n",
      "\n",
      "Increase the number of iterations (max_iter) or scale the data as shown in:\n",
      "    https://scikit-learn.org/stable/modules/preprocessing.html\n",
      "Please also refer to the documentation for alternative solver options:\n",
      "    https://scikit-learn.org/stable/modules/linear_model.html#logistic-regression\n",
      "  n_iter_i = _check_optimize_result(\n"
     ]
    },
    {
     "name": "stdout",
     "output_type": "stream",
     "text": [
      "LogisticRegression: F1 Val = 0.339, F1 Train = 0.398, F1 Val-Train = -0.059, Time (s) = 4.23, Avg Iter = 100.0 Best Params = {}\n",
      "\n"
     ]
    },
    {
     "name": "stderr",
     "output_type": "stream",
     "text": [
      "/opt/anaconda3/lib/python3.12/site-packages/sklearn/neural_network/_multilayer_perceptron.py:691: ConvergenceWarning: Stochastic Optimizer: Maximum iterations (200) reached and the optimization hasn't converged yet.\n",
      "  warnings.warn(\n"
     ]
    },
    {
     "name": "stdout",
     "output_type": "stream",
     "text": [
      "NeuralNetworks: F1 Val = 0.363, F1 Train = 0.554, F1 Val-Train = -0.190, Time (s) = 106.50, Avg Iter = 200.0 Best Params = {}\n",
      "\n",
      "RandomForest: F1 Val = 0.344, F1 Train = 0.938, F1 Val-Train = -0.594, Time (s) = 46.34, Avg Iter = 0.0 Best Params = {}\n",
      "\n",
      "XGBoost: F1 Val = 0.370, F1 Train = 0.671, F1 Val-Train = -0.301, Time (s) = 14.37, Avg Iter = 0.0 Best Params = {}\n",
      "\n"
     ]
    },
    {
     "data": {
      "text/html": [
       "<div>\n",
       "<style scoped>\n",
       "    .dataframe tbody tr th:only-of-type {\n",
       "        vertical-align: middle;\n",
       "    }\n",
       "\n",
       "    .dataframe tbody tr th {\n",
       "        vertical-align: top;\n",
       "    }\n",
       "\n",
       "    .dataframe thead th {\n",
       "        text-align: right;\n",
       "    }\n",
       "</style>\n",
       "<table border=\"1\" class=\"dataframe\">\n",
       "  <thead>\n",
       "    <tr style=\"text-align: right;\">\n",
       "      <th></th>\n",
       "      <th>F1 Val</th>\n",
       "      <th>F1 Train</th>\n",
       "      <th>F1 Val-Train</th>\n",
       "      <th>Time (s)</th>\n",
       "      <th>Iterations</th>\n",
       "      <th>Best Params</th>\n",
       "    </tr>\n",
       "  </thead>\n",
       "  <tbody>\n",
       "    <tr>\n",
       "      <th>XGBoost</th>\n",
       "      <td>0.376 +/- 0.01</td>\n",
       "      <td>0.668 +/- 0.01</td>\n",
       "      <td>-0.292 +/- 0.01</td>\n",
       "      <td>14.215 +/- 0.30</td>\n",
       "      <td>0.0 +/- 0.0</td>\n",
       "      <td>None</td>\n",
       "    </tr>\n",
       "    <tr>\n",
       "      <th>NeuralNetworks</th>\n",
       "      <td>0.362 +/- 0.00</td>\n",
       "      <td>0.552 +/- 0.01</td>\n",
       "      <td>-0.191 +/- 0.00</td>\n",
       "      <td>110.674 +/- 11.10</td>\n",
       "      <td>199.8 +/- 0.4</td>\n",
       "      <td>None</td>\n",
       "    </tr>\n",
       "    <tr>\n",
       "      <th>RandomForest</th>\n",
       "      <td>0.353 +/- 0.01</td>\n",
       "      <td>0.918 +/- 0.02</td>\n",
       "      <td>-0.565 +/- 0.02</td>\n",
       "      <td>43.501 +/- 2.23</td>\n",
       "      <td>0.0 +/- 0.0</td>\n",
       "      <td>None</td>\n",
       "    </tr>\n",
       "    <tr>\n",
       "      <th>Bagging</th>\n",
       "      <td>0.343 +/- 0.01</td>\n",
       "      <td>0.908 +/- 0.02</td>\n",
       "      <td>-0.564 +/- 0.02</td>\n",
       "      <td>11.462 +/- 0.56</td>\n",
       "      <td>0.0 +/- 0.0</td>\n",
       "      <td>None</td>\n",
       "    </tr>\n",
       "    <tr>\n",
       "      <th>LogisticRegression</th>\n",
       "      <td>0.339 +/- 0.00</td>\n",
       "      <td>0.404 +/- 0.01</td>\n",
       "      <td>-0.065 +/- 0.01</td>\n",
       "      <td>4.304 +/- 0.19</td>\n",
       "      <td>100.0 +/- 0.0</td>\n",
       "      <td>None</td>\n",
       "    </tr>\n",
       "    <tr>\n",
       "      <th>DecisionTree</th>\n",
       "      <td>0.327 +/- 0.01</td>\n",
       "      <td>0.918 +/- 0.02</td>\n",
       "      <td>-0.591 +/- 0.02</td>\n",
       "      <td>2.444 +/- 0.43</td>\n",
       "      <td>0.0 +/- 0.0</td>\n",
       "      <td>None</td>\n",
       "    </tr>\n",
       "    <tr>\n",
       "      <th>GaussianNB</th>\n",
       "      <td>0.258 +/- 0.00</td>\n",
       "      <td>0.311 +/- 0.01</td>\n",
       "      <td>-0.053 +/- 0.01</td>\n",
       "      <td>0.546 +/- 0.18</td>\n",
       "      <td>0.0 +/- 0.0</td>\n",
       "      <td>None</td>\n",
       "    </tr>\n",
       "    <tr>\n",
       "      <th>Adaboost</th>\n",
       "      <td>0.216 +/- 0.03</td>\n",
       "      <td>0.340 +/- 0.04</td>\n",
       "      <td>-0.124 +/- 0.02</td>\n",
       "      <td>10.707 +/- 0.84</td>\n",
       "      <td>0.0 +/- 0.0</td>\n",
       "      <td>None</td>\n",
       "    </tr>\n",
       "  </tbody>\n",
       "</table>\n",
       "</div>"
      ],
      "text/plain": [
       "                            F1 Val        F1 Train     F1 Val-Train  \\\n",
       "XGBoost             0.376 +/- 0.01  0.668 +/- 0.01  -0.292 +/- 0.01   \n",
       "NeuralNetworks      0.362 +/- 0.00  0.552 +/- 0.01  -0.191 +/- 0.00   \n",
       "RandomForest        0.353 +/- 0.01  0.918 +/- 0.02  -0.565 +/- 0.02   \n",
       "Bagging             0.343 +/- 0.01  0.908 +/- 0.02  -0.564 +/- 0.02   \n",
       "LogisticRegression  0.339 +/- 0.00  0.404 +/- 0.01  -0.065 +/- 0.01   \n",
       "DecisionTree        0.327 +/- 0.01  0.918 +/- 0.02  -0.591 +/- 0.02   \n",
       "GaussianNB          0.258 +/- 0.00  0.311 +/- 0.01  -0.053 +/- 0.01   \n",
       "Adaboost            0.216 +/- 0.03  0.340 +/- 0.04  -0.124 +/- 0.02   \n",
       "\n",
       "                             Time (s)     Iterations Best Params  \n",
       "XGBoost               14.215 +/- 0.30    0.0 +/- 0.0        None  \n",
       "NeuralNetworks      110.674 +/- 11.10  199.8 +/- 0.4        None  \n",
       "RandomForest          43.501 +/- 2.23    0.0 +/- 0.0        None  \n",
       "Bagging               11.462 +/- 0.56    0.0 +/- 0.0        None  \n",
       "LogisticRegression     4.304 +/- 0.19  100.0 +/- 0.0        None  \n",
       "DecisionTree           2.444 +/- 0.43    0.0 +/- 0.0        None  \n",
       "GaussianNB             0.546 +/- 0.18    0.0 +/- 0.0        None  \n",
       "Adaboost              10.707 +/- 0.84    0.0 +/- 0.0        None  "
      ]
     },
     "execution_count": 5,
     "metadata": {},
     "output_type": "execute_result"
    }
   ],
   "source": [
    "# Define default models\n",
    "models_default_parameters = {\n",
    "    \"Adaboost\": {},\n",
    "    \"Bagging\": {},\n",
    "    \"DecisionTree\": {},\n",
    "    # \"GBM\": {},\n",
    "    \"GaussianNB\": {},\n",
    "    \"LogisticRegression\": {},\n",
    "    \"NeuralNetworks\": {},\n",
    "    \"RandomForest\": {},\n",
    "    # \"SVM\": {},\n",
    "    \"XGBoost\": {},\n",
    "}\n",
    "\n",
    "# Using default models to choose which ones to optimize\n",
    "default_models = define_models(models_default_parameters)\n",
    "results, results_df = show_results(default_models, df, feats_dict)\n",
    "results_df"
   ]
  },
  {
   "cell_type": "code",
   "execution_count": 3,
   "metadata": {},
   "outputs": [
    {
     "data": {
      "image/png": "[encoded data removed]",
      "text/plain": [
       "<Figure size 640x480 with 1 Axes>"
      ]
     },
     "metadata": {
      "image/png": {
       "height": 460,
       "width": 579
      }
     },
     "output_type": "display_data"
    }
   ],
   "source": [
    "results_plot(results_df)"
   ]
  },
  {
   "cell_type": "code",
   "execution_count": null,
   "metadata": {},
   "outputs": [
    {
     "data": {
      "text/plain": [
       "['../results/cv_df_default_models.pkl']"
      ]
     },
     "execution_count": 5,
     "metadata": {},
     "output_type": "execute_result"
    }
   ],
   "source": [
    "# Save the returned dictionary in the 'results' folder\n",
    "joblib.dump(results, '../results/cv_dict_default_models.pkl')\n",
    "\n",
    "# Save the returned DataFrame in the 'results' folder\n",
    "joblib.dump(results_df, '../results/cv_df_default_models.pkl')"
   ]
  },
  {
   "cell_type": "markdown",
   "metadata": {},
   "source": [
    "**Best Default Models:** XGBoost, NeuralNetworks, RandomForest, Bagging\n",
    "- the overfitting will probably decrease with hyperparameter tuning (so, we are ignoring it for now)\n",
    "- some of the others will be tried as simple models for stacking"
   ]
  }
 ],
 "metadata": {
  "kernelspec": {
   "display_name": "base",
   "language": "python",
   "name": "python3"
  },
  "language_info": {
   "codemirror_mode": {
    "name": "ipython",
    "version": 3
   },
   "file_extension": ".py",
   "mimetype": "text/x-python",
   "name": "python",
   "nbconvert_exporter": "python",
   "pygments_lexer": "ipython3",
   "version": "3.12.4"
  },
  "varInspector": {
   "cols": {
    "lenName": 16,
    "lenType": 16,
    "lenVar": 40
   },
   "kernels_config": {
    "python": {
     "delete_cmd_postfix": "",
     "delete_cmd_prefix": "del ",
     "library": "var_list.py",
     "varRefreshCmd": "print(var_dic_list())"
    },
    "r": {
     "delete_cmd_postfix": ") ",
     "delete_cmd_prefix": "rm(",
     "library": "var_list.r",
     "varRefreshCmd": "cat(var_dic_list()) "
    }
   },
   "types_to_exclude": [
    "module",
    "function",
    "builtin_function_or_method",
    "instance",
    "_Feature"
   ],
   "window_display": false
  }
 },
 "nbformat": 4,
 "nbformat_minor": 4
}
